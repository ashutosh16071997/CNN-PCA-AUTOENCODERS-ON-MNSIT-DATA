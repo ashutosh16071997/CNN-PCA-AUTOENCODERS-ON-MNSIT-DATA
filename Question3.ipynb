{
  "nbformat": 4,
  "nbformat_minor": 0,
  "metadata": {
    "colab": {
      "name": "Question3",
      "provenance": [],
      "collapsed_sections": [],
      "toc_visible": true
    },
    "kernelspec": {
      "display_name": "Python 3",
      "name": "python3"
    }
  },
  "cells": [
    {
      "cell_type": "code",
      "metadata": {
        "id": "E0MrgT-iT87x"
      },
      "source": [
        "import tensorflow as tf\n",
        "import numpy as np\n",
        "import pandas as pd\n",
        "import matplotlib.pyplot as plt\n",
        "import os\n",
        "import time\n",
        "import matplotlib.pyplot as plt\n",
        "from tensorflow import keras\n",
        "import numpy as np\n",
        "from keras.models import Sequential\n",
        "from keras.layers import Dense\n",
        "from keras.layers import Dropout\n",
        "from keras.layers import Flatten\n",
        "from keras.constraints import maxnorm\n",
        "from keras.optimizers import SGD\n",
        "from keras.optimizers import Adam\n",
        "from keras.optimizers import RMSprop\n",
        "from keras.layers import Activation\n",
        "from keras.layers.convolutional import Conv2D\n",
        "from keras.layers.convolutional import ZeroPadding2D\n",
        "from keras.layers.convolutional import MaxPooling2D\n",
        "from keras.layers.normalization import BatchNormalization\n",
        "from keras.utils import np_utils\n",
        "import pickle\n",
        "\n",
        "# Import Tensorflow with multiprocessing\n",
        "import tensorflow as tf\n",
        "import multiprocessing as mp\n",
        "from keras import regularizers\n",
        "\n",
        "# Loading the CIFAR-10 datasets\n",
        "from keras.datasets import cifar10\n",
        "from keras.datasets import mnist\n",
        "\n"
      ],
      "execution_count": 46,
      "outputs": []
    },
    {
      "cell_type": "code",
      "metadata": {
        "colab": {
          "base_uri": "https://localhost:8080/"
        },
        "id": "m7yMThfaUGKT",
        "outputId": "133dd8cd-23b1-41a1-b3d6-c1eab2460e09"
      },
      "source": [
        "from keras.datasets import mnist\n",
        "import numpy as np\n",
        "(x_train, y_train), (x_test, y_test) = mnist.load_data()\n",
        "x_train = x_train.astype('float32') / 255.\n",
        "x_test = x_test.astype('float32') / 255.\n",
        "x_train = x_train.reshape((len(x_train), np.prod(x_train.shape[1:])))\n",
        "x_test = x_test.reshape((len(x_test), np.prod(x_test.shape[1:])))\n",
        "print(x_train.shape)\n",
        "print(x_test.shape)\n",
        "X_train = x_train\n",
        "X_test = x_test\n",
        "Y_train = y_train\n",
        "Y_test = y_test"
      ],
      "execution_count": 47,
      "outputs": [
        {
          "output_type": "stream",
          "text": [
            "(60000, 784)\n",
            "(10000, 784)\n"
          ],
          "name": "stdout"
        }
      ]
    },
    {
      "cell_type": "code",
      "metadata": {
        "id": "C4e3Ms4IYYA4"
      },
      "source": [
        "noofclasses = 10\n",
        "def y_train_categorical(Y_train,numberofclasses):\n",
        "  Y_train = np_utils.to_categorical(Y_train,numberofclasses)\n",
        "  return Y_train\n",
        "def y_test_categorical(Y_test,numberofclasses):\n",
        "  Y_test = np_utils.to_categorical(Y_test,numberofclasses)\n",
        "  return Y_test\n",
        "Y_train = y_train_categorical(Y_train,10)\n",
        "Y_test = y_test_categorical(Y_test,10)\n"
      ],
      "execution_count": 48,
      "outputs": []
    },
    {
      "cell_type": "code",
      "metadata": {
        "id": "D8Ec8v2wcPre"
      },
      "source": [
        "X_train /= 255\n",
        "X_test /= 255"
      ],
      "execution_count": 49,
      "outputs": []
    },
    {
      "cell_type": "markdown",
      "metadata": {
        "id": "QygKhIcmYt44"
      },
      "source": [
        "# **PART 1**"
      ]
    },
    {
      "cell_type": "markdown",
      "metadata": {
        "id": "-ac4C_idZZH1"
      },
      "source": [
        "##  **USING ADAM**"
      ]
    },
    {
      "cell_type": "code",
      "metadata": {
        "colab": {
          "base_uri": "https://localhost:8080/"
        },
        "id": "gF9DlRkeYzAa",
        "outputId": "b785899b-eeec-4748-f244-dc369a3948c0"
      },
      "source": [
        "def base_model():\n",
        "  model = Sequential()\n",
        "  model.add(Dense(350, input_dim=784, activation='relu'))\n",
        "  model.add(Dense(50, activation='relu'))\n",
        "  model.add(Dense(10, activation='softmax')) \n",
        "  model.compile(loss='categorical_crossentropy', optimizer='adam', metrics=['accuracy'])\n",
        "  return model \n",
        "mlp = base_model()\n",
        "history = mlp.fit(X_train, Y_train, batch_size=250, epochs=30, verbose=2, validation_split=0.2)"
      ],
      "execution_count": 50,
      "outputs": [
        {
          "output_type": "stream",
          "text": [
            "Epoch 1/30\n",
            "192/192 - 3s - loss: 1.6684 - accuracy: 0.4694 - val_loss: 0.9288 - val_accuracy: 0.7243\n",
            "Epoch 2/30\n",
            "192/192 - 2s - loss: 0.7559 - accuracy: 0.7696 - val_loss: 0.6001 - val_accuracy: 0.8253\n",
            "Epoch 3/30\n",
            "192/192 - 2s - loss: 0.5591 - accuracy: 0.8322 - val_loss: 0.4697 - val_accuracy: 0.8648\n",
            "Epoch 4/30\n",
            "192/192 - 2s - loss: 0.4553 - accuracy: 0.8673 - val_loss: 0.3970 - val_accuracy: 0.8867\n",
            "Epoch 5/30\n",
            "192/192 - 2s - loss: 0.3929 - accuracy: 0.8871 - val_loss: 0.3531 - val_accuracy: 0.8999\n",
            "Epoch 6/30\n",
            "192/192 - 2s - loss: 0.3580 - accuracy: 0.8966 - val_loss: 0.3271 - val_accuracy: 0.9052\n",
            "Epoch 7/30\n",
            "192/192 - 2s - loss: 0.3340 - accuracy: 0.9040 - val_loss: 0.3078 - val_accuracy: 0.9113\n",
            "Epoch 8/30\n",
            "192/192 - 2s - loss: 0.3179 - accuracy: 0.9088 - val_loss: 0.2940 - val_accuracy: 0.9144\n",
            "Epoch 9/30\n",
            "192/192 - 2s - loss: 0.3033 - accuracy: 0.9128 - val_loss: 0.2834 - val_accuracy: 0.9178\n",
            "Epoch 10/30\n",
            "192/192 - 2s - loss: 0.2907 - accuracy: 0.9162 - val_loss: 0.2728 - val_accuracy: 0.9215\n",
            "Epoch 11/30\n",
            "192/192 - 2s - loss: 0.2789 - accuracy: 0.9194 - val_loss: 0.2649 - val_accuracy: 0.9252\n",
            "Epoch 12/30\n",
            "192/192 - 2s - loss: 0.2697 - accuracy: 0.9222 - val_loss: 0.2569 - val_accuracy: 0.9271\n",
            "Epoch 13/30\n",
            "192/192 - 2s - loss: 0.2599 - accuracy: 0.9246 - val_loss: 0.2461 - val_accuracy: 0.9299\n",
            "Epoch 14/30\n",
            "192/192 - 2s - loss: 0.2499 - accuracy: 0.9272 - val_loss: 0.2389 - val_accuracy: 0.9327\n",
            "Epoch 15/30\n",
            "192/192 - 2s - loss: 0.2405 - accuracy: 0.9306 - val_loss: 0.2286 - val_accuracy: 0.9348\n",
            "Epoch 16/30\n",
            "192/192 - 2s - loss: 0.2310 - accuracy: 0.9328 - val_loss: 0.2226 - val_accuracy: 0.9368\n",
            "Epoch 17/30\n",
            "192/192 - 2s - loss: 0.2215 - accuracy: 0.9353 - val_loss: 0.2161 - val_accuracy: 0.9388\n",
            "Epoch 18/30\n",
            "192/192 - 2s - loss: 0.2140 - accuracy: 0.9377 - val_loss: 0.2098 - val_accuracy: 0.9398\n",
            "Epoch 19/30\n",
            "192/192 - 2s - loss: 0.2056 - accuracy: 0.9405 - val_loss: 0.2017 - val_accuracy: 0.9430\n",
            "Epoch 20/30\n",
            "192/192 - 2s - loss: 0.1982 - accuracy: 0.9432 - val_loss: 0.1951 - val_accuracy: 0.9452\n",
            "Epoch 21/30\n",
            "192/192 - 2s - loss: 0.1913 - accuracy: 0.9450 - val_loss: 0.1914 - val_accuracy: 0.9451\n",
            "Epoch 22/30\n",
            "192/192 - 2s - loss: 0.1842 - accuracy: 0.9470 - val_loss: 0.1837 - val_accuracy: 0.9483\n",
            "Epoch 23/30\n",
            "192/192 - 2s - loss: 0.1766 - accuracy: 0.9491 - val_loss: 0.1819 - val_accuracy: 0.9493\n",
            "Epoch 24/30\n",
            "192/192 - 2s - loss: 0.1703 - accuracy: 0.9508 - val_loss: 0.1764 - val_accuracy: 0.9509\n",
            "Epoch 25/30\n",
            "192/192 - 2s - loss: 0.1634 - accuracy: 0.9531 - val_loss: 0.1765 - val_accuracy: 0.9511\n",
            "Epoch 26/30\n",
            "192/192 - 2s - loss: 0.1587 - accuracy: 0.9546 - val_loss: 0.1671 - val_accuracy: 0.9526\n",
            "Epoch 27/30\n",
            "192/192 - 2s - loss: 0.1522 - accuracy: 0.9562 - val_loss: 0.1600 - val_accuracy: 0.9551\n",
            "Epoch 28/30\n",
            "192/192 - 2s - loss: 0.1469 - accuracy: 0.9575 - val_loss: 0.1560 - val_accuracy: 0.9549\n",
            "Epoch 29/30\n",
            "192/192 - 2s - loss: 0.1420 - accuracy: 0.9587 - val_loss: 0.1557 - val_accuracy: 0.9554\n",
            "Epoch 30/30\n",
            "192/192 - 2s - loss: 0.1368 - accuracy: 0.9603 - val_loss: 0.1513 - val_accuracy: 0.9567\n"
          ],
          "name": "stdout"
        }
      ]
    },
    {
      "cell_type": "code",
      "metadata": {
        "colab": {
          "base_uri": "https://localhost:8080/",
          "height": 299
        },
        "id": "KuyYXBUfhVtl",
        "outputId": "73cdcfc9-1ed0-4e7a-a7c3-4969f3a9fc05"
      },
      "source": [
        "import matplotlib\n",
        "import matplotlib.pyplot as plt\n",
        "%matplotlib inline\n",
        "# construct a plot that plots and displays the training history\n",
        "N = np.arange(0, 30)\n",
        "plt.style.use('ggplot')\n",
        "plt.figure()\n",
        "plt.plot(N, history.history['loss'], label='train_loss')\n",
        "plt.plot(N, history.history['val_loss'], label='val_loss')\n",
        "plt.title('Training Loss and Accuracy')\n",
        "plt.xlabel('Epoch #')\n",
        "plt.ylabel('Loss/Accuracy')\n",
        "plt.legend(loc='lower left')\n",
        "# plt.savefig(plot)\n",
        "plt.show(block=True)"
      ],
      "execution_count": 52,
      "outputs": [
        {
          "output_type": "display_data",
          "data": {
            "image/png": "[encoded data removed]",
            "text/plain": [
              "<Figure size 432x288 with 1 Axes>"
            ]
          },
          "metadata": {
            "tags": []
          }
        }
      ]
    },
    {
      "cell_type": "code",
      "metadata": {
        "id": "nICcRKk_hx-m"
      },
      "source": [
        "decoded_imgs = mlp.predict(X_train)\n",
        "\n"
      ],
      "execution_count": null,
      "outputs": []
    },
    {
      "cell_type": "code",
      "metadata": {
        "colab": {
          "base_uri": "https://localhost:8080/"
        },
        "id": "ST-YtaFQiF_N",
        "outputId": "2e99d303-a6a4-4f8b-bd07-086295f4938b"
      },
      "source": [
        "test_results = mlp.evaluate(X_test, Y_test, verbose=1)\n",
        "print(f'Test results - Loss: {test_results[0]} - Accuracy: {test_results[1]}%')"
      ],
      "execution_count": 53,
      "outputs": [
        {
          "output_type": "stream",
          "text": [
            "313/313 [==============================] - 1s 3ms/step - loss: 0.1508 - accuracy: 0.9552\n",
            "Test results - Loss: 0.15080922842025757 - Accuracy: 0.9552000164985657%\n"
          ],
          "name": "stdout"
        }
      ]
    },
    {
      "cell_type": "markdown",
      "metadata": {
        "id": "p-hctjPAicxd"
      },
      "source": [
        "## **USING RMSprop**"
      ]
    },
    {
      "cell_type": "code",
      "metadata": {
        "colab": {
          "base_uri": "https://localhost:8080/"
        },
        "id": "-Jtw2pZ_ikx7",
        "outputId": "ba3d0f6d-dd6d-42d4-ca1e-7b91e563ec27"
      },
      "source": [
        "def base_model():\n",
        "  model = Sequential()\n",
        "  model.add(Dense(350, input_dim=784, activation='relu'))\n",
        "  model.add(Dense(50, activation='relu'))\n",
        "  model.add(Dense(10, activation='softmax')) \n",
        "  model.compile(loss='categorical_crossentropy', optimizer='RMSprop', metrics=['accuracy'])\n",
        "  return model \n",
        "mlp = base_model()\n",
        "history = mlp.fit(X_train, Y_train, batch_size=250, epochs=30, verbose=2, validation_split=0.2)"
      ],
      "execution_count": null,
      "outputs": [
        {
          "output_type": "stream",
          "text": [
            "Epoch 1/20\n",
            "192/192 - 3s - loss: 1.7027 - accuracy: 0.5026 - val_loss: 1.0623 - val_accuracy: 0.6862\n",
            "Epoch 2/20\n",
            "192/192 - 2s - loss: 0.8195 - accuracy: 0.7631 - val_loss: 0.6110 - val_accuracy: 0.8344\n",
            "Epoch 3/20\n",
            "192/192 - 2s - loss: 0.5378 - accuracy: 0.8487 - val_loss: 0.4316 - val_accuracy: 0.8836\n",
            "Epoch 4/20\n",
            "192/192 - 2s - loss: 0.4197 - accuracy: 0.8808 - val_loss: 0.3656 - val_accuracy: 0.8967\n",
            "Epoch 5/20\n",
            "192/192 - 2s - loss: 0.3726 - accuracy: 0.8944 - val_loss: 0.3380 - val_accuracy: 0.9038\n",
            "Epoch 6/20\n",
            "192/192 - 2s - loss: 0.3479 - accuracy: 0.9002 - val_loss: 0.3126 - val_accuracy: 0.9078\n",
            "Epoch 7/20\n",
            "192/192 - 2s - loss: 0.3301 - accuracy: 0.9046 - val_loss: 0.3012 - val_accuracy: 0.9143\n",
            "Epoch 8/20\n",
            "192/192 - 2s - loss: 0.3147 - accuracy: 0.9095 - val_loss: 0.2876 - val_accuracy: 0.9178\n",
            "Epoch 9/20\n",
            "192/192 - 2s - loss: 0.3012 - accuracy: 0.9126 - val_loss: 0.2904 - val_accuracy: 0.9164\n",
            "Epoch 10/20\n",
            "192/192 - 2s - loss: 0.2882 - accuracy: 0.9172 - val_loss: 0.2628 - val_accuracy: 0.9229\n",
            "Epoch 11/20\n",
            "192/192 - 2s - loss: 0.2761 - accuracy: 0.9209 - val_loss: 0.2571 - val_accuracy: 0.9287\n",
            "Epoch 12/20\n",
            "192/192 - 2s - loss: 0.2647 - accuracy: 0.9235 - val_loss: 0.2502 - val_accuracy: 0.9288\n",
            "Epoch 13/20\n",
            "192/192 - 2s - loss: 0.2536 - accuracy: 0.9268 - val_loss: 0.2353 - val_accuracy: 0.9320\n",
            "Epoch 14/20\n",
            "192/192 - 2s - loss: 0.2423 - accuracy: 0.9297 - val_loss: 0.2344 - val_accuracy: 0.9336\n",
            "Epoch 15/20\n",
            "192/192 - 2s - loss: 0.2320 - accuracy: 0.9327 - val_loss: 0.2184 - val_accuracy: 0.9398\n",
            "Epoch 16/20\n",
            "192/192 - 2s - loss: 0.2219 - accuracy: 0.9356 - val_loss: 0.2109 - val_accuracy: 0.9427\n",
            "Epoch 17/20\n",
            "192/192 - 2s - loss: 0.2122 - accuracy: 0.9383 - val_loss: 0.2036 - val_accuracy: 0.9441\n",
            "Epoch 18/20\n",
            "192/192 - 2s - loss: 0.2034 - accuracy: 0.9408 - val_loss: 0.1953 - val_accuracy: 0.9458\n",
            "Epoch 19/20\n",
            "192/192 - 2s - loss: 0.1942 - accuracy: 0.9439 - val_loss: 0.1911 - val_accuracy: 0.9473\n",
            "Epoch 20/20\n",
            "192/192 - 2s - loss: 0.1861 - accuracy: 0.9457 - val_loss: 0.1888 - val_accuracy: 0.9469\n"
          ],
          "name": "stdout"
        }
      ]
    },
    {
      "cell_type": "code",
      "metadata": {
        "colab": {
          "base_uri": "https://localhost:8080/",
          "height": 299
        },
        "id": "OJrAdjTrjxjU",
        "outputId": "8aabbf32-8aab-4ad5-d939-9acb1f6e4e67"
      },
      "source": [
        "import matplotlib\n",
        "import matplotlib.pyplot as plt\n",
        "%matplotlib inline\n",
        "# construct a plot that plots and displays the training history\n",
        "N = np.arange(0, 20)\n",
        "plt.style.use('ggplot')\n",
        "plt.figure()\n",
        "plt.plot(N, history.history['loss'], label='train_loss')\n",
        "plt.plot(N, history.history['val_loss'], label='val_loss')\n",
        "plt.title('Training Loss and Accuracy')\n",
        "plt.xlabel('Epoch #')\n",
        "plt.ylabel('Loss/Accuracy')\n",
        "plt.legend(loc='lower left')\n",
        "# plt.savefig(plot)\n",
        "plt.show(block=True)"
      ],
      "execution_count": null,
      "outputs": [
        {
          "output_type": "display_data",
          "data": {
            "image/png": "[encoded data removed]",
            "text/plain": [
              "<Figure size 432x288 with 1 Axes>"
            ]
          },
          "metadata": {
            "tags": []
          }
        }
      ]
    },
    {
      "cell_type": "code",
      "metadata": {
        "colab": {
          "base_uri": "https://localhost:8080/"
        },
        "id": "eydEkmGcj09_",
        "outputId": "7ed89349-885d-4fbc-8107-3efb62d0f8d3"
      },
      "source": [
        "test_results = mlp.evaluate(X_test, Y_test, verbose=1)\n",
        "print(f'Test results - Loss: {test_results[0]} - Accuracy: {test_results[1]}%')"
      ],
      "execution_count": null,
      "outputs": [
        {
          "output_type": "stream",
          "text": [
            "313/313 [==============================] - 1s 2ms/step - loss: 0.1899 - accuracy: 0.9445\n",
            "Test results - Loss: 0.18986323475837708 - Accuracy: 0.9445000290870667%\n"
          ],
          "name": "stdout"
        }
      ]
    },
    {
      "cell_type": "markdown",
      "metadata": {
        "id": "Z9419rnij6f4"
      },
      "source": [
        "## **USING SGD WITH MOMENTUM**"
      ]
    },
    {
      "cell_type": "code",
      "metadata": {
        "colab": {
          "base_uri": "https://localhost:8080/"
        },
        "id": "TN3uAQREj_Nu",
        "outputId": "3ca5a100-be2f-46a7-8d76-531d059a85f2"
      },
      "source": [
        "def base_model():\n",
        "  model = Sequential()\n",
        "  model.add(Dense(350, input_dim=784, activation='relu'))\n",
        "  model.add(Dense(50, activation='relu'))\n",
        "  model.add(Dense(10, activation='softmax')) \n",
        "  sgd = SGD(lr = 0.01, decay=1e-6, momentum=0.9 ,nesterov=True)\n",
        "  model.compile(loss='categorical_crossentropy', optimizer=sgd, metrics=['accuracy'])\n",
        "  return model \n",
        "mlp = base_model()\n",
        "history = mlp.fit(X_train, Y_train, batch_size=250, epochs=100, verbose=2, validation_split=0.2)"
      ],
      "execution_count": null,
      "outputs": [
        {
          "output_type": "stream",
          "text": [
            "Epoch 1/100\n",
            "192/192 - 2s - loss: 2.2994 - accuracy: 0.1205 - val_loss: 2.2997 - val_accuracy: 0.1060\n",
            "Epoch 2/100\n",
            "192/192 - 2s - loss: 2.2985 - accuracy: 0.1140 - val_loss: 2.2991 - val_accuracy: 0.1060\n",
            "Epoch 3/100\n",
            "192/192 - 2s - loss: 2.2979 - accuracy: 0.1140 - val_loss: 2.2984 - val_accuracy: 0.1060\n",
            "Epoch 4/100\n",
            "192/192 - 2s - loss: 2.2974 - accuracy: 0.1140 - val_loss: 2.2980 - val_accuracy: 0.1060\n",
            "Epoch 5/100\n",
            "192/192 - 2s - loss: 2.2967 - accuracy: 0.1140 - val_loss: 2.2970 - val_accuracy: 0.1060\n",
            "Epoch 6/100\n",
            "192/192 - 2s - loss: 2.2958 - accuracy: 0.1140 - val_loss: 2.2962 - val_accuracy: 0.1265\n",
            "Epoch 7/100\n",
            "192/192 - 2s - loss: 2.2952 - accuracy: 0.1168 - val_loss: 2.2954 - val_accuracy: 0.1060\n",
            "Epoch 8/100\n",
            "192/192 - 2s - loss: 2.2942 - accuracy: 0.1168 - val_loss: 2.2948 - val_accuracy: 0.1060\n",
            "Epoch 9/100\n",
            "192/192 - 2s - loss: 2.2932 - accuracy: 0.1140 - val_loss: 2.2932 - val_accuracy: 0.1060\n",
            "Epoch 10/100\n",
            "192/192 - 2s - loss: 2.2920 - accuracy: 0.1141 - val_loss: 2.2919 - val_accuracy: 0.1060\n",
            "Epoch 11/100\n",
            "192/192 - 2s - loss: 2.2906 - accuracy: 0.1140 - val_loss: 2.2907 - val_accuracy: 0.1060\n",
            "Epoch 12/100\n",
            "192/192 - 2s - loss: 2.2890 - accuracy: 0.1142 - val_loss: 2.2888 - val_accuracy: 0.1060\n",
            "Epoch 13/100\n",
            "192/192 - 2s - loss: 2.2873 - accuracy: 0.1176 - val_loss: 2.2872 - val_accuracy: 0.1060\n",
            "Epoch 14/100\n",
            "192/192 - 2s - loss: 2.2850 - accuracy: 0.1267 - val_loss: 2.2844 - val_accuracy: 0.1060\n",
            "Epoch 15/100\n",
            "192/192 - 2s - loss: 2.2823 - accuracy: 0.1193 - val_loss: 2.2812 - val_accuracy: 0.1469\n",
            "Epoch 16/100\n",
            "192/192 - 2s - loss: 2.2791 - accuracy: 0.1329 - val_loss: 2.2774 - val_accuracy: 0.1070\n",
            "Epoch 17/100\n",
            "192/192 - 2s - loss: 2.2748 - accuracy: 0.1525 - val_loss: 2.2726 - val_accuracy: 0.1623\n",
            "Epoch 18/100\n",
            "192/192 - 2s - loss: 2.2697 - accuracy: 0.1715 - val_loss: 2.2676 - val_accuracy: 0.1852\n",
            "Epoch 19/100\n",
            "192/192 - 2s - loss: 2.2631 - accuracy: 0.1877 - val_loss: 2.2594 - val_accuracy: 0.2395\n",
            "Epoch 20/100\n",
            "192/192 - 2s - loss: 2.2546 - accuracy: 0.2212 - val_loss: 2.2488 - val_accuracy: 0.3444\n",
            "Epoch 21/100\n",
            "192/192 - 2s - loss: 2.2431 - accuracy: 0.2663 - val_loss: 2.2359 - val_accuracy: 0.2013\n",
            "Epoch 22/100\n",
            "192/192 - 2s - loss: 2.2274 - accuracy: 0.2973 - val_loss: 2.2160 - val_accuracy: 0.3665\n",
            "Epoch 23/100\n",
            "192/192 - 2s - loss: 2.2055 - accuracy: 0.3327 - val_loss: 2.1919 - val_accuracy: 0.2608\n",
            "Epoch 24/100\n",
            "192/192 - 2s - loss: 2.1749 - accuracy: 0.3363 - val_loss: 2.1545 - val_accuracy: 0.3837\n",
            "Epoch 25/100\n",
            "192/192 - 2s - loss: 2.1325 - accuracy: 0.3707 - val_loss: 2.1012 - val_accuracy: 0.3828\n",
            "Epoch 26/100\n",
            "192/192 - 2s - loss: 2.0725 - accuracy: 0.3812 - val_loss: 2.0312 - val_accuracy: 0.3888\n",
            "Epoch 27/100\n",
            "192/192 - 2s - loss: 1.9939 - accuracy: 0.3959 - val_loss: 1.9432 - val_accuracy: 0.4408\n",
            "Epoch 28/100\n",
            "192/192 - 2s - loss: 1.8998 - accuracy: 0.4173 - val_loss: 1.8393 - val_accuracy: 0.4176\n",
            "Epoch 29/100\n",
            "192/192 - 2s - loss: 1.8005 - accuracy: 0.4457 - val_loss: 1.7943 - val_accuracy: 0.3789\n",
            "Epoch 30/100\n",
            "192/192 - 2s - loss: 1.7362 - accuracy: 0.4392 - val_loss: 1.7704 - val_accuracy: 0.3828\n",
            "Epoch 31/100\n",
            "192/192 - 2s - loss: 1.6969 - accuracy: 0.4412 - val_loss: 1.5630 - val_accuracy: 0.4868\n",
            "Epoch 32/100\n",
            "192/192 - 2s - loss: 1.6148 - accuracy: 0.4698 - val_loss: 1.5933 - val_accuracy: 0.4835\n",
            "Epoch 33/100\n",
            "192/192 - 2s - loss: 1.5710 - accuracy: 0.4861 - val_loss: 1.4249 - val_accuracy: 0.5606\n",
            "Epoch 34/100\n",
            "192/192 - 2s - loss: 1.4881 - accuracy: 0.5104 - val_loss: 1.4094 - val_accuracy: 0.5789\n",
            "Epoch 35/100\n",
            "192/192 - 2s - loss: 1.4210 - accuracy: 0.5348 - val_loss: 1.7976 - val_accuracy: 0.3447\n",
            "Epoch 36/100\n",
            "192/192 - 2s - loss: 1.4132 - accuracy: 0.5262 - val_loss: 1.2766 - val_accuracy: 0.6048\n",
            "Epoch 37/100\n",
            "192/192 - 2s - loss: 1.3535 - accuracy: 0.5510 - val_loss: 1.3739 - val_accuracy: 0.5207\n",
            "Epoch 38/100\n",
            "192/192 - 2s - loss: 1.2940 - accuracy: 0.5636 - val_loss: 1.4538 - val_accuracy: 0.5057\n",
            "Epoch 39/100\n",
            "192/192 - 2s - loss: 1.2635 - accuracy: 0.5701 - val_loss: 1.0816 - val_accuracy: 0.6700\n",
            "Epoch 40/100\n",
            "192/192 - 2s - loss: 1.1468 - accuracy: 0.6043 - val_loss: 1.0502 - val_accuracy: 0.6578\n",
            "Epoch 41/100\n",
            "192/192 - 2s - loss: 1.2196 - accuracy: 0.5549 - val_loss: 1.0144 - val_accuracy: 0.6708\n",
            "Epoch 42/100\n",
            "192/192 - 2s - loss: 1.1740 - accuracy: 0.5662 - val_loss: 1.0111 - val_accuracy: 0.6612\n",
            "Epoch 43/100\n",
            "192/192 - 2s - loss: 1.1950 - accuracy: 0.5698 - val_loss: 1.3735 - val_accuracy: 0.4408\n",
            "Epoch 44/100\n",
            "192/192 - 2s - loss: 1.1313 - accuracy: 0.5849 - val_loss: 1.1320 - val_accuracy: 0.6172\n",
            "Epoch 45/100\n",
            "192/192 - 2s - loss: 1.1534 - accuracy: 0.5791 - val_loss: 2.3748 - val_accuracy: 0.3642\n",
            "Epoch 46/100\n",
            "192/192 - 2s - loss: 1.0835 - accuracy: 0.6072 - val_loss: 0.9767 - val_accuracy: 0.6829\n",
            "Epoch 47/100\n",
            "192/192 - 2s - loss: 1.1455 - accuracy: 0.6003 - val_loss: 0.9722 - val_accuracy: 0.6603\n",
            "Epoch 48/100\n",
            "192/192 - 2s - loss: 1.0053 - accuracy: 0.6421 - val_loss: 0.9048 - val_accuracy: 0.7116\n",
            "Epoch 49/100\n",
            "192/192 - 2s - loss: 1.0846 - accuracy: 0.6100 - val_loss: 0.9001 - val_accuracy: 0.7104\n",
            "Epoch 50/100\n",
            "192/192 - 2s - loss: 0.9829 - accuracy: 0.6480 - val_loss: 0.9534 - val_accuracy: 0.6808\n",
            "Epoch 51/100\n",
            "192/192 - 2s - loss: 1.0552 - accuracy: 0.6493 - val_loss: 0.9062 - val_accuracy: 0.6743\n",
            "Epoch 52/100\n",
            "192/192 - 2s - loss: 0.9995 - accuracy: 0.6473 - val_loss: 0.8251 - val_accuracy: 0.7494\n",
            "Epoch 53/100\n",
            "192/192 - 2s - loss: 0.9766 - accuracy: 0.6593 - val_loss: 0.8213 - val_accuracy: 0.7473\n",
            "Epoch 54/100\n",
            "192/192 - 2s - loss: 0.9309 - accuracy: 0.6764 - val_loss: 0.8618 - val_accuracy: 0.6894\n",
            "Epoch 55/100\n",
            "192/192 - 2s - loss: 0.9336 - accuracy: 0.6692 - val_loss: 0.9550 - val_accuracy: 0.6446\n",
            "Epoch 56/100\n",
            "192/192 - 2s - loss: 0.9165 - accuracy: 0.6839 - val_loss: 0.7532 - val_accuracy: 0.7659\n",
            "Epoch 57/100\n",
            "192/192 - 2s - loss: 0.8833 - accuracy: 0.6969 - val_loss: 0.9350 - val_accuracy: 0.6603\n",
            "Epoch 58/100\n",
            "192/192 - 2s - loss: 0.8791 - accuracy: 0.6975 - val_loss: 0.7346 - val_accuracy: 0.7731\n",
            "Epoch 59/100\n",
            "192/192 - 2s - loss: 0.8753 - accuracy: 0.7051 - val_loss: 0.7252 - val_accuracy: 0.7845\n",
            "Epoch 60/100\n",
            "192/192 - 2s - loss: 0.8268 - accuracy: 0.7234 - val_loss: 0.7997 - val_accuracy: 0.7181\n",
            "Epoch 61/100\n",
            "192/192 - 2s - loss: 0.8116 - accuracy: 0.7264 - val_loss: 0.7473 - val_accuracy: 0.7555\n",
            "Epoch 62/100\n",
            "192/192 - 2s - loss: 0.8191 - accuracy: 0.7257 - val_loss: 0.6955 - val_accuracy: 0.7892\n",
            "Epoch 63/100\n",
            "192/192 - 2s - loss: 0.8583 - accuracy: 0.7216 - val_loss: 0.7707 - val_accuracy: 0.7337\n",
            "Epoch 64/100\n",
            "192/192 - 2s - loss: 0.7753 - accuracy: 0.7422 - val_loss: 0.7027 - val_accuracy: 0.7727\n",
            "Epoch 65/100\n",
            "192/192 - 2s - loss: 0.7630 - accuracy: 0.7473 - val_loss: 0.7855 - val_accuracy: 0.7373\n",
            "Epoch 66/100\n",
            "192/192 - 2s - loss: 0.7484 - accuracy: 0.7513 - val_loss: 0.9381 - val_accuracy: 0.6458\n",
            "Epoch 67/100\n",
            "192/192 - 2s - loss: 0.7349 - accuracy: 0.7573 - val_loss: 0.6497 - val_accuracy: 0.7889\n",
            "Epoch 68/100\n",
            "192/192 - 2s - loss: 0.7334 - accuracy: 0.7582 - val_loss: 0.8590 - val_accuracy: 0.7027\n",
            "Epoch 69/100\n",
            "192/192 - 2s - loss: 0.7165 - accuracy: 0.7646 - val_loss: 0.6767 - val_accuracy: 0.7799\n",
            "Epoch 70/100\n",
            "192/192 - 2s - loss: 0.7289 - accuracy: 0.7576 - val_loss: 0.7854 - val_accuracy: 0.7181\n",
            "Epoch 71/100\n",
            "192/192 - 2s - loss: 0.7055 - accuracy: 0.7687 - val_loss: 0.6126 - val_accuracy: 0.8138\n",
            "Epoch 72/100\n",
            "192/192 - 2s - loss: 0.6985 - accuracy: 0.7716 - val_loss: 0.5895 - val_accuracy: 0.8222\n",
            "Epoch 73/100\n",
            "192/192 - 2s - loss: 0.6799 - accuracy: 0.7788 - val_loss: 0.5965 - val_accuracy: 0.8111\n",
            "Epoch 74/100\n",
            "192/192 - 2s - loss: 0.6949 - accuracy: 0.7716 - val_loss: 0.6780 - val_accuracy: 0.7737\n",
            "Epoch 75/100\n",
            "192/192 - 2s - loss: 0.6916 - accuracy: 0.7748 - val_loss: 0.6650 - val_accuracy: 0.7721\n",
            "Epoch 76/100\n",
            "192/192 - 2s - loss: 0.6614 - accuracy: 0.7853 - val_loss: 0.5904 - val_accuracy: 0.8103\n",
            "Epoch 77/100\n",
            "192/192 - 2s - loss: 0.6592 - accuracy: 0.7847 - val_loss: 0.6249 - val_accuracy: 0.7899\n",
            "Epoch 78/100\n",
            "192/192 - 2s - loss: 0.6470 - accuracy: 0.7911 - val_loss: 0.5495 - val_accuracy: 0.8328\n",
            "Epoch 79/100\n",
            "192/192 - 2s - loss: 0.6370 - accuracy: 0.7970 - val_loss: 0.5852 - val_accuracy: 0.8053\n",
            "Epoch 80/100\n",
            "192/192 - 2s - loss: 0.6506 - accuracy: 0.7894 - val_loss: 0.6599 - val_accuracy: 0.7740\n",
            "Epoch 81/100\n",
            "192/192 - 2s - loss: 0.6179 - accuracy: 0.8012 - val_loss: 0.5738 - val_accuracy: 0.8266\n",
            "Epoch 82/100\n",
            "192/192 - 2s - loss: 0.6249 - accuracy: 0.8010 - val_loss: 0.6566 - val_accuracy: 0.7843\n",
            "Epoch 83/100\n",
            "192/192 - 2s - loss: 0.6059 - accuracy: 0.8076 - val_loss: 0.5871 - val_accuracy: 0.8060\n",
            "Epoch 84/100\n",
            "192/192 - 2s - loss: 0.5978 - accuracy: 0.8114 - val_loss: 0.5511 - val_accuracy: 0.8281\n",
            "Epoch 85/100\n",
            "192/192 - 2s - loss: 0.6099 - accuracy: 0.8059 - val_loss: 0.5129 - val_accuracy: 0.8418\n",
            "Epoch 86/100\n",
            "192/192 - 2s - loss: 0.5893 - accuracy: 0.8131 - val_loss: 0.5429 - val_accuracy: 0.8346\n",
            "Epoch 87/100\n",
            "192/192 - 2s - loss: 0.5838 - accuracy: 0.8159 - val_loss: 0.6846 - val_accuracy: 0.7642\n",
            "Epoch 88/100\n",
            "192/192 - 2s - loss: 0.5943 - accuracy: 0.8081 - val_loss: 0.6120 - val_accuracy: 0.8033\n",
            "Epoch 89/100\n",
            "192/192 - 2s - loss: 0.5669 - accuracy: 0.8212 - val_loss: 0.5829 - val_accuracy: 0.7967\n",
            "Epoch 90/100\n",
            "192/192 - 2s - loss: 0.5753 - accuracy: 0.8162 - val_loss: 0.5338 - val_accuracy: 0.8353\n",
            "Epoch 91/100\n",
            "192/192 - 2s - loss: 0.5599 - accuracy: 0.8247 - val_loss: 0.5084 - val_accuracy: 0.8462\n",
            "Epoch 92/100\n",
            "192/192 - 2s - loss: 0.5514 - accuracy: 0.8285 - val_loss: 0.4824 - val_accuracy: 0.8553\n",
            "Epoch 93/100\n",
            "192/192 - 2s - loss: 0.5557 - accuracy: 0.8252 - val_loss: 0.5017 - val_accuracy: 0.8441\n",
            "Epoch 94/100\n",
            "192/192 - 2s - loss: 0.5509 - accuracy: 0.8274 - val_loss: 0.4808 - val_accuracy: 0.8509\n",
            "Epoch 95/100\n",
            "192/192 - 2s - loss: 0.5482 - accuracy: 0.8278 - val_loss: 0.5153 - val_accuracy: 0.8339\n",
            "Epoch 96/100\n",
            "192/192 - 2s - loss: 0.5375 - accuracy: 0.8320 - val_loss: 0.6871 - val_accuracy: 0.7570\n",
            "Epoch 97/100\n",
            "192/192 - 2s - loss: 0.5308 - accuracy: 0.8358 - val_loss: 0.4579 - val_accuracy: 0.8609\n",
            "Epoch 98/100\n",
            "192/192 - 2s - loss: 0.5306 - accuracy: 0.8341 - val_loss: 0.6352 - val_accuracy: 0.7867\n",
            "Epoch 99/100\n",
            "192/192 - 2s - loss: 0.5503 - accuracy: 0.8251 - val_loss: 0.4804 - val_accuracy: 0.8495\n",
            "Epoch 100/100\n",
            "192/192 - 2s - loss: 0.5212 - accuracy: 0.8370 - val_loss: 0.5042 - val_accuracy: 0.8367\n"
          ],
          "name": "stdout"
        }
      ]
    },
    {
      "cell_type": "code",
      "metadata": {
        "colab": {
          "base_uri": "https://localhost:8080/",
          "height": 299
        },
        "id": "7FdfNf_tkamT",
        "outputId": "568af7f3-1983-4487-e966-1f2c5724a23a"
      },
      "source": [
        "import matplotlib\n",
        "import matplotlib.pyplot as plt\n",
        "%matplotlib inline\n",
        "# construct a plot that plots and displays the training history\n",
        "N = np.arange(0, 100)\n",
        "plt.style.use('ggplot')\n",
        "plt.figure()\n",
        "plt.plot(N, history.history['loss'], label='train_loss')\n",
        "plt.plot(N, history.history['val_loss'], label='val_loss')\n",
        "plt.title('Training Loss and Accuracy')\n",
        "plt.xlabel('Epoch #')\n",
        "plt.ylabel('Loss/Accuracy')\n",
        "plt.legend(loc='lower left')\n",
        "# plt.savefig(plot)\n",
        "plt.show(block=True)"
      ],
      "execution_count": null,
      "outputs": [
        {
          "output_type": "display_data",
          "data": {
            "image/png": "[encoded data removed]",
            "text/plain": [
              "<Figure size 432x288 with 1 Axes>"
            ]
          },
          "metadata": {
            "tags": []
          }
        }
      ]
    },
    {
      "cell_type": "code",
      "metadata": {
        "colab": {
          "base_uri": "https://localhost:8080/"
        },
        "id": "eSfDjmnylgjf",
        "outputId": "3a49db3e-98b4-42b7-a7ea-ab715800210d"
      },
      "source": [
        "test_results = mlp.evaluate(X_test, Y_test, verbose=1)\n",
        "print(f'Test results - Loss: {test_results[0]} - Accuracy: {test_results[1]}%')"
      ],
      "execution_count": null,
      "outputs": [
        {
          "output_type": "stream",
          "text": [
            "313/313 [==============================] - 1s 2ms/step - loss: 0.5079 - accuracy: 0.8381\n",
            "Test results - Loss: 0.5078820586204529 - Accuracy: 0.838100016117096%\n"
          ],
          "name": "stdout"
        }
      ]
    },
    {
      "cell_type": "markdown",
      "metadata": {
        "id": "eEv8UflTlmOJ"
      },
      "source": [
        "## **USING SGD WIHOUT MOMENTUM**"
      ]
    },
    {
      "cell_type": "code",
      "metadata": {
        "colab": {
          "base_uri": "https://localhost:8080/"
        },
        "id": "FFWBHMu2lrMd",
        "outputId": "bef6666e-76cb-4ac7-8220-52ce6fe7025a"
      },
      "source": [
        "def base_model():\n",
        "  model = Sequential()\n",
        "  model.add(Dense(350, input_dim=784, activation='relu'))\n",
        "  model.add(Dense(50, activation='relu'))\n",
        "  model.add(Dense(10, activation='softmax')) \n",
        "  sgd = SGD(lr = 0.01, decay=1e-6, momentum=0,nesterov=True)\n",
        "  model.compile(loss='categorical_crossentropy', optimizer=sgd, metrics=['accuracy'])\n",
        "  return model \n",
        "mlp = base_model()\n",
        "history = mlp.fit(X_train, Y_train, batch_size=250, epochs=100, verbose=2, validation_split=0.2)"
      ],
      "execution_count": null,
      "outputs": [
        {
          "output_type": "stream",
          "text": [
            "Epoch 1/100\n",
            "192/192 - 2s - loss: 2.3002 - accuracy: 0.1312 - val_loss: 2.2996 - val_accuracy: 0.1060\n",
            "Epoch 2/100\n",
            "192/192 - 2s - loss: 2.2990 - accuracy: 0.1140 - val_loss: 2.2993 - val_accuracy: 0.1060\n",
            "Epoch 3/100\n",
            "192/192 - 2s - loss: 2.2987 - accuracy: 0.1140 - val_loss: 2.2993 - val_accuracy: 0.1060\n",
            "Epoch 4/100\n",
            "192/192 - 2s - loss: 2.2985 - accuracy: 0.1140 - val_loss: 2.2992 - val_accuracy: 0.1060\n",
            "Epoch 5/100\n",
            "192/192 - 2s - loss: 2.2983 - accuracy: 0.1140 - val_loss: 2.2991 - val_accuracy: 0.1060\n",
            "Epoch 6/100\n",
            "192/192 - 2s - loss: 2.2982 - accuracy: 0.1140 - val_loss: 2.2991 - val_accuracy: 0.1060\n",
            "Epoch 7/100\n",
            "192/192 - 2s - loss: 2.2981 - accuracy: 0.1140 - val_loss: 2.2990 - val_accuracy: 0.1060\n",
            "Epoch 8/100\n",
            "192/192 - 2s - loss: 2.2981 - accuracy: 0.1140 - val_loss: 2.2990 - val_accuracy: 0.1060\n",
            "Epoch 9/100\n",
            "192/192 - 2s - loss: 2.2980 - accuracy: 0.1140 - val_loss: 2.2989 - val_accuracy: 0.1060\n",
            "Epoch 10/100\n",
            "192/192 - 2s - loss: 2.2979 - accuracy: 0.1140 - val_loss: 2.2988 - val_accuracy: 0.1060\n",
            "Epoch 11/100\n",
            "192/192 - 2s - loss: 2.2979 - accuracy: 0.1140 - val_loss: 2.2988 - val_accuracy: 0.1060\n",
            "Epoch 12/100\n",
            "192/192 - 2s - loss: 2.2978 - accuracy: 0.1140 - val_loss: 2.2987 - val_accuracy: 0.1060\n",
            "Epoch 13/100\n",
            "192/192 - 2s - loss: 2.2977 - accuracy: 0.1140 - val_loss: 2.2987 - val_accuracy: 0.1060\n",
            "Epoch 14/100\n",
            "192/192 - 2s - loss: 2.2976 - accuracy: 0.1140 - val_loss: 2.2986 - val_accuracy: 0.1060\n",
            "Epoch 15/100\n",
            "192/192 - 2s - loss: 2.2976 - accuracy: 0.1140 - val_loss: 2.2985 - val_accuracy: 0.1060\n",
            "Epoch 16/100\n",
            "192/192 - 2s - loss: 2.2975 - accuracy: 0.1140 - val_loss: 2.2984 - val_accuracy: 0.1060\n",
            "Epoch 17/100\n",
            "192/192 - 2s - loss: 2.2974 - accuracy: 0.1140 - val_loss: 2.2984 - val_accuracy: 0.1060\n",
            "Epoch 18/100\n",
            "192/192 - 2s - loss: 2.2973 - accuracy: 0.1140 - val_loss: 2.2983 - val_accuracy: 0.1060\n",
            "Epoch 19/100\n",
            "192/192 - 2s - loss: 2.2972 - accuracy: 0.1140 - val_loss: 2.2983 - val_accuracy: 0.1060\n",
            "Epoch 20/100\n",
            "192/192 - 2s - loss: 2.2972 - accuracy: 0.1140 - val_loss: 2.2981 - val_accuracy: 0.1060\n",
            "Epoch 21/100\n",
            "192/192 - 2s - loss: 2.2971 - accuracy: 0.1140 - val_loss: 2.2981 - val_accuracy: 0.1060\n",
            "Epoch 22/100\n",
            "192/192 - 2s - loss: 2.2970 - accuracy: 0.1140 - val_loss: 2.2980 - val_accuracy: 0.1060\n",
            "Epoch 23/100\n",
            "192/192 - 2s - loss: 2.2969 - accuracy: 0.1140 - val_loss: 2.2980 - val_accuracy: 0.1060\n",
            "Epoch 24/100\n",
            "192/192 - 2s - loss: 2.2968 - accuracy: 0.1140 - val_loss: 2.2979 - val_accuracy: 0.1060\n",
            "Epoch 25/100\n",
            "192/192 - 2s - loss: 2.2968 - accuracy: 0.1140 - val_loss: 2.2978 - val_accuracy: 0.1060\n",
            "Epoch 26/100\n",
            "192/192 - 2s - loss: 2.2967 - accuracy: 0.1140 - val_loss: 2.2977 - val_accuracy: 0.1060\n",
            "Epoch 27/100\n",
            "192/192 - 2s - loss: 2.2966 - accuracy: 0.1140 - val_loss: 2.2976 - val_accuracy: 0.1060\n",
            "Epoch 28/100\n",
            "192/192 - 2s - loss: 2.2965 - accuracy: 0.1140 - val_loss: 2.2975 - val_accuracy: 0.1060\n",
            "Epoch 29/100\n",
            "192/192 - 2s - loss: 2.2964 - accuracy: 0.1140 - val_loss: 2.2975 - val_accuracy: 0.1060\n",
            "Epoch 30/100\n",
            "192/192 - 2s - loss: 2.2963 - accuracy: 0.1140 - val_loss: 2.2973 - val_accuracy: 0.1060\n",
            "Epoch 31/100\n",
            "192/192 - 2s - loss: 2.2962 - accuracy: 0.1140 - val_loss: 2.2973 - val_accuracy: 0.1060\n",
            "Epoch 32/100\n",
            "192/192 - 2s - loss: 2.2962 - accuracy: 0.1140 - val_loss: 2.2971 - val_accuracy: 0.1060\n",
            "Epoch 33/100\n",
            "192/192 - 2s - loss: 2.2961 - accuracy: 0.1140 - val_loss: 2.2970 - val_accuracy: 0.1060\n",
            "Epoch 34/100\n",
            "192/192 - 2s - loss: 2.2960 - accuracy: 0.1140 - val_loss: 2.2969 - val_accuracy: 0.1060\n",
            "Epoch 35/100\n",
            "192/192 - 2s - loss: 2.2959 - accuracy: 0.1140 - val_loss: 2.2968 - val_accuracy: 0.1060\n",
            "Epoch 36/100\n",
            "192/192 - 2s - loss: 2.2958 - accuracy: 0.1140 - val_loss: 2.2967 - val_accuracy: 0.1060\n",
            "Epoch 37/100\n",
            "192/192 - 2s - loss: 2.2957 - accuracy: 0.1140 - val_loss: 2.2966 - val_accuracy: 0.1060\n",
            "Epoch 38/100\n",
            "192/192 - 2s - loss: 2.2956 - accuracy: 0.1140 - val_loss: 2.2966 - val_accuracy: 0.1060\n",
            "Epoch 39/100\n",
            "192/192 - 2s - loss: 2.2955 - accuracy: 0.1140 - val_loss: 2.2965 - val_accuracy: 0.1060\n",
            "Epoch 40/100\n",
            "192/192 - 2s - loss: 2.2954 - accuracy: 0.1140 - val_loss: 2.2964 - val_accuracy: 0.1060\n",
            "Epoch 41/100\n",
            "192/192 - 2s - loss: 2.2953 - accuracy: 0.1140 - val_loss: 2.2963 - val_accuracy: 0.1060\n",
            "Epoch 42/100\n",
            "192/192 - 2s - loss: 2.2952 - accuracy: 0.1140 - val_loss: 2.2962 - val_accuracy: 0.1060\n",
            "Epoch 43/100\n",
            "192/192 - 2s - loss: 2.2951 - accuracy: 0.1140 - val_loss: 2.2961 - val_accuracy: 0.1060\n",
            "Epoch 44/100\n",
            "192/192 - 2s - loss: 2.2950 - accuracy: 0.1140 - val_loss: 2.2960 - val_accuracy: 0.1060\n",
            "Epoch 45/100\n",
            "192/192 - 2s - loss: 2.2949 - accuracy: 0.1140 - val_loss: 2.2959 - val_accuracy: 0.1060\n",
            "Epoch 46/100\n",
            "192/192 - 2s - loss: 2.2948 - accuracy: 0.1140 - val_loss: 2.2957 - val_accuracy: 0.1060\n",
            "Epoch 47/100\n",
            "192/192 - 2s - loss: 2.2947 - accuracy: 0.1140 - val_loss: 2.2957 - val_accuracy: 0.1060\n",
            "Epoch 48/100\n",
            "192/192 - 2s - loss: 2.2945 - accuracy: 0.1140 - val_loss: 2.2957 - val_accuracy: 0.1060\n",
            "Epoch 49/100\n",
            "192/192 - 2s - loss: 2.2944 - accuracy: 0.1140 - val_loss: 2.2954 - val_accuracy: 0.1060\n",
            "Epoch 50/100\n",
            "192/192 - 2s - loss: 2.2943 - accuracy: 0.1140 - val_loss: 2.2953 - val_accuracy: 0.1060\n",
            "Epoch 51/100\n",
            "192/192 - 2s - loss: 2.2942 - accuracy: 0.1140 - val_loss: 2.2951 - val_accuracy: 0.1060\n",
            "Epoch 52/100\n",
            "192/192 - 2s - loss: 2.2941 - accuracy: 0.1140 - val_loss: 2.2950 - val_accuracy: 0.1060\n",
            "Epoch 53/100\n",
            "192/192 - 2s - loss: 2.2940 - accuracy: 0.1140 - val_loss: 2.2949 - val_accuracy: 0.1060\n",
            "Epoch 54/100\n",
            "192/192 - 2s - loss: 2.2939 - accuracy: 0.1140 - val_loss: 2.2948 - val_accuracy: 0.1060\n",
            "Epoch 55/100\n",
            "192/192 - 2s - loss: 2.2937 - accuracy: 0.1140 - val_loss: 2.2946 - val_accuracy: 0.1060\n",
            "Epoch 56/100\n",
            "192/192 - 2s - loss: 2.2936 - accuracy: 0.1140 - val_loss: 2.2946 - val_accuracy: 0.1060\n",
            "Epoch 57/100\n",
            "192/192 - 2s - loss: 2.2935 - accuracy: 0.1140 - val_loss: 2.2944 - val_accuracy: 0.1060\n",
            "Epoch 58/100\n",
            "192/192 - 2s - loss: 2.2934 - accuracy: 0.1140 - val_loss: 2.2943 - val_accuracy: 0.1060\n",
            "Epoch 59/100\n",
            "192/192 - 2s - loss: 2.2932 - accuracy: 0.1140 - val_loss: 2.2942 - val_accuracy: 0.1060\n",
            "Epoch 60/100\n",
            "192/192 - 2s - loss: 2.2931 - accuracy: 0.1140 - val_loss: 2.2940 - val_accuracy: 0.1060\n",
            "Epoch 61/100\n",
            "192/192 - 2s - loss: 2.2930 - accuracy: 0.1140 - val_loss: 2.2939 - val_accuracy: 0.1060\n",
            "Epoch 62/100\n",
            "192/192 - 2s - loss: 2.2928 - accuracy: 0.1140 - val_loss: 2.2937 - val_accuracy: 0.1060\n",
            "Epoch 63/100\n",
            "192/192 - 2s - loss: 2.2927 - accuracy: 0.1140 - val_loss: 2.2936 - val_accuracy: 0.1060\n",
            "Epoch 64/100\n",
            "192/192 - 2s - loss: 2.2926 - accuracy: 0.1140 - val_loss: 2.2934 - val_accuracy: 0.1060\n",
            "Epoch 65/100\n",
            "192/192 - 2s - loss: 2.2924 - accuracy: 0.1140 - val_loss: 2.2933 - val_accuracy: 0.1060\n",
            "Epoch 66/100\n",
            "192/192 - 2s - loss: 2.2923 - accuracy: 0.1140 - val_loss: 2.2933 - val_accuracy: 0.1060\n",
            "Epoch 67/100\n",
            "192/192 - 2s - loss: 2.2922 - accuracy: 0.1140 - val_loss: 2.2931 - val_accuracy: 0.1060\n",
            "Epoch 68/100\n",
            "192/192 - 2s - loss: 2.2920 - accuracy: 0.1140 - val_loss: 2.2929 - val_accuracy: 0.1060\n",
            "Epoch 69/100\n",
            "192/192 - 2s - loss: 2.2919 - accuracy: 0.1140 - val_loss: 2.2928 - val_accuracy: 0.1060\n",
            "Epoch 70/100\n",
            "192/192 - 2s - loss: 2.2917 - accuracy: 0.1140 - val_loss: 2.2927 - val_accuracy: 0.1060\n",
            "Epoch 71/100\n",
            "192/192 - 2s - loss: 2.2916 - accuracy: 0.1140 - val_loss: 2.2926 - val_accuracy: 0.1060\n",
            "Epoch 72/100\n",
            "192/192 - 2s - loss: 2.2914 - accuracy: 0.1140 - val_loss: 2.2924 - val_accuracy: 0.1060\n",
            "Epoch 73/100\n",
            "192/192 - 2s - loss: 2.2913 - accuracy: 0.1140 - val_loss: 2.2921 - val_accuracy: 0.1060\n",
            "Epoch 74/100\n",
            "192/192 - 2s - loss: 2.2911 - accuracy: 0.1140 - val_loss: 2.2920 - val_accuracy: 0.1060\n",
            "Epoch 75/100\n",
            "192/192 - 2s - loss: 2.2909 - accuracy: 0.1140 - val_loss: 2.2918 - val_accuracy: 0.1060\n",
            "Epoch 76/100\n",
            "192/192 - 2s - loss: 2.2908 - accuracy: 0.1140 - val_loss: 2.2917 - val_accuracy: 0.1060\n",
            "Epoch 77/100\n",
            "192/192 - 2s - loss: 2.2906 - accuracy: 0.1140 - val_loss: 2.2915 - val_accuracy: 0.1060\n",
            "Epoch 78/100\n",
            "192/192 - 2s - loss: 2.2904 - accuracy: 0.1140 - val_loss: 2.2914 - val_accuracy: 0.1060\n",
            "Epoch 79/100\n",
            "192/192 - 2s - loss: 2.2903 - accuracy: 0.1140 - val_loss: 2.2912 - val_accuracy: 0.1060\n",
            "Epoch 80/100\n",
            "192/192 - 2s - loss: 2.2901 - accuracy: 0.1140 - val_loss: 2.2910 - val_accuracy: 0.1060\n",
            "Epoch 81/100\n",
            "192/192 - 2s - loss: 2.2899 - accuracy: 0.1140 - val_loss: 2.2909 - val_accuracy: 0.1060\n",
            "Epoch 82/100\n",
            "192/192 - 2s - loss: 2.2897 - accuracy: 0.1140 - val_loss: 2.2906 - val_accuracy: 0.1060\n",
            "Epoch 83/100\n",
            "192/192 - 2s - loss: 2.2896 - accuracy: 0.1140 - val_loss: 2.2905 - val_accuracy: 0.1060\n",
            "Epoch 84/100\n",
            "192/192 - 2s - loss: 2.2894 - accuracy: 0.1140 - val_loss: 2.2903 - val_accuracy: 0.1060\n",
            "Epoch 85/100\n",
            "192/192 - 2s - loss: 2.2892 - accuracy: 0.1140 - val_loss: 2.2901 - val_accuracy: 0.1060\n",
            "Epoch 86/100\n",
            "192/192 - 2s - loss: 2.2890 - accuracy: 0.1140 - val_loss: 2.2899 - val_accuracy: 0.1060\n",
            "Epoch 87/100\n",
            "192/192 - 2s - loss: 2.2888 - accuracy: 0.1140 - val_loss: 2.2897 - val_accuracy: 0.1060\n",
            "Epoch 88/100\n",
            "192/192 - 2s - loss: 2.2886 - accuracy: 0.1140 - val_loss: 2.2894 - val_accuracy: 0.1060\n",
            "Epoch 89/100\n",
            "192/192 - 2s - loss: 2.2884 - accuracy: 0.1140 - val_loss: 2.2892 - val_accuracy: 0.1060\n",
            "Epoch 90/100\n",
            "192/192 - 2s - loss: 2.2882 - accuracy: 0.1140 - val_loss: 2.2890 - val_accuracy: 0.1060\n",
            "Epoch 91/100\n",
            "192/192 - 2s - loss: 2.2880 - accuracy: 0.1140 - val_loss: 2.2889 - val_accuracy: 0.1060\n",
            "Epoch 92/100\n",
            "192/192 - 2s - loss: 2.2878 - accuracy: 0.1140 - val_loss: 2.2886 - val_accuracy: 0.1060\n",
            "Epoch 93/100\n",
            "192/192 - 2s - loss: 2.2876 - accuracy: 0.1140 - val_loss: 2.2883 - val_accuracy: 0.1060\n",
            "Epoch 94/100\n",
            "192/192 - 2s - loss: 2.2874 - accuracy: 0.1140 - val_loss: 2.2882 - val_accuracy: 0.1060\n",
            "Epoch 95/100\n",
            "192/192 - 2s - loss: 2.2871 - accuracy: 0.1140 - val_loss: 2.2879 - val_accuracy: 0.1060\n",
            "Epoch 96/100\n",
            "192/192 - 2s - loss: 2.2869 - accuracy: 0.1140 - val_loss: 2.2877 - val_accuracy: 0.1060\n",
            "Epoch 97/100\n",
            "192/192 - 2s - loss: 2.2867 - accuracy: 0.1140 - val_loss: 2.2875 - val_accuracy: 0.1060\n",
            "Epoch 98/100\n",
            "192/192 - 2s - loss: 2.2865 - accuracy: 0.1140 - val_loss: 2.2873 - val_accuracy: 0.1060\n",
            "Epoch 99/100\n",
            "192/192 - 2s - loss: 2.2862 - accuracy: 0.1140 - val_loss: 2.2870 - val_accuracy: 0.1060\n",
            "Epoch 100/100\n",
            "192/192 - 2s - loss: 2.2860 - accuracy: 0.1140 - val_loss: 2.2867 - val_accuracy: 0.1060\n"
          ],
          "name": "stdout"
        }
      ]
    },
    {
      "cell_type": "code",
      "metadata": {
        "colab": {
          "base_uri": "https://localhost:8080/",
          "height": 299
        },
        "id": "ZAkOigv_nj-8",
        "outputId": "8faac23b-a948-46db-f733-5ad021e03204"
      },
      "source": [
        "import matplotlib\n",
        "import matplotlib.pyplot as plt\n",
        "%matplotlib inline\n",
        "# construct a plot that plots and displays the training history\n",
        "N = np.arange(0, 100)\n",
        "plt.style.use('ggplot')\n",
        "plt.figure()\n",
        "plt.plot(N, history.history['loss'], label='train_loss')\n",
        "plt.plot(N, history.history['val_loss'], label='val_loss')\n",
        "plt.title('Training Loss and Accuracy')\n",
        "plt.xlabel('Epoch #')\n",
        "plt.ylabel('Loss/Accuracy')\n",
        "plt.legend(loc='lower left')\n",
        "# plt.savefig(plot)\n",
        "plt.show(block=True)"
      ],
      "execution_count": null,
      "outputs": [
        {
          "output_type": "display_data",
          "data": {
            "image/png": "[encoded data removed]",
            "text/plain": [
              "<Figure size 432x288 with 1 Axes>"
            ]
          },
          "metadata": {
            "tags": []
          }
        }
      ]
    },
    {
      "cell_type": "code",
      "metadata": {
        "colab": {
          "base_uri": "https://localhost:8080/"
        },
        "id": "3Xca1p1WnqKr",
        "outputId": "a66ad75b-8742-4349-d99f-a7d58aa9e19f"
      },
      "source": [
        "test_results = mlp.evaluate(X_test, Y_test, verbose=1)\n",
        "print(f'Test results - Loss: {test_results[0]} - Accuracy: {test_results[1]}%')"
      ],
      "execution_count": null,
      "outputs": [
        {
          "output_type": "stream",
          "text": [
            "313/313 [==============================] - 1s 2ms/step - loss: 2.2855 - accuracy: 0.1135\n",
            "Test results - Loss: 2.2854862213134766 - Accuracy: 0.11349999904632568%\n"
          ],
          "name": "stdout"
        }
      ]
    },
    {
      "cell_type": "markdown",
      "metadata": {
        "id": "W5P2FHdSpzX7"
      },
      "source": [
        "## **XAVIER WEIGHT INITIALIZATION ON ADAM MODEL AS IT'S BEST**"
      ]
    },
    {
      "cell_type": "code",
      "metadata": {
        "colab": {
          "base_uri": "https://localhost:8080/"
        },
        "id": "u_MCILnXp9Oz",
        "outputId": "d46cb18f-5ccb-4b5c-a808-22a146e92874"
      },
      "source": [
        "def base_model():\n",
        "  model = Sequential()\n",
        "  model.add(Dense(350,kernel_initializer='glorot_normal', input_dim=784, activation='relu'))\n",
        "  model.add(Dense(50, kernel_initializer = 'glorot_normal',activation='relu'))\n",
        "  model.add(Dense(10,activation='softmax')) \n",
        "  model.compile(loss='categorical_crossentropy', optimizer='adam', metrics=['accuracy'])\n",
        "  return model \n",
        "mlp = base_model()\n",
        "history = mlp.fit(X_train, Y_train, batch_size=250, epochs=20, verbose=2, validation_split=0.2)"
      ],
      "execution_count": null,
      "outputs": [
        {
          "output_type": "stream",
          "text": [
            "Epoch 1/20\n",
            "192/192 - 2s - loss: 1.6513 - accuracy: 0.5466 - val_loss: 0.9031 - val_accuracy: 0.7467\n",
            "Epoch 2/20\n",
            "192/192 - 2s - loss: 0.7426 - accuracy: 0.7783 - val_loss: 0.5843 - val_accuracy: 0.8388\n",
            "Epoch 3/20\n",
            "192/192 - 2s - loss: 0.5313 - accuracy: 0.8453 - val_loss: 0.4377 - val_accuracy: 0.8752\n",
            "Epoch 4/20\n",
            "192/192 - 2s - loss: 0.4267 - accuracy: 0.8780 - val_loss: 0.3667 - val_accuracy: 0.8967\n",
            "Epoch 5/20\n",
            "192/192 - 2s - loss: 0.3722 - accuracy: 0.8943 - val_loss: 0.3297 - val_accuracy: 0.9068\n",
            "Epoch 6/20\n",
            "192/192 - 2s - loss: 0.3425 - accuracy: 0.9030 - val_loss: 0.3099 - val_accuracy: 0.9103\n",
            "Epoch 7/20\n",
            "192/192 - 2s - loss: 0.3222 - accuracy: 0.9079 - val_loss: 0.2915 - val_accuracy: 0.9162\n",
            "Epoch 8/20\n",
            "192/192 - 2s - loss: 0.3062 - accuracy: 0.9122 - val_loss: 0.2797 - val_accuracy: 0.9191\n",
            "Epoch 9/20\n",
            "192/192 - 2s - loss: 0.2935 - accuracy: 0.9154 - val_loss: 0.2735 - val_accuracy: 0.9213\n",
            "Epoch 10/20\n",
            "192/192 - 2s - loss: 0.2823 - accuracy: 0.9189 - val_loss: 0.2590 - val_accuracy: 0.9250\n",
            "Epoch 11/20\n",
            "192/192 - 2s - loss: 0.2718 - accuracy: 0.9222 - val_loss: 0.2532 - val_accuracy: 0.9269\n",
            "Epoch 12/20\n",
            "192/192 - 2s - loss: 0.2621 - accuracy: 0.9237 - val_loss: 0.2476 - val_accuracy: 0.9292\n",
            "Epoch 13/20\n",
            "192/192 - 2s - loss: 0.2532 - accuracy: 0.9264 - val_loss: 0.2382 - val_accuracy: 0.9307\n",
            "Epoch 14/20\n",
            "192/192 - 2s - loss: 0.2443 - accuracy: 0.9286 - val_loss: 0.2358 - val_accuracy: 0.9312\n",
            "Epoch 15/20\n",
            "192/192 - 2s - loss: 0.2353 - accuracy: 0.9315 - val_loss: 0.2311 - val_accuracy: 0.9323\n",
            "Epoch 16/20\n",
            "192/192 - 2s - loss: 0.2266 - accuracy: 0.9349 - val_loss: 0.2174 - val_accuracy: 0.9379\n",
            "Epoch 17/20\n",
            "192/192 - 2s - loss: 0.2195 - accuracy: 0.9363 - val_loss: 0.2122 - val_accuracy: 0.9396\n",
            "Epoch 18/20\n",
            "192/192 - 2s - loss: 0.2108 - accuracy: 0.9395 - val_loss: 0.2028 - val_accuracy: 0.9428\n",
            "Epoch 19/20\n",
            "192/192 - 2s - loss: 0.2024 - accuracy: 0.9413 - val_loss: 0.1969 - val_accuracy: 0.9432\n",
            "Epoch 20/20\n",
            "192/192 - 2s - loss: 0.1953 - accuracy: 0.9431 - val_loss: 0.1949 - val_accuracy: 0.9433\n"
          ],
          "name": "stdout"
        }
      ]
    },
    {
      "cell_type": "code",
      "metadata": {
        "colab": {
          "base_uri": "https://localhost:8080/",
          "height": 299
        },
        "id": "SfwDoWnTsfeA",
        "outputId": "b501980a-072f-4611-d9c0-89673e650bb2"
      },
      "source": [
        "import matplotlib\n",
        "import matplotlib.pyplot as plt\n",
        "%matplotlib inline\n",
        "# construct a plot that plots and displays the training history\n",
        "N = np.arange(0, 20)\n",
        "plt.style.use('ggplot')\n",
        "plt.figure()\n",
        "plt.plot(N, history.history['loss'], label='train_loss')\n",
        "plt.plot(N, history.history['val_loss'], label='val_loss')\n",
        "plt.title('Training Loss and Accuracy')\n",
        "plt.xlabel('Epoch #')\n",
        "plt.ylabel('Loss/Accuracy')\n",
        "plt.legend(loc='lower left')\n",
        "# plt.savefig(plot)\n",
        "plt.show(block=True)"
      ],
      "execution_count": null,
      "outputs": [
        {
          "output_type": "display_data",
          "data": {
            "image/png": "[encoded data removed]",
            "text/plain": [
              "<Figure size 432x288 with 1 Axes>"
            ]
          },
          "metadata": {
            "tags": []
          }
        }
      ]
    },
    {
      "cell_type": "code",
      "metadata": {
        "colab": {
          "base_uri": "https://localhost:8080/"
        },
        "id": "8WcZHkpQsnGK",
        "outputId": "8210b45d-3e79-4b2f-ab4f-56c37c92f320"
      },
      "source": [
        "test_results = mlp.evaluate(X_test, Y_test, verbose=1)\n",
        "print(f'Test results - Loss: {test_results[0]} - Accuracy: {test_results[1]}%')"
      ],
      "execution_count": null,
      "outputs": [
        {
          "output_type": "stream",
          "text": [
            "313/313 [==============================] - 1s 2ms/step - loss: 0.1979 - accuracy: 0.9426\n",
            "Test results - Loss: 0.1978972852230072 - Accuracy: 0.9426000118255615%\n"
          ],
          "name": "stdout"
        }
      ]
    },
    {
      "cell_type": "markdown",
      "metadata": {
        "id": "77V9lfBYstEc"
      },
      "source": [
        "## **UNIFORM INITIALIZATION ON ADAM** "
      ]
    },
    {
      "cell_type": "code",
      "metadata": {
        "colab": {
          "base_uri": "https://localhost:8080/"
        },
        "id": "igqdQpwZs3Z2",
        "outputId": "3fd41e75-c5c2-4233-d23b-f9a331f9ab75"
      },
      "source": [
        "def base_model():\n",
        "  model = Sequential()\n",
        "  model.add(Dense(350,kernel_initializer='random_uniform', input_dim=784, activation='relu'))\n",
        "  model.add(Dense(50, kernel_initializer = 'random_uniform',activation='relu'))\n",
        "  model.add(Dense(10,activation='softmax')) \n",
        "  model.compile(loss='categorical_crossentropy', optimizer='adam', metrics=['accuracy'])\n",
        "  return model \n",
        "mlp = base_model()\n",
        "history = mlp.fit(X_train, Y_train, batch_size=250, epochs=20, verbose=2, validation_split=0.2)"
      ],
      "execution_count": null,
      "outputs": [
        {
          "output_type": "stream",
          "text": [
            "Epoch 1/20\n",
            "192/192 - 2s - loss: 1.7894 - accuracy: 0.3743 - val_loss: 1.1231 - val_accuracy: 0.6172\n",
            "Epoch 2/20\n",
            "192/192 - 2s - loss: 0.8936 - accuracy: 0.7226 - val_loss: 0.6716 - val_accuracy: 0.8130\n",
            "Epoch 3/20\n",
            "192/192 - 2s - loss: 0.5948 - accuracy: 0.8269 - val_loss: 0.4845 - val_accuracy: 0.8657\n",
            "Epoch 4/20\n",
            "192/192 - 2s - loss: 0.4726 - accuracy: 0.8639 - val_loss: 0.4071 - val_accuracy: 0.8862\n",
            "Epoch 5/20\n",
            "192/192 - 2s - loss: 0.4092 - accuracy: 0.8813 - val_loss: 0.3704 - val_accuracy: 0.8923\n",
            "Epoch 6/20\n",
            "192/192 - 2s - loss: 0.3730 - accuracy: 0.8925 - val_loss: 0.3415 - val_accuracy: 0.8988\n",
            "Epoch 7/20\n",
            "192/192 - 2s - loss: 0.3504 - accuracy: 0.8986 - val_loss: 0.3239 - val_accuracy: 0.9049\n",
            "Epoch 8/20\n",
            "192/192 - 2s - loss: 0.3354 - accuracy: 0.9039 - val_loss: 0.3151 - val_accuracy: 0.9093\n",
            "Epoch 9/20\n",
            "192/192 - 2s - loss: 0.3229 - accuracy: 0.9064 - val_loss: 0.3031 - val_accuracy: 0.9120\n",
            "Epoch 10/20\n",
            "192/192 - 2s - loss: 0.3135 - accuracy: 0.9087 - val_loss: 0.2962 - val_accuracy: 0.9137\n",
            "Epoch 11/20\n",
            "192/192 - 2s - loss: 0.3032 - accuracy: 0.9127 - val_loss: 0.2875 - val_accuracy: 0.9162\n",
            "Epoch 12/20\n",
            "192/192 - 2s - loss: 0.2956 - accuracy: 0.9147 - val_loss: 0.2775 - val_accuracy: 0.9188\n",
            "Epoch 13/20\n",
            "192/192 - 2s - loss: 0.2851 - accuracy: 0.9174 - val_loss: 0.2730 - val_accuracy: 0.9205\n",
            "Epoch 14/20\n",
            "192/192 - 2s - loss: 0.2770 - accuracy: 0.9202 - val_loss: 0.2619 - val_accuracy: 0.9235\n",
            "Epoch 15/20\n",
            "192/192 - 2s - loss: 0.2678 - accuracy: 0.9217 - val_loss: 0.2546 - val_accuracy: 0.9257\n",
            "Epoch 16/20\n",
            "192/192 - 2s - loss: 0.2577 - accuracy: 0.9257 - val_loss: 0.2480 - val_accuracy: 0.9268\n",
            "Epoch 17/20\n",
            "192/192 - 2s - loss: 0.2489 - accuracy: 0.9276 - val_loss: 0.2449 - val_accuracy: 0.9295\n",
            "Epoch 18/20\n",
            "192/192 - 2s - loss: 0.2407 - accuracy: 0.9300 - val_loss: 0.2328 - val_accuracy: 0.9330\n",
            "Epoch 19/20\n",
            "192/192 - 2s - loss: 0.2321 - accuracy: 0.9332 - val_loss: 0.2274 - val_accuracy: 0.9332\n",
            "Epoch 20/20\n",
            "192/192 - 2s - loss: 0.2240 - accuracy: 0.9349 - val_loss: 0.2185 - val_accuracy: 0.9375\n"
          ],
          "name": "stdout"
        }
      ]
    },
    {
      "cell_type": "code",
      "metadata": {
        "colab": {
          "base_uri": "https://localhost:8080/",
          "height": 299
        },
        "id": "hg-e9sb8tSp3",
        "outputId": "efa109ed-12d5-4738-87e7-6a70e43c6e5f"
      },
      "source": [
        "import matplotlib\n",
        "import matplotlib.pyplot as plt\n",
        "%matplotlib inline\n",
        "# construct a plot that plots and displays the training history\n",
        "N = np.arange(0, 20)\n",
        "plt.style.use('ggplot')\n",
        "plt.figure()\n",
        "plt.plot(N, history.history['loss'], label='train_loss')\n",
        "plt.plot(N, history.history['val_loss'], label='val_loss')\n",
        "plt.title('Training Loss and Accuracy')\n",
        "plt.xlabel('Epoch #')\n",
        "plt.ylabel('Loss/Accuracy')\n",
        "plt.legend(loc='lower left')\n",
        "# plt.savefig(plot)\n",
        "plt.show(block=True)"
      ],
      "execution_count": null,
      "outputs": [
        {
          "output_type": "display_data",
          "data": {
            "image/png": "[encoded data removed]",
            "text/plain": [
              "<Figure size 432x288 with 1 Axes>"
            ]
          },
          "metadata": {
            "tags": []
          }
        }
      ]
    },
    {
      "cell_type": "code",
      "metadata": {
        "colab": {
          "base_uri": "https://localhost:8080/"
        },
        "id": "VLHdnCvStULq",
        "outputId": "21bf9ef9-548a-45ff-ba56-f213d02ecb84"
      },
      "source": [
        "test_results = mlp.evaluate(X_test, Y_test, verbose=1)\n",
        "print(f'Test results - Loss: {test_results[0]} - Accuracy: {test_results[1]}%')"
      ],
      "execution_count": null,
      "outputs": [
        {
          "output_type": "stream",
          "text": [
            "313/313 [==============================] - 1s 3ms/step - loss: 0.2263 - accuracy: 0.9328\n",
            "Test results - Loss: 0.2263175994157791 - Accuracy: 0.9327999949455261%\n"
          ],
          "name": "stdout"
        }
      ]
    },
    {
      "cell_type": "markdown",
      "metadata": {
        "id": "ylayFAMutzmi"
      },
      "source": [
        "## **NORMAL INITIALIZATION ON ADAM**\n",
        "\n"
      ]
    },
    {
      "cell_type": "code",
      "metadata": {
        "colab": {
          "base_uri": "https://localhost:8080/"
        },
        "id": "PQzn86U5t7S7",
        "outputId": "8c3ac4ce-cbc9-473e-db74-467b3512308b"
      },
      "source": [
        "def base_model():\n",
        "  model = Sequential()\n",
        "  model.add(Dense(350,kernel_initializer='random_normal', input_dim=784, activation='relu'))\n",
        "  model.add(Dense(50, kernel_initializer = 'random_normal',activation='relu'))\n",
        "  model.add(Dense(10,activation='softmax')) \n",
        "  model.compile(loss='categorical_crossentropy', optimizer='adam', metrics=['accuracy'])\n",
        "  return model \n",
        "mlp = base_model()\n",
        "history = mlp.fit(X_train, Y_train, batch_size=250, epochs=20, verbose=2, validation_split=0.2)"
      ],
      "execution_count": null,
      "outputs": [
        {
          "output_type": "stream",
          "text": [
            "Epoch 1/20\n",
            "192/192 - 3s - loss: 1.6736 - accuracy: 0.5154 - val_loss: 0.8991 - val_accuracy: 0.7369\n",
            "Epoch 2/20\n",
            "192/192 - 2s - loss: 0.7227 - accuracy: 0.7850 - val_loss: 0.5672 - val_accuracy: 0.8390\n",
            "Epoch 3/20\n",
            "192/192 - 2s - loss: 0.5374 - accuracy: 0.8428 - val_loss: 0.4625 - val_accuracy: 0.8680\n",
            "Epoch 4/20\n",
            "192/192 - 2s - loss: 0.4525 - accuracy: 0.8690 - val_loss: 0.3990 - val_accuracy: 0.8840\n",
            "Epoch 5/20\n",
            "192/192 - 2s - loss: 0.4009 - accuracy: 0.8847 - val_loss: 0.3596 - val_accuracy: 0.8941\n",
            "Epoch 6/20\n",
            "192/192 - 2s - loss: 0.3669 - accuracy: 0.8956 - val_loss: 0.3347 - val_accuracy: 0.9042\n",
            "Epoch 7/20\n",
            "192/192 - 2s - loss: 0.3419 - accuracy: 0.9024 - val_loss: 0.3156 - val_accuracy: 0.9082\n",
            "Epoch 8/20\n",
            "192/192 - 2s - loss: 0.3234 - accuracy: 0.9081 - val_loss: 0.2976 - val_accuracy: 0.9153\n",
            "Epoch 9/20\n",
            "192/192 - 2s - loss: 0.3070 - accuracy: 0.9112 - val_loss: 0.2823 - val_accuracy: 0.9187\n",
            "Epoch 10/20\n",
            "192/192 - 2s - loss: 0.2932 - accuracy: 0.9154 - val_loss: 0.2734 - val_accuracy: 0.9203\n",
            "Epoch 11/20\n",
            "192/192 - 2s - loss: 0.2811 - accuracy: 0.9191 - val_loss: 0.2654 - val_accuracy: 0.9227\n",
            "Epoch 12/20\n",
            "192/192 - 2s - loss: 0.2678 - accuracy: 0.9227 - val_loss: 0.2529 - val_accuracy: 0.9273\n",
            "Epoch 13/20\n",
            "192/192 - 2s - loss: 0.2577 - accuracy: 0.9254 - val_loss: 0.2453 - val_accuracy: 0.9286\n",
            "Epoch 14/20\n",
            "192/192 - 2s - loss: 0.2477 - accuracy: 0.9280 - val_loss: 0.2324 - val_accuracy: 0.9335\n",
            "Epoch 15/20\n",
            "192/192 - 2s - loss: 0.2367 - accuracy: 0.9311 - val_loss: 0.2274 - val_accuracy: 0.9337\n",
            "Epoch 16/20\n",
            "192/192 - 2s - loss: 0.2283 - accuracy: 0.9330 - val_loss: 0.2206 - val_accuracy: 0.9354\n",
            "Epoch 17/20\n",
            "192/192 - 2s - loss: 0.2184 - accuracy: 0.9368 - val_loss: 0.2090 - val_accuracy: 0.9395\n",
            "Epoch 18/20\n",
            "192/192 - 2s - loss: 0.2092 - accuracy: 0.9394 - val_loss: 0.2041 - val_accuracy: 0.9422\n",
            "Epoch 19/20\n",
            "192/192 - 2s - loss: 0.2022 - accuracy: 0.9414 - val_loss: 0.1965 - val_accuracy: 0.9428\n",
            "Epoch 20/20\n",
            "192/192 - 2s - loss: 0.1940 - accuracy: 0.9440 - val_loss: 0.1908 - val_accuracy: 0.9459\n"
          ],
          "name": "stdout"
        }
      ]
    },
    {
      "cell_type": "code",
      "metadata": {
        "colab": {
          "base_uri": "https://localhost:8080/",
          "height": 299
        },
        "id": "R3h2z5lSuUsj",
        "outputId": "86354cf4-3a50-4649-db18-ee27a7aab6f8"
      },
      "source": [
        "import matplotlib\n",
        "import matplotlib.pyplot as plt\n",
        "%matplotlib inline\n",
        "# construct a plot that plots and displays the training history\n",
        "N = np.arange(0, 20)\n",
        "plt.style.use('ggplot')\n",
        "plt.figure()\n",
        "plt.plot(N, history.history['loss'], label='train_loss')\n",
        "plt.plot(N, history.history['val_loss'], label='val_loss')\n",
        "plt.title('Training Loss and Accuracy')\n",
        "plt.xlabel('Epoch #')\n",
        "plt.ylabel('Loss/Accuracy')\n",
        "plt.legend(loc='lower left')\n",
        "# plt.savefig(plot)\n",
        "plt.show(block=True)"
      ],
      "execution_count": null,
      "outputs": [
        {
          "output_type": "display_data",
          "data": {
            "image/png": "[encoded data removed]",
            "text/plain": [
              "<Figure size 432x288 with 1 Axes>"
            ]
          },
          "metadata": {
            "tags": []
          }
        }
      ]
    },
    {
      "cell_type": "code",
      "metadata": {
        "colab": {
          "base_uri": "https://localhost:8080/"
        },
        "id": "jG9fhur6uX5Y",
        "outputId": "841fc250-87ba-408f-fd04-f37209754a23"
      },
      "source": [
        "test_results = mlp.evaluate(X_test, Y_test, verbose=1)\n",
        "print(f'Test results - Loss: {test_results[0]} - Accuracy: {test_results[1]}%')"
      ],
      "execution_count": null,
      "outputs": [
        {
          "output_type": "stream",
          "text": [
            "313/313 [==============================] - 1s 2ms/step - loss: 0.1963 - accuracy: 0.9444\n",
            "Test results - Loss: 0.1962658166885376 - Accuracy: 0.9444000124931335%\n"
          ],
          "name": "stdout"
        }
      ]
    },
    {
      "cell_type": "markdown",
      "metadata": {
        "id": "D86yw7LKvBig"
      },
      "source": [
        "## **CHANGING LEARNING RATE OF ADAM TO 0.001 AND providing Exponential Annealing**"
      ]
    },
    {
      "cell_type": "code",
      "metadata": {
        "colab": {
          "base_uri": "https://localhost:8080/"
        },
        "id": "MreJ2SBJvR0E",
        "outputId": "247c117d-d1cc-4677-c361-b1f1abbb5633"
      },
      "source": [
        "def base_model():\n",
        "  model = Sequential()\n",
        "  model.add(Dense(350,kernel_initializer='random_normal', input_dim=784, activation='relu'))\n",
        "  model.add(Dense(50, kernel_initializer = 'random_normal',activation='relu'))\n",
        "  model.add(Dense(10,activation='softmax')) \n",
        "  adm = keras.optimizers.Adam(lr=0.001, beta_1=0.9, beta_2=0.999, epsilon=1e-08, decay=0.0)\n",
        "  model.compile(loss='categorical_crossentropy', optimizer=adm, metrics=['accuracy'])\n",
        "  return model \n",
        "mlp = base_model()\n",
        "history = mlp.fit(X_train, Y_train, batch_size=250, epochs=20, verbose=2, validation_split=0.2)"
      ],
      "execution_count": null,
      "outputs": [
        {
          "output_type": "stream",
          "text": [
            "Epoch 1/20\n",
            "192/192 - 2s - loss: 1.6902 - accuracy: 0.5155 - val_loss: 0.9754 - val_accuracy: 0.7325\n",
            "Epoch 2/20\n",
            "192/192 - 2s - loss: 0.7624 - accuracy: 0.7755 - val_loss: 0.5764 - val_accuracy: 0.8438\n",
            "Epoch 3/20\n",
            "192/192 - 2s - loss: 0.5206 - accuracy: 0.8504 - val_loss: 0.4253 - val_accuracy: 0.8856\n",
            "Epoch 4/20\n",
            "192/192 - 2s - loss: 0.4122 - accuracy: 0.8846 - val_loss: 0.3560 - val_accuracy: 0.9016\n",
            "Epoch 5/20\n",
            "192/192 - 2s - loss: 0.3624 - accuracy: 0.8967 - val_loss: 0.3362 - val_accuracy: 0.9050\n",
            "Epoch 6/20\n",
            "192/192 - 2s - loss: 0.3379 - accuracy: 0.9038 - val_loss: 0.3091 - val_accuracy: 0.9107\n",
            "Epoch 7/20\n",
            "192/192 - 2s - loss: 0.3193 - accuracy: 0.9087 - val_loss: 0.2939 - val_accuracy: 0.9169\n",
            "Epoch 8/20\n",
            "192/192 - 2s - loss: 0.3062 - accuracy: 0.9124 - val_loss: 0.2814 - val_accuracy: 0.9192\n",
            "Epoch 9/20\n",
            "192/192 - 2s - loss: 0.2943 - accuracy: 0.9163 - val_loss: 0.2724 - val_accuracy: 0.9223\n",
            "Epoch 10/20\n",
            "192/192 - 2s - loss: 0.2849 - accuracy: 0.9183 - val_loss: 0.2668 - val_accuracy: 0.9232\n",
            "Epoch 11/20\n",
            "192/192 - 2s - loss: 0.2756 - accuracy: 0.9207 - val_loss: 0.2562 - val_accuracy: 0.9256\n",
            "Epoch 12/20\n",
            "192/192 - 2s - loss: 0.2664 - accuracy: 0.9227 - val_loss: 0.2500 - val_accuracy: 0.9273\n",
            "Epoch 13/20\n",
            "192/192 - 2s - loss: 0.2583 - accuracy: 0.9261 - val_loss: 0.2465 - val_accuracy: 0.9310\n",
            "Epoch 14/20\n",
            "192/192 - 2s - loss: 0.2486 - accuracy: 0.9280 - val_loss: 0.2350 - val_accuracy: 0.9324\n",
            "Epoch 15/20\n",
            "192/192 - 2s - loss: 0.2396 - accuracy: 0.9314 - val_loss: 0.2304 - val_accuracy: 0.9352\n",
            "Epoch 16/20\n",
            "192/192 - 2s - loss: 0.2308 - accuracy: 0.9329 - val_loss: 0.2222 - val_accuracy: 0.9362\n",
            "Epoch 17/20\n",
            "192/192 - 2s - loss: 0.2219 - accuracy: 0.9356 - val_loss: 0.2125 - val_accuracy: 0.9399\n",
            "Epoch 18/20\n",
            "192/192 - 2s - loss: 0.2136 - accuracy: 0.9378 - val_loss: 0.2067 - val_accuracy: 0.9425\n",
            "Epoch 19/20\n",
            "192/192 - 2s - loss: 0.2041 - accuracy: 0.9410 - val_loss: 0.2006 - val_accuracy: 0.9430\n",
            "Epoch 20/20\n",
            "192/192 - 2s - loss: 0.1966 - accuracy: 0.9434 - val_loss: 0.1945 - val_accuracy: 0.9467\n"
          ],
          "name": "stdout"
        }
      ]
    },
    {
      "cell_type": "code",
      "metadata": {
        "colab": {
          "base_uri": "https://localhost:8080/",
          "height": 299
        },
        "id": "CpOnj8uVvq14",
        "outputId": "46f5a277-b52b-45af-a18e-91cffa5ae882"
      },
      "source": [
        "import matplotlib\n",
        "import matplotlib.pyplot as plt\n",
        "%matplotlib inline\n",
        "# construct a plot that plots and displays the training history\n",
        "N = np.arange(0, 20)\n",
        "plt.style.use('ggplot')\n",
        "plt.figure()\n",
        "plt.plot(N, history.history['loss'], label='train_loss')\n",
        "plt.plot(N, history.history['val_loss'], label='val_loss')\n",
        "plt.title('Training Loss and Accuracy')\n",
        "plt.xlabel('Epoch #')\n",
        "plt.ylabel('Loss/Accuracy')\n",
        "plt.legend(loc='lower left')\n",
        "# plt.savefig(plot)\n",
        "plt.show(block=True)"
      ],
      "execution_count": null,
      "outputs": [
        {
          "output_type": "display_data",
          "data": {
            "image/png": "[encoded data removed]",
            "text/plain": [
              "<Figure size 432x288 with 1 Axes>"
            ]
          },
          "metadata": {
            "tags": []
          }
        }
      ]
    },
    {
      "cell_type": "code",
      "metadata": {
        "colab": {
          "base_uri": "https://localhost:8080/"
        },
        "id": "4RJi5tQpvuN7",
        "outputId": "70e7fe18-d86d-4123-9f3c-ca94df1ca4ec"
      },
      "source": [
        "test_results = mlp.evaluate(X_test, Y_test, verbose=1)\n",
        "print(f'Test results - Loss: {test_results[0]} - Accuracy: {test_results[1]}%')"
      ],
      "execution_count": null,
      "outputs": [
        {
          "output_type": "stream",
          "text": [
            "313/313 [==============================] - 1s 2ms/step - loss: 0.1976 - accuracy: 0.9434\n",
            "Test results - Loss: 0.19761928915977478 - Accuracy: 0.9434000253677368%\n"
          ],
          "name": "stdout"
        }
      ]
    },
    {
      "cell_type": "markdown",
      "metadata": {
        "id": "ic_RLInQvxgv"
      },
      "source": [
        "## **CHANGING LEARNING RATE OF ADAM TO 0.0005 AND providing Exponential Annealing**"
      ]
    },
    {
      "cell_type": "code",
      "metadata": {
        "colab": {
          "base_uri": "https://localhost:8080/"
        },
        "id": "wfzy94wIv6gr",
        "outputId": "9b0b8bd8-fda7-41af-b60c-6c154d7617b4"
      },
      "source": [
        "def base_model():\n",
        "  model = Sequential()\n",
        "  model.add(Dense(350,kernel_initializer='random_normal', input_dim=784, activation='relu'))\n",
        "  model.add(Dense(50, kernel_initializer = 'random_normal',activation='relu'))\n",
        "  model.add(Dense(10,activation='softmax')) \n",
        "  adm = keras.optimizers.Adam(lr=0.0005, beta_1=0.9, beta_2=0.999, epsilon=1e-08, decay=0.0)\n",
        "  model.compile(loss='categorical_crossentropy', optimizer=adm, metrics=['accuracy'])\n",
        "  return model \n",
        "mlp = base_model()\n",
        "history = mlp.fit(X_train, Y_train, batch_size=250, epochs=20, verbose=2, validation_split=0.2)"
      ],
      "execution_count": null,
      "outputs": [
        {
          "output_type": "stream",
          "text": [
            "Epoch 1/20\n",
            "192/192 - 2s - loss: 2.0114 - accuracy: 0.4598 - val_loss: 1.4266 - val_accuracy: 0.6598\n",
            "Epoch 2/20\n",
            "192/192 - 2s - loss: 1.0560 - accuracy: 0.7069 - val_loss: 0.7887 - val_accuracy: 0.7747\n",
            "Epoch 3/20\n",
            "192/192 - 2s - loss: 0.6982 - accuracy: 0.8026 - val_loss: 0.5804 - val_accuracy: 0.8496\n",
            "Epoch 4/20\n",
            "192/192 - 2s - loss: 0.5446 - accuracy: 0.8523 - val_loss: 0.4673 - val_accuracy: 0.8742\n",
            "Epoch 5/20\n",
            "192/192 - 2s - loss: 0.4620 - accuracy: 0.8723 - val_loss: 0.4102 - val_accuracy: 0.8839\n",
            "Epoch 6/20\n",
            "192/192 - 2s - loss: 0.4166 - accuracy: 0.8831 - val_loss: 0.3761 - val_accuracy: 0.8926\n",
            "Epoch 7/20\n",
            "192/192 - 2s - loss: 0.3892 - accuracy: 0.8901 - val_loss: 0.3577 - val_accuracy: 0.8968\n",
            "Epoch 8/20\n",
            "192/192 - 2s - loss: 0.3699 - accuracy: 0.8947 - val_loss: 0.3406 - val_accuracy: 0.9023\n",
            "Epoch 9/20\n",
            "192/192 - 2s - loss: 0.3550 - accuracy: 0.8991 - val_loss: 0.3271 - val_accuracy: 0.9065\n",
            "Epoch 10/20\n",
            "192/192 - 2s - loss: 0.3424 - accuracy: 0.9026 - val_loss: 0.3175 - val_accuracy: 0.9084\n",
            "Epoch 11/20\n",
            "192/192 - 2s - loss: 0.3322 - accuracy: 0.9055 - val_loss: 0.3084 - val_accuracy: 0.9108\n",
            "Epoch 12/20\n",
            "192/192 - 2s - loss: 0.3228 - accuracy: 0.9071 - val_loss: 0.3015 - val_accuracy: 0.9131\n",
            "Epoch 13/20\n",
            "192/192 - 2s - loss: 0.3136 - accuracy: 0.9104 - val_loss: 0.2921 - val_accuracy: 0.9148\n",
            "Epoch 14/20\n",
            "192/192 - 2s - loss: 0.3055 - accuracy: 0.9127 - val_loss: 0.2868 - val_accuracy: 0.9172\n",
            "Epoch 15/20\n",
            "192/192 - 2s - loss: 0.2973 - accuracy: 0.9157 - val_loss: 0.2781 - val_accuracy: 0.9200\n",
            "Epoch 16/20\n",
            "192/192 - 2s - loss: 0.2896 - accuracy: 0.9173 - val_loss: 0.2722 - val_accuracy: 0.9217\n",
            "Epoch 17/20\n",
            "192/192 - 2s - loss: 0.2825 - accuracy: 0.9187 - val_loss: 0.2686 - val_accuracy: 0.9214\n",
            "Epoch 18/20\n",
            "192/192 - 2s - loss: 0.2753 - accuracy: 0.9208 - val_loss: 0.2600 - val_accuracy: 0.9256\n",
            "Epoch 19/20\n",
            "192/192 - 2s - loss: 0.2682 - accuracy: 0.9233 - val_loss: 0.2573 - val_accuracy: 0.9256\n",
            "Epoch 20/20\n",
            "192/192 - 2s - loss: 0.2616 - accuracy: 0.9250 - val_loss: 0.2492 - val_accuracy: 0.9288\n"
          ],
          "name": "stdout"
        }
      ]
    },
    {
      "cell_type": "code",
      "metadata": {
        "colab": {
          "base_uri": "https://localhost:8080/",
          "height": 299
        },
        "id": "Cy7vvWrewDKd",
        "outputId": "a2b3f0f5-3f36-41ac-e003-f4be82eb35be"
      },
      "source": [
        "import matplotlib\n",
        "import matplotlib.pyplot as plt\n",
        "%matplotlib inline\n",
        "# construct a plot that plots and displays the training history\n",
        "N = np.arange(0, 20)\n",
        "plt.style.use('ggplot')\n",
        "plt.figure()\n",
        "plt.plot(N, history.history['loss'], label='train_loss')\n",
        "plt.plot(N, history.history['val_loss'], label='val_loss')\n",
        "plt.title('Training Loss and Accuracy')\n",
        "plt.xlabel('Epoch #')\n",
        "plt.ylabel('Loss/Accuracy')\n",
        "plt.legend(loc='lower left')\n",
        "# plt.savefig(plot)\n",
        "plt.show(block=True)"
      ],
      "execution_count": null,
      "outputs": [
        {
          "output_type": "display_data",
          "data": {
            "image/png": "[encoded data removed]",
            "text/plain": [
              "<Figure size 432x288 with 1 Axes>"
            ]
          },
          "metadata": {
            "tags": []
          }
        }
      ]
    },
    {
      "cell_type": "code",
      "metadata": {
        "colab": {
          "base_uri": "https://localhost:8080/"
        },
        "id": "L_kP3EKpwJBP",
        "outputId": "b6e9115a-fd07-4719-8534-cf58f55d33e6"
      },
      "source": [
        "test_results = mlp.evaluate(X_test, Y_test, verbose=1)\n",
        "print(f'Test results - Loss: {test_results[0]} - Accuracy: {test_results[1]}%')"
      ],
      "execution_count": null,
      "outputs": [
        {
          "output_type": "stream",
          "text": [
            "313/313 [==============================] - 1s 3ms/step - loss: 0.2564 - accuracy: 0.9279\n",
            "Test results - Loss: 0.25640732049942017 - Accuracy: 0.9279000163078308%\n"
          ],
          "name": "stdout"
        }
      ]
    },
    {
      "cell_type": "markdown",
      "metadata": {
        "id": "lZjUqdKBwK4F"
      },
      "source": [
        "## **CHANGING LEARNING RATE OF ADAM TO 0.00015 AND providing Exponential Annealing**"
      ]
    },
    {
      "cell_type": "code",
      "metadata": {
        "colab": {
          "base_uri": "https://localhost:8080/"
        },
        "id": "MjvvOnW-wRc-",
        "outputId": "d23d92d2-e21c-48ff-aef4-f4ad3447c149"
      },
      "source": [
        "def base_model():\n",
        "  model = Sequential()\n",
        "  model.add(Dense(350,kernel_initializer='random_normal', input_dim=784, activation='relu'))\n",
        "  model.add(Dense(50, kernel_initializer = 'random_normal',activation='relu'))\n",
        "  model.add(Dense(10,activation='softmax')) \n",
        "  adm = keras.optimizers.Adam(lr=0.0005, beta_1=0.9, beta_2=0.999, epsilon=1e-08, decay=0.0)\n",
        "  model.compile(loss='categorical_crossentropy', optimizer=adm, metrics=['accuracy'])\n",
        "  return model \n",
        "mlp = base_model()\n",
        "history = mlp.fit(X_train, Y_train, batch_size=250, epochs=20, verbose=2, validation_split=0.2)"
      ],
      "execution_count": null,
      "outputs": [
        {
          "output_type": "stream",
          "text": [
            "Epoch 1/20\n",
            "192/192 - 2s - loss: 1.9922 - accuracy: 0.4574 - val_loss: 1.4130 - val_accuracy: 0.6209\n",
            "Epoch 2/20\n",
            "192/192 - 2s - loss: 1.0689 - accuracy: 0.7058 - val_loss: 0.7982 - val_accuracy: 0.7928\n",
            "Epoch 3/20\n",
            "192/192 - 2s - loss: 0.7130 - accuracy: 0.7968 - val_loss: 0.5956 - val_accuracy: 0.8358\n",
            "Epoch 4/20\n",
            "192/192 - 2s - loss: 0.5730 - accuracy: 0.8321 - val_loss: 0.5028 - val_accuracy: 0.8580\n",
            "Epoch 5/20\n",
            "192/192 - 2s - loss: 0.4948 - accuracy: 0.8556 - val_loss: 0.4390 - val_accuracy: 0.8752\n",
            "Epoch 6/20\n",
            "192/192 - 2s - loss: 0.4428 - accuracy: 0.8714 - val_loss: 0.3998 - val_accuracy: 0.8865\n",
            "Epoch 7/20\n",
            "192/192 - 2s - loss: 0.4068 - accuracy: 0.8832 - val_loss: 0.3717 - val_accuracy: 0.8930\n",
            "Epoch 8/20\n",
            "192/192 - 2s - loss: 0.3821 - accuracy: 0.8904 - val_loss: 0.3518 - val_accuracy: 0.8983\n",
            "Epoch 9/20\n",
            "192/192 - 2s - loss: 0.3637 - accuracy: 0.8950 - val_loss: 0.3371 - val_accuracy: 0.9020\n",
            "Epoch 10/20\n",
            "192/192 - 2s - loss: 0.3490 - accuracy: 0.8990 - val_loss: 0.3267 - val_accuracy: 0.9065\n",
            "Epoch 11/20\n",
            "192/192 - 2s - loss: 0.3369 - accuracy: 0.9032 - val_loss: 0.3189 - val_accuracy: 0.9091\n",
            "Epoch 12/20\n",
            "192/192 - 2s - loss: 0.3273 - accuracy: 0.9062 - val_loss: 0.3062 - val_accuracy: 0.9103\n",
            "Epoch 13/20\n",
            "192/192 - 2s - loss: 0.3188 - accuracy: 0.9085 - val_loss: 0.2984 - val_accuracy: 0.9133\n",
            "Epoch 14/20\n",
            "192/192 - 2s - loss: 0.3107 - accuracy: 0.9107 - val_loss: 0.2911 - val_accuracy: 0.9148\n",
            "Epoch 15/20\n",
            "192/192 - 2s - loss: 0.3034 - accuracy: 0.9118 - val_loss: 0.2880 - val_accuracy: 0.9143\n",
            "Epoch 16/20\n",
            "192/192 - 2s - loss: 0.2972 - accuracy: 0.9141 - val_loss: 0.2815 - val_accuracy: 0.9172\n",
            "Epoch 17/20\n",
            "192/192 - 2s - loss: 0.2901 - accuracy: 0.9162 - val_loss: 0.2735 - val_accuracy: 0.9198\n",
            "Epoch 18/20\n",
            "192/192 - 2s - loss: 0.2830 - accuracy: 0.9185 - val_loss: 0.2681 - val_accuracy: 0.9228\n",
            "Epoch 19/20\n",
            "192/192 - 2s - loss: 0.2772 - accuracy: 0.9205 - val_loss: 0.2615 - val_accuracy: 0.9228\n",
            "Epoch 20/20\n",
            "192/192 - 2s - loss: 0.2707 - accuracy: 0.9224 - val_loss: 0.2569 - val_accuracy: 0.9252\n"
          ],
          "name": "stdout"
        }
      ]
    },
    {
      "cell_type": "code",
      "metadata": {
        "colab": {
          "base_uri": "https://localhost:8080/",
          "height": 299
        },
        "id": "QAxFO83cwT2G",
        "outputId": "374f6a6f-b115-47c9-f4c9-84f6e2123345"
      },
      "source": [
        "import matplotlib\n",
        "import matplotlib.pyplot as plt\n",
        "%matplotlib inline\n",
        "# construct a plot that plots and displays the training history\n",
        "N = np.arange(0, 20)\n",
        "plt.style.use('ggplot')\n",
        "plt.figure()\n",
        "plt.plot(N, history.history['loss'], label='train_loss')\n",
        "plt.plot(N, history.history['val_loss'], label='val_loss')\n",
        "plt.title('Training Loss and Accuracy')\n",
        "plt.xlabel('Epoch #')\n",
        "plt.ylabel('Loss/Accuracy')\n",
        "plt.legend(loc='lower left')\n",
        "# plt.savefig(plot)\n",
        "plt.show(block=True)"
      ],
      "execution_count": null,
      "outputs": [
        {
          "output_type": "display_data",
          "data": {
            "image/png": "[encoded data removed]",
            "text/plain": [
              "<Figure size 432x288 with 1 Axes>"
            ]
          },
          "metadata": {
            "tags": []
          }
        }
      ]
    },
    {
      "cell_type": "code",
      "metadata": {
        "colab": {
          "base_uri": "https://localhost:8080/"
        },
        "id": "PzVqlEn-wV_F",
        "outputId": "d20a8903-208a-44dc-9b83-262128b4f776"
      },
      "source": [
        "test_results = mlp.evaluate(X_test, Y_test, verbose=1)\n",
        "print(f'Test results - Loss: {test_results[0]} - Accuracy: {test_results[1]}%')"
      ],
      "execution_count": null,
      "outputs": [
        {
          "output_type": "stream",
          "text": [
            "313/313 [==============================] - 1s 2ms/step - loss: 0.2661 - accuracy: 0.9228\n",
            "Test results - Loss: 0.2661362290382385 - Accuracy: 0.9228000044822693%\n"
          ],
          "name": "stdout"
        }
      ]
    },
    {
      "cell_type": "markdown",
      "metadata": {
        "id": "mf8er7z2wjvK"
      },
      "source": [
        "**ACCURACY WHEN LEARNING RATE IS DEFAULT - 0.947**\n",
        "\n",
        "**ACCURACY WHEN LEARNING RATE IS 0.001 WITH EXPONENTIAL ANNEALING = 0.942**\n",
        "\n",
        "**ACCURACY WHEN LEARNING RATE IS 0.0005 WTH EXPONENTIAL ANNEALING = 0.925**\n",
        "\n",
        "**ACCURACY WHEN LEARNING RATE IS 0.00015 WITH EXPONENTIAL ANNEALING = 0.921**"
      ]
    },
    {
      "cell_type": "markdown",
      "metadata": {
        "id": "X13XFXV0yB-9"
      },
      "source": [
        "# **PART 2**"
      ]
    },
    {
      "cell_type": "code",
      "metadata": {
        "id": "1RN9g4X_5FVw"
      },
      "source": [
        "from keras.datasets import mnist\n",
        "import numpy as np\n",
        "(x_train, y_train), (x_test, y_test) = mnist.load_data()\n",
        "x_train = x_train.astype('float32') / 255.\n",
        "x_test = x_test.astype('float32') / 255."
      ],
      "execution_count": 54,
      "outputs": []
    },
    {
      "cell_type": "code",
      "metadata": {
        "id": "coepHAHH-yDv"
      },
      "source": [
        "noofclasses = 10\n",
        "def y_train_categorical(Y_train,numberofclasses):\n",
        "  Y_train = np_utils.to_categorical(Y_train,numberofclasses)\n",
        "  return Y_train\n",
        "def y_test_categorical(Y_test,numberofclasses):\n",
        "  Y_test = np_utils.to_categorical(Y_test,numberofclasses)\n",
        "  return Y_test\n",
        "Y_train = y_train_categorical(y_train,10)\n",
        "Y_test = y_test_categorical(y_test,10)\n"
      ],
      "execution_count": 55,
      "outputs": []
    },
    {
      "cell_type": "code",
      "metadata": {
        "colab": {
          "base_uri": "https://localhost:8080/"
        },
        "id": "-qV09WVU4svv",
        "outputId": "945b18cf-8ae3-483b-a33e-80bd5a8308bd"
      },
      "source": [
        "encoder_input = keras.Input(shape=(28, 28, 1))\n",
        "x = keras.layers.Flatten()(encoder_input)\n",
        "encoder_output = keras.layers.Dense(16, activation=\"relu\")(x) \n",
        "x = keras.layers.Dense(784, activation=\"relu\")(encoder_output)\n",
        "decoder_output = keras.layers.Reshape((28, 28))(x)\n",
        "encoder = keras.Model(encoder_input, encoder_output)\n",
        "autoencoder = keras.Model(encoder_input, decoder_output)\n",
        "autoencoder.compile('adam', loss='mse')\n",
        "autoencoder.fit(x_train, x_train, epochs=10, batch_size=128)  \n",
        "bottleneck = encoder.predict(x_train)\n",
        "bottleneck = bottleneck.reshape(60000,4,4,1)\n",
        "bottleneck1 = encoder.predict(x_test)\n",
        "bottleneck1 = bottleneck1.reshape(10000,4,4,1)"
      ],
      "execution_count": 56,
      "outputs": [
        {
          "output_type": "stream",
          "text": [
            "Epoch 1/10\n",
            "469/469 [==============================] - 3s 5ms/step - loss: 0.0552\n",
            "Epoch 2/10\n",
            "469/469 [==============================] - 2s 5ms/step - loss: 0.0260\n",
            "Epoch 3/10\n",
            "469/469 [==============================] - 2s 5ms/step - loss: 0.0250\n",
            "Epoch 4/10\n",
            "469/469 [==============================] - 2s 5ms/step - loss: 0.0247\n",
            "Epoch 5/10\n",
            "469/469 [==============================] - 2s 5ms/step - loss: 0.0246\n",
            "Epoch 6/10\n",
            "469/469 [==============================] - 2s 5ms/step - loss: 0.0246\n",
            "Epoch 7/10\n",
            "469/469 [==============================] - 2s 5ms/step - loss: 0.0246\n",
            "Epoch 8/10\n",
            "469/469 [==============================] - 2s 5ms/step - loss: 0.0245\n",
            "Epoch 9/10\n",
            "469/469 [==============================] - 2s 5ms/step - loss: 0.0245\n",
            "Epoch 10/10\n",
            "469/469 [==============================] - 2s 5ms/step - loss: 0.0245\n"
          ],
          "name": "stdout"
        }
      ]
    },
    {
      "cell_type": "code",
      "metadata": {
        "colab": {
          "base_uri": "https://localhost:8080/"
        },
        "id": "U1cdStO68H2I",
        "outputId": "61c6bf85-9067-45fc-8757-fd09a90b8d33"
      },
      "source": [
        "def base_model():\n",
        "  model = Sequential()\n",
        "  model.add(Flatten())\n",
        "  model.add(Dense(350, input_dim=784, activation='relu'))\n",
        "  model.add(Dense(50, activation='relu'))\n",
        "  model.add(Dense(10, activation='softmax')) \n",
        "  model.compile(loss='categorical_crossentropy', optimizer='adam', metrics=['accuracy'])\n",
        "  return model \n",
        "mlp = base_model()\n",
        "history = mlp.fit(bottleneck, Y_train, batch_size=250, epochs=20, verbose=2, validation_split=0.2)"
      ],
      "execution_count": 57,
      "outputs": [
        {
          "output_type": "stream",
          "text": [
            "Epoch 1/20\n",
            "192/192 - 1s - loss: 0.6897 - accuracy: 0.8073 - val_loss: 0.3705 - val_accuracy: 0.8896\n",
            "Epoch 2/20\n",
            "192/192 - 1s - loss: 0.3373 - accuracy: 0.9003 - val_loss: 0.2773 - val_accuracy: 0.9162\n",
            "Epoch 3/20\n",
            "192/192 - 1s - loss: 0.2674 - accuracy: 0.9195 - val_loss: 0.2355 - val_accuracy: 0.9313\n",
            "Epoch 4/20\n",
            "192/192 - 1s - loss: 0.2256 - accuracy: 0.9320 - val_loss: 0.1974 - val_accuracy: 0.9416\n",
            "Epoch 5/20\n",
            "192/192 - 1s - loss: 0.1986 - accuracy: 0.9405 - val_loss: 0.1929 - val_accuracy: 0.9429\n",
            "Epoch 6/20\n",
            "192/192 - 1s - loss: 0.1818 - accuracy: 0.9448 - val_loss: 0.1777 - val_accuracy: 0.9456\n",
            "Epoch 7/20\n",
            "192/192 - 1s - loss: 0.1674 - accuracy: 0.9486 - val_loss: 0.1628 - val_accuracy: 0.9508\n",
            "Epoch 8/20\n",
            "192/192 - 1s - loss: 0.1571 - accuracy: 0.9513 - val_loss: 0.1526 - val_accuracy: 0.9545\n",
            "Epoch 9/20\n",
            "192/192 - 1s - loss: 0.1483 - accuracy: 0.9535 - val_loss: 0.1510 - val_accuracy: 0.9550\n",
            "Epoch 10/20\n",
            "192/192 - 1s - loss: 0.1411 - accuracy: 0.9556 - val_loss: 0.1400 - val_accuracy: 0.9589\n",
            "Epoch 11/20\n",
            "192/192 - 1s - loss: 0.1344 - accuracy: 0.9585 - val_loss: 0.1394 - val_accuracy: 0.9580\n",
            "Epoch 12/20\n",
            "192/192 - 1s - loss: 0.1286 - accuracy: 0.9604 - val_loss: 0.1412 - val_accuracy: 0.9562\n",
            "Epoch 13/20\n",
            "192/192 - 1s - loss: 0.1266 - accuracy: 0.9609 - val_loss: 0.1313 - val_accuracy: 0.9601\n",
            "Epoch 14/20\n",
            "192/192 - 1s - loss: 0.1197 - accuracy: 0.9627 - val_loss: 0.1357 - val_accuracy: 0.9596\n",
            "Epoch 15/20\n",
            "192/192 - 1s - loss: 0.1179 - accuracy: 0.9632 - val_loss: 0.1254 - val_accuracy: 0.9605\n",
            "Epoch 16/20\n",
            "192/192 - 1s - loss: 0.1162 - accuracy: 0.9632 - val_loss: 0.1294 - val_accuracy: 0.9602\n",
            "Epoch 17/20\n",
            "192/192 - 1s - loss: 0.1108 - accuracy: 0.9651 - val_loss: 0.1245 - val_accuracy: 0.9633\n",
            "Epoch 18/20\n",
            "192/192 - 1s - loss: 0.1060 - accuracy: 0.9668 - val_loss: 0.1256 - val_accuracy: 0.9620\n",
            "Epoch 19/20\n",
            "192/192 - 1s - loss: 0.1032 - accuracy: 0.9673 - val_loss: 0.1167 - val_accuracy: 0.9630\n",
            "Epoch 20/20\n",
            "192/192 - 1s - loss: 0.0997 - accuracy: 0.9689 - val_loss: 0.1182 - val_accuracy: 0.9644\n"
          ],
          "name": "stdout"
        }
      ]
    },
    {
      "cell_type": "code",
      "metadata": {
        "colab": {
          "base_uri": "https://localhost:8080/"
        },
        "id": "TxfK3orH9rw6",
        "outputId": "14d53e1f-86f2-467e-982a-627158204a1b"
      },
      "source": [
        "test_results = mlp.evaluate(bottleneck1, Y_test, verbose=1)\n",
        "print(f'Test results - Loss: {test_results[0]} - Accuracy: {test_results[1]}%')"
      ],
      "execution_count": 45,
      "outputs": [
        {
          "output_type": "stream",
          "text": [
            "313/313 [==============================] - 1s 1ms/step - loss: 0.0062 - accuracy: 0.9598\n",
            "Test results - Loss: 0.006201213225722313 - Accuracy: 0.9598000049591064%\n"
          ],
          "name": "stdout"
        }
      ]
    },
    {
      "cell_type": "markdown",
      "metadata": {
        "id": "6yCcGo9lDcRe"
      },
      "source": [
        "**ACCURACY BEFORE ENCODING = 0.9525**\n",
        "\n",
        "**ACCURACY AFTER ENCODING = 0.9598**\n",
        "\n",
        "The reason for higher accuracy is as the dimension of the image is reduced much less so it works faster and hence the region of mistake is less\n"
      ]
    }
  ]
}