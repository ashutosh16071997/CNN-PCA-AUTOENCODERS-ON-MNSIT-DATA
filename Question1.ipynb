{
  "nbformat": 4,
  "nbformat_minor": 0,
  "metadata": {
    "colab": {
      "name": "Question1.ipynb",
      "provenance": [],
      "collapsed_sections": [],
      "toc_visible": true
    },
    "kernelspec": {
      "display_name": "Python 3",
      "name": "python3"
    }
  },
  "cells": [
    {
      "cell_type": "code",
      "metadata": {
        "id": "7AmAoO214yky"
      },
      "source": [
        "import time\n",
        "import matplotlib.pyplot as plt\n",
        "from tensorflow import keras\n",
        "import numpy as np\n",
        "from keras.models import Sequential\n",
        "from keras.layers import Dense\n",
        "from keras.layers import Dropout\n",
        "from keras.layers import Flatten\n",
        "from keras.constraints import maxnorm\n",
        "from keras.optimizers import SGD\n",
        "from keras.optimizers import Adam\n",
        "from keras.layers import Activation\n",
        "from keras.layers.convolutional import Conv2D\n",
        "from keras.layers.convolutional import ZeroPadding2D\n",
        "from keras.layers.convolutional import MaxPooling2D\n",
        "from keras.layers.normalization import BatchNormalization\n",
        "from keras.utils import np_utils\n",
        "\n",
        "# Import Tensorflow with multiprocessing\n",
        "import tensorflow as tf\n",
        "import multiprocessing as mp\n",
        "\n",
        "# Loading the CIFAR-10 datasets\n",
        "from keras.datasets import cifar10"
      ],
      "execution_count": null,
      "outputs": []
    },
    {
      "cell_type": "code",
      "metadata": {
        "id": "jmRXNuge5sY4",
        "colab": {
          "base_uri": "https://localhost:8080/"
        },
        "outputId": "98e7536c-985c-4711-ee4c-8bbc073eeaf9"
      },
      "source": [
        "(x_train, y_train), (x_test, y_test) = cifar10.load_data()\n",
        "x_train = x_train.astype('float32')\n",
        "x_test = x_test.astype('float32')\n",
        "X_train = x_train\n",
        "X_test = x_test\n",
        "Y_train = y_train \n",
        "Y_test = y_test"
      ],
      "execution_count": null,
      "outputs": [
        {
          "output_type": "stream",
          "text": [
            "Downloading data from https://www.cs.toronto.edu/~kriz/cifar-10-python.tar.gz\n",
            "170500096/170498071 [==============================] - 4s 0us/step\n"
          ],
          "name": "stdout"
        }
      ]
    },
    {
      "cell_type": "code",
      "metadata": {
        "id": "iwpzlVnD6Cln"
      },
      "source": [
        "noofclasses = 10\n",
        "def y_train_categorical(Y_train,numberofclasses):\n",
        "  Y_train = np_utils.to_categorical(Y_train,numberofclasses)\n",
        "  return Y_train\n",
        "def y_test_categorical(Y_test,numberofclasses):\n",
        "  Y_test = np_utils.to_categorical(Y_test,numberofclasses)\n",
        "  return Y_test\n",
        "Y_train = y_train_categorical(Y_train,10)\n",
        "Y_test = y_test_categorical(Y_test,10)\n"
      ],
      "execution_count": null,
      "outputs": []
    },
    {
      "cell_type": "code",
      "metadata": {
        "colab": {
          "base_uri": "https://localhost:8080/"
        },
        "id": "t4qYrivpHMxS",
        "outputId": "602f997d-0121-40dc-adc0-355292707a44"
      },
      "source": [
        "print(Y_train)"
      ],
      "execution_count": null,
      "outputs": [
        {
          "output_type": "stream",
          "text": [
            "[[0. 0. 0. ... 0. 0. 0.]\n",
            " [0. 0. 0. ... 0. 0. 1.]\n",
            " [0. 0. 0. ... 0. 0. 1.]\n",
            " ...\n",
            " [0. 0. 0. ... 0. 0. 1.]\n",
            " [0. 1. 0. ... 0. 0. 0.]\n",
            " [0. 1. 0. ... 0. 0. 0.]]\n"
          ],
          "name": "stdout"
        }
      ]
    },
    {
      "cell_type": "code",
      "metadata": {
        "id": "tRpmypBD8Adg"
      },
      "source": [
        "X_train /= 255\n",
        "X_test /= 255"
      ],
      "execution_count": null,
      "outputs": []
    },
    {
      "cell_type": "markdown",
      "metadata": {
        "id": "_GWs-MMk8P7L"
      },
      "source": [
        "# **NO NORMALIZATION**"
      ]
    },
    {
      "cell_type": "code",
      "metadata": {
        "colab": {
          "base_uri": "https://localhost:8080/"
        },
        "id": "tXUcftzk8Tgi",
        "outputId": "fd1add6e-c260-4f42-f848-9f063b8d051a"
      },
      "source": [
        "def base_model():\n",
        "    model = Sequential()\n",
        "    model.add(ZeroPadding2D(1))\n",
        "    model.add(Conv2D(32, (3, 3),padding='valid' ,activation='relu', input_shape=(32, 32, 3)))\n",
        "    model.add(MaxPooling2D(pool_size=(2, 2)))\n",
        "    model.add(Dropout(0.15))\n",
        "    model.add(Flatten())\n",
        "    model.add(Dense(10, activation='softmax'))\n",
        "    sgd = SGD(lr = 0.01, decay=1e-6, momentum=0.9 ,nesterov=True)\n",
        "    model.compile(loss='categorical_crossentropy', metrics=['accuracy'],optimizer = sgd)\n",
        "    return model\n",
        "cnn_n = base_model()\n",
        "\n",
        "cnn = cnn_n.fit(X_train, Y_train, batch_size=32, epochs=20, verbose=2, validation_split=0.2)\n",
        "cnn_n.summary()"
      ],
      "execution_count": null,
      "outputs": [
        {
          "output_type": "stream",
          "text": [
            "Epoch 1/20\n",
            "1250/1250 - 29s - loss: 1.6049 - accuracy: 0.4316 - val_loss: 1.4052 - val_accuracy: 0.5095\n",
            "Epoch 2/20\n",
            "1250/1250 - 29s - loss: 1.3253 - accuracy: 0.5377 - val_loss: 1.3165 - val_accuracy: 0.5402\n",
            "Epoch 3/20\n",
            "1250/1250 - 28s - loss: 1.2237 - accuracy: 0.5745 - val_loss: 1.2555 - val_accuracy: 0.5622\n",
            "Epoch 4/20\n",
            "1250/1250 - 28s - loss: 1.1455 - accuracy: 0.6022 - val_loss: 1.1766 - val_accuracy: 0.5983\n",
            "Epoch 5/20\n",
            "1250/1250 - 28s - loss: 1.0848 - accuracy: 0.6242 - val_loss: 1.1898 - val_accuracy: 0.5961\n",
            "Epoch 6/20\n",
            "1250/1250 - 28s - loss: 1.0551 - accuracy: 0.6345 - val_loss: 1.2141 - val_accuracy: 0.5903\n",
            "Epoch 7/20\n",
            "1250/1250 - 28s - loss: 1.0265 - accuracy: 0.6457 - val_loss: 1.1778 - val_accuracy: 0.6035\n",
            "Epoch 8/20\n",
            "1250/1250 - 28s - loss: 1.0060 - accuracy: 0.6498 - val_loss: 1.1692 - val_accuracy: 0.6032\n",
            "Epoch 9/20\n",
            "1250/1250 - 28s - loss: 0.9940 - accuracy: 0.6555 - val_loss: 1.2296 - val_accuracy: 0.5938\n",
            "Epoch 10/20\n",
            "1250/1250 - 28s - loss: 0.9761 - accuracy: 0.6625 - val_loss: 1.1129 - val_accuracy: 0.6274\n",
            "Epoch 11/20\n",
            "1250/1250 - 28s - loss: 0.9610 - accuracy: 0.6678 - val_loss: 1.2016 - val_accuracy: 0.6013\n",
            "Epoch 12/20\n",
            "1250/1250 - 28s - loss: 0.9438 - accuracy: 0.6728 - val_loss: 1.1523 - val_accuracy: 0.6187\n",
            "Epoch 13/20\n",
            "1250/1250 - 28s - loss: 0.9416 - accuracy: 0.6722 - val_loss: 1.1776 - val_accuracy: 0.6179\n",
            "Epoch 14/20\n",
            "1250/1250 - 28s - loss: 0.9302 - accuracy: 0.6773 - val_loss: 1.3074 - val_accuracy: 0.5787\n",
            "Epoch 15/20\n",
            "1250/1250 - 28s - loss: 0.9135 - accuracy: 0.6814 - val_loss: 1.1599 - val_accuracy: 0.6182\n",
            "Epoch 16/20\n",
            "1250/1250 - 28s - loss: 0.9183 - accuracy: 0.6815 - val_loss: 1.2006 - val_accuracy: 0.6108\n",
            "Epoch 17/20\n",
            "1250/1250 - 28s - loss: 0.9056 - accuracy: 0.6849 - val_loss: 1.1960 - val_accuracy: 0.6108\n",
            "Epoch 18/20\n",
            "1250/1250 - 28s - loss: 0.8936 - accuracy: 0.6906 - val_loss: 1.2226 - val_accuracy: 0.6063\n",
            "Epoch 19/20\n",
            "1250/1250 - 29s - loss: 0.8950 - accuracy: 0.6882 - val_loss: 1.1992 - val_accuracy: 0.6161\n",
            "Epoch 20/20\n",
            "1250/1250 - 29s - loss: 0.8788 - accuracy: 0.6933 - val_loss: 1.1989 - val_accuracy: 0.6159\n",
            "Model: \"sequential_21\"\n",
            "_________________________________________________________________\n",
            "Layer (type)                 Output Shape              Param #   \n",
            "=================================================================\n",
            "zero_padding2d_6 (ZeroPaddin (None, 34, 34, 3)         0         \n",
            "_________________________________________________________________\n",
            "conv2d_20 (Conv2D)           (None, 32, 32, 32)        896       \n",
            "_________________________________________________________________\n",
            "max_pooling2d_20 (MaxPooling (None, 16, 16, 32)        0         \n",
            "_________________________________________________________________\n",
            "dropout_22 (Dropout)         (None, 16, 16, 32)        0         \n",
            "_________________________________________________________________\n",
            "flatten_20 (Flatten)         (None, 8192)              0         \n",
            "_________________________________________________________________\n",
            "dense_22 (Dense)             (None, 10)                81930     \n",
            "=================================================================\n",
            "Total params: 82,826\n",
            "Trainable params: 82,826\n",
            "Non-trainable params: 0\n",
            "_________________________________________________________________\n"
          ],
          "name": "stdout"
        }
      ]
    },
    {
      "cell_type": "code",
      "metadata": {
        "colab": {
          "base_uri": "https://localhost:8080/",
          "height": 295
        },
        "id": "xOVQP9-i9WjJ",
        "outputId": "57df78c7-d61e-41df-d5d3-614bc2c3fbaa"
      },
      "source": [
        "def plotLosses(history):  \n",
        "    plt.plot(history.history['loss'])\n",
        "    plt.plot(history.history['val_loss'])\n",
        "    plt.title('model loss')\n",
        "    plt.ylabel('loss')\n",
        "    plt.xlabel('epoch')\n",
        "    plt.legend(['train', 'validation'], loc='upper left')\n",
        "    plt.show()\n",
        "plotLosses(cnn)    "
      ],
      "execution_count": null,
      "outputs": [
        {
          "output_type": "display_data",
          "data": {
            "image/png": "[encoded data removed]",
            "text/plain": [
              "<Figure size 432x288 with 1 Axes>"
            ]
          },
          "metadata": {
            "tags": [],
            "needs_background": "light"
          }
        }
      ]
    },
    {
      "cell_type": "code",
      "metadata": {
        "id": "bc98q0qBHsVu"
      },
      "source": [
        "score = cnn_n.evaluate(X_test, Y_test, batch_size=128, verbose=0)"
      ],
      "execution_count": null,
      "outputs": []
    },
    {
      "cell_type": "code",
      "metadata": {
        "colab": {
          "base_uri": "https://localhost:8080/"
        },
        "id": "Jbt190ZLIARp",
        "outputId": "80f172fd-f57b-4af3-a674-525d66c4319a"
      },
      "source": [
        "print(cnn_n.metrics_names)\n",
        "print(score)"
      ],
      "execution_count": null,
      "outputs": [
        {
          "output_type": "stream",
          "text": [
            "['loss', 'accuracy']\n",
            "[1.2067973613739014, 0.6071000099182129]\n"
          ],
          "name": "stdout"
        }
      ]
    },
    {
      "cell_type": "markdown",
      "metadata": {
        "id": "8NhKtCcQJyU1"
      },
      "source": [
        "# **2 DENSE LAYERS**"
      ]
    },
    {
      "cell_type": "code",
      "metadata": {
        "colab": {
          "base_uri": "https://localhost:8080/"
        },
        "id": "pM0JLSwSJ46T",
        "outputId": "64b40a2e-1297-4c10-fb0d-9396de32b460"
      },
      "source": [
        "def base_model():\n",
        "    model = Sequential()\n",
        "    model.add(ZeroPadding2D(1))\n",
        "    model.add(Conv2D(32, (3, 3),padding = 'valid', activation='relu', input_shape=(32, 32, 3)))\n",
        "    model.add(BatchNormalization())\n",
        "    model.add(Activation('relu'))\n",
        "    model.add(MaxPooling2D(pool_size=(2, 2)))\n",
        "    #model.add(Dropout(0.15))\n",
        "    model.add(Flatten())\n",
        "    model.add(Dense(64, activation='relu'))\n",
        "    #model.add(Dropout(0.25))\n",
        "    model.add(Dense(10, activation='softmax'))\n",
        "    sgd = SGD(lr = 0.01, decay=1e-6, momentum=0.9 ,nesterov=True)\n",
        "    model.compile(loss='categorical_crossentropy', metrics=['accuracy'],optimizer = sgd)\n",
        "    return model\n",
        "cnn_n = base_model()\n",
        "cnn = cnn_n.fit(X_train, Y_train, batch_size=32, epochs=20, verbose=2, validation_split=0.2)\n",
        "cnn_n.summary()"
      ],
      "execution_count": null,
      "outputs": [
        {
          "output_type": "stream",
          "text": [
            "Epoch 1/20\n",
            "1250/1250 - 41s - loss: 1.6395 - accuracy: 0.4018 - val_loss: 1.4853 - val_accuracy: 0.4592\n",
            "Epoch 2/20\n",
            "1250/1250 - 40s - loss: 1.3010 - accuracy: 0.5358 - val_loss: 1.2882 - val_accuracy: 0.5441\n",
            "Epoch 3/20\n",
            "1250/1250 - 40s - loss: 1.1856 - accuracy: 0.5834 - val_loss: 1.5093 - val_accuracy: 0.4651\n",
            "Epoch 4/20\n",
            "1250/1250 - 40s - loss: 1.1031 - accuracy: 0.6123 - val_loss: 1.3523 - val_accuracy: 0.5457\n",
            "Epoch 5/20\n",
            "1250/1250 - 39s - loss: 1.0461 - accuracy: 0.6369 - val_loss: 1.2978 - val_accuracy: 0.5637\n",
            "Epoch 6/20\n",
            "1250/1250 - 40s - loss: 0.9957 - accuracy: 0.6545 - val_loss: 1.2229 - val_accuracy: 0.5886\n",
            "Epoch 7/20\n",
            "1250/1250 - 40s - loss: 0.9452 - accuracy: 0.6694 - val_loss: 1.3069 - val_accuracy: 0.5698\n",
            "Epoch 8/20\n",
            "1250/1250 - 39s - loss: 0.9079 - accuracy: 0.6844 - val_loss: 1.2100 - val_accuracy: 0.5989\n",
            "Epoch 9/20\n",
            "1250/1250 - 40s - loss: 0.8683 - accuracy: 0.6948 - val_loss: 1.6748 - val_accuracy: 0.4962\n",
            "Epoch 10/20\n",
            "1250/1250 - 40s - loss: 0.8220 - accuracy: 0.7125 - val_loss: 1.2175 - val_accuracy: 0.6133\n",
            "Epoch 11/20\n",
            "1250/1250 - 40s - loss: 0.7736 - accuracy: 0.7286 - val_loss: 1.2762 - val_accuracy: 0.5985\n",
            "Epoch 12/20\n",
            "1250/1250 - 40s - loss: 0.7361 - accuracy: 0.7431 - val_loss: 1.3790 - val_accuracy: 0.5745\n",
            "Epoch 13/20\n",
            "1250/1250 - 39s - loss: 0.6910 - accuracy: 0.7572 - val_loss: 1.5051 - val_accuracy: 0.5727\n",
            "Epoch 14/20\n",
            "1250/1250 - 39s - loss: 0.6498 - accuracy: 0.7733 - val_loss: 1.4065 - val_accuracy: 0.6009\n",
            "Epoch 15/20\n",
            "1250/1250 - 40s - loss: 0.6094 - accuracy: 0.7860 - val_loss: 1.4029 - val_accuracy: 0.5874\n",
            "Epoch 16/20\n",
            "1250/1250 - 40s - loss: 0.5700 - accuracy: 0.7995 - val_loss: 1.4779 - val_accuracy: 0.5975\n",
            "Epoch 17/20\n",
            "1250/1250 - 40s - loss: 0.5388 - accuracy: 0.8103 - val_loss: 1.5673 - val_accuracy: 0.5807\n",
            "Epoch 18/20\n",
            "1250/1250 - 40s - loss: 0.5161 - accuracy: 0.8184 - val_loss: 1.5802 - val_accuracy: 0.5737\n",
            "Epoch 19/20\n",
            "1250/1250 - 40s - loss: 0.4848 - accuracy: 0.8278 - val_loss: 1.7879 - val_accuracy: 0.5755\n",
            "Epoch 20/20\n",
            "1250/1250 - 40s - loss: 0.4521 - accuracy: 0.8417 - val_loss: 1.9495 - val_accuracy: 0.5851\n",
            "Model: \"sequential_8\"\n",
            "_________________________________________________________________\n",
            "Layer (type)                 Output Shape              Param #   \n",
            "=================================================================\n",
            "zero_padding2d_2 (ZeroPaddin (None, 34, 34, 3)         0         \n",
            "_________________________________________________________________\n",
            "conv2d_20 (Conv2D)           (None, 32, 32, 32)        896       \n",
            "_________________________________________________________________\n",
            "batch_normalization_20 (Batc (None, 32, 32, 32)        128       \n",
            "_________________________________________________________________\n",
            "activation_20 (Activation)   (None, 32, 32, 32)        0         \n",
            "_________________________________________________________________\n",
            "max_pooling2d_20 (MaxPooling (None, 16, 16, 32)        0         \n",
            "_________________________________________________________________\n",
            "flatten_8 (Flatten)          (None, 8192)              0         \n",
            "_________________________________________________________________\n",
            "dense_18 (Dense)             (None, 64)                524352    \n",
            "_________________________________________________________________\n",
            "dense_19 (Dense)             (None, 10)                650       \n",
            "=================================================================\n",
            "Total params: 526,026\n",
            "Trainable params: 525,962\n",
            "Non-trainable params: 64\n",
            "_________________________________________________________________\n"
          ],
          "name": "stdout"
        }
      ]
    },
    {
      "cell_type": "code",
      "metadata": {
        "id": "FpavOdQVKlby",
        "colab": {
          "base_uri": "https://localhost:8080/",
          "height": 295
        },
        "outputId": "6cea527a-7e31-42e3-86ca-f091da3b645f"
      },
      "source": [
        "def plotLosses(history):  \n",
        "    plt.plot(history.history['accuracy'])\n",
        "    plt.plot(history.history['val_accuracy'])\n",
        "    plt.title('model accuracy')\n",
        "    plt.ylabel('accuracy')\n",
        "    plt.xlabel('epoch')\n",
        "    plt.legend(['train', 'validation'], loc='upper left')\n",
        "    plt.show()\n",
        "plotLosses(cnn)    "
      ],
      "execution_count": null,
      "outputs": [
        {
          "output_type": "display_data",
          "data": {
            "image/png": "[encoded data removed]",
            "text/plain": [
              "<Figure size 432x288 with 1 Axes>"
            ]
          },
          "metadata": {
            "tags": [],
            "needs_background": "light"
          }
        }
      ]
    },
    {
      "cell_type": "code",
      "metadata": {
        "id": "pYAL_eWpKoH7"
      },
      "source": [
        "score = cnn_n.evaluate(X_test, Y_test, batch_size=128, verbose=0)"
      ],
      "execution_count": null,
      "outputs": []
    },
    {
      "cell_type": "code",
      "metadata": {
        "id": "Hp7Ae5qvKqXI",
        "colab": {
          "base_uri": "https://localhost:8080/"
        },
        "outputId": "91a4bab6-38a9-47ed-9f78-5e7c4da575b2"
      },
      "source": [
        "print(cnn_n.metrics_names)\n",
        "print(score)"
      ],
      "execution_count": null,
      "outputs": [
        {
          "output_type": "stream",
          "text": [
            "['loss', 'accuracy']\n",
            "[2.021829605102539, 0.571399986743927]\n"
          ],
          "name": "stdout"
        }
      ]
    },
    {
      "cell_type": "markdown",
      "metadata": {
        "id": "ALaHH1qyxBgu"
      },
      "source": [
        "# **2 blocks of Conv2d,Maxpooling2d**"
      ]
    },
    {
      "cell_type": "code",
      "metadata": {
        "colab": {
          "base_uri": "https://localhost:8080/"
        },
        "id": "1KdKTjkExQ9H",
        "outputId": "20201f66-43b4-4aec-a209-d99a95381116"
      },
      "source": [
        "def base_model():\n",
        "    model = Sequential()\n",
        "    model.add(ZeroPadding2D(1))\n",
        "    model.add(Conv2D(32, (3, 3), activation='relu', input_shape=(32, 32, 3)))\n",
        "    model.add(Activation('relu'))\n",
        "    model.add(BatchNormalization())\n",
        "    model.add(MaxPooling2D(pool_size=(2, 2)))\n",
        "    model.add(Conv2D(64, (3, 3)))\n",
        "    model.add(Activation('relu'))\n",
        "    model.add(BatchNormalization())\n",
        "    model.add(MaxPooling2D(pool_size=(2, 2)))\n",
        "    model.add(Flatten())\n",
        "    model.add(Dense(64))\n",
        "    #model.add(Dropout(0.50))\n",
        "    model.add(Dense(10, activation='softmax'))\n",
        "    sgd = SGD(lr=0.01, decay=1e-6, momentum=0.9, nesterov=True)\n",
        "    model.compile(loss='categorical_crossentropy', metrics=['accuracy'], optimizer=sgd)\n",
        "    return model\n",
        "cnn_n = base_model()\n",
        "cnn = cnn_n.fit(X_train, Y_train, batch_size=32, epochs=20, verbose=2, validation_split=0.2)\n",
        "cnn_n.summary()"
      ],
      "execution_count": null,
      "outputs": [
        {
          "output_type": "stream",
          "text": [
            "Epoch 1/20\n",
            "1250/1250 - 63s - loss: 1.5815 - accuracy: 0.4618 - val_loss: 1.2806 - val_accuracy: 0.5495\n",
            "Epoch 2/20\n",
            "1250/1250 - 62s - loss: 1.1655 - accuracy: 0.5884 - val_loss: 1.3977 - val_accuracy: 0.5203\n",
            "Epoch 3/20\n",
            "1250/1250 - 62s - loss: 1.0490 - accuracy: 0.6343 - val_loss: 1.2227 - val_accuracy: 0.5781\n",
            "Epoch 4/20\n",
            "1250/1250 - 62s - loss: 0.9794 - accuracy: 0.6603 - val_loss: 1.1726 - val_accuracy: 0.5955\n",
            "Epoch 5/20\n",
            "1250/1250 - 62s - loss: 0.9247 - accuracy: 0.6775 - val_loss: 1.0258 - val_accuracy: 0.6527\n",
            "Epoch 6/20\n",
            "1250/1250 - 63s - loss: 0.8788 - accuracy: 0.6964 - val_loss: 1.1986 - val_accuracy: 0.5759\n",
            "Epoch 7/20\n",
            "1250/1250 - 62s - loss: 0.8445 - accuracy: 0.7074 - val_loss: 1.1426 - val_accuracy: 0.6155\n",
            "Epoch 8/20\n",
            "1250/1250 - 62s - loss: 0.8098 - accuracy: 0.7207 - val_loss: 1.0181 - val_accuracy: 0.6612\n",
            "Epoch 9/20\n",
            "1250/1250 - 62s - loss: 0.7778 - accuracy: 0.7280 - val_loss: 1.2008 - val_accuracy: 0.6223\n",
            "Epoch 10/20\n",
            "1250/1250 - 62s - loss: 0.7534 - accuracy: 0.7382 - val_loss: 1.0321 - val_accuracy: 0.6649\n",
            "Epoch 11/20\n",
            "1250/1250 - 62s - loss: 0.7276 - accuracy: 0.7468 - val_loss: 1.0728 - val_accuracy: 0.6540\n",
            "Epoch 12/20\n",
            "1250/1250 - 62s - loss: 0.7087 - accuracy: 0.7512 - val_loss: 0.9872 - val_accuracy: 0.6819\n",
            "Epoch 13/20\n",
            "1250/1250 - 62s - loss: 0.6836 - accuracy: 0.7613 - val_loss: 1.1783 - val_accuracy: 0.6273\n",
            "Epoch 14/20\n",
            "1250/1250 - 62s - loss: 0.6677 - accuracy: 0.7666 - val_loss: 1.1489 - val_accuracy: 0.6449\n",
            "Epoch 15/20\n",
            "1250/1250 - 62s - loss: 0.6443 - accuracy: 0.7741 - val_loss: 1.0908 - val_accuracy: 0.6560\n",
            "Epoch 16/20\n",
            "1250/1250 - 62s - loss: 0.6340 - accuracy: 0.7778 - val_loss: 1.1085 - val_accuracy: 0.6719\n",
            "Epoch 17/20\n",
            "1250/1250 - 62s - loss: 0.6209 - accuracy: 0.7830 - val_loss: 1.1022 - val_accuracy: 0.6632\n",
            "Epoch 18/20\n",
            "1250/1250 - 62s - loss: 0.6059 - accuracy: 0.7888 - val_loss: 1.1723 - val_accuracy: 0.6545\n",
            "Epoch 19/20\n",
            "1250/1250 - 62s - loss: 0.5897 - accuracy: 0.7923 - val_loss: 1.1359 - val_accuracy: 0.6663\n",
            "Epoch 20/20\n",
            "1250/1250 - 62s - loss: 0.5763 - accuracy: 0.7982 - val_loss: 1.1386 - val_accuracy: 0.6680\n",
            "Model: \"sequential_9\"\n",
            "_________________________________________________________________\n",
            "Layer (type)                 Output Shape              Param #   \n",
            "=================================================================\n",
            "zero_padding2d_3 (ZeroPaddin (None, 34, 34, 3)         0         \n",
            "_________________________________________________________________\n",
            "conv2d_21 (Conv2D)           (None, 32, 32, 32)        896       \n",
            "_________________________________________________________________\n",
            "activation_21 (Activation)   (None, 32, 32, 32)        0         \n",
            "_________________________________________________________________\n",
            "batch_normalization_21 (Batc (None, 32, 32, 32)        128       \n",
            "_________________________________________________________________\n",
            "max_pooling2d_21 (MaxPooling (None, 16, 16, 32)        0         \n",
            "_________________________________________________________________\n",
            "conv2d_22 (Conv2D)           (None, 14, 14, 64)        18496     \n",
            "_________________________________________________________________\n",
            "activation_22 (Activation)   (None, 14, 14, 64)        0         \n",
            "_________________________________________________________________\n",
            "batch_normalization_22 (Batc (None, 14, 14, 64)        256       \n",
            "_________________________________________________________________\n",
            "max_pooling2d_22 (MaxPooling (None, 7, 7, 64)          0         \n",
            "_________________________________________________________________\n",
            "flatten_9 (Flatten)          (None, 3136)              0         \n",
            "_________________________________________________________________\n",
            "dense_20 (Dense)             (None, 64)                200768    \n",
            "_________________________________________________________________\n",
            "dense_21 (Dense)             (None, 10)                650       \n",
            "=================================================================\n",
            "Total params: 221,194\n",
            "Trainable params: 221,002\n",
            "Non-trainable params: 192\n",
            "_________________________________________________________________\n"
          ],
          "name": "stdout"
        }
      ]
    },
    {
      "cell_type": "code",
      "metadata": {
        "colab": {
          "base_uri": "https://localhost:8080/",
          "height": 295
        },
        "id": "nVnWxFIu3Q2B",
        "outputId": "ad35c325-424b-4b74-97e8-ae2a8e9de813"
      },
      "source": [
        "def plotLosses(history):  \n",
        "    plt.plot(history.history['accuracy'])\n",
        "    plt.plot(history.history['val_accuracy'])\n",
        "    plt.title('model accuracy')\n",
        "    plt.ylabel('accuracy')\n",
        "    plt.xlabel('epoch')\n",
        "    plt.legend(['train', 'validation'], loc='upper left')\n",
        "    plt.show()\n",
        "plotLosses(cnn)    "
      ],
      "execution_count": null,
      "outputs": [
        {
          "output_type": "display_data",
          "data": {
            "image/png": "[encoded data removed]",
            "text/plain": [
              "<Figure size 432x288 with 1 Axes>"
            ]
          },
          "metadata": {
            "tags": [],
            "needs_background": "light"
          }
        }
      ]
    },
    {
      "cell_type": "code",
      "metadata": {
        "id": "ZFb2zCrV3V86"
      },
      "source": [
        "score = cnn_n.evaluate(X_test, Y_test, batch_size=128, verbose=0)"
      ],
      "execution_count": null,
      "outputs": []
    },
    {
      "cell_type": "code",
      "metadata": {
        "colab": {
          "base_uri": "https://localhost:8080/"
        },
        "id": "9A0NebZ63YvL",
        "outputId": "972e9b5c-e7f6-4114-dd52-612c4afa6d4c"
      },
      "source": [
        "print(cnn_n.metrics_names)\n",
        "print(score)"
      ],
      "execution_count": null,
      "outputs": [
        {
          "output_type": "stream",
          "text": [
            "['loss', 'accuracy']\n",
            "[1.1616158485412598, 0.6547999978065491]\n"
          ],
          "name": "stdout"
        }
      ]
    },
    {
      "cell_type": "markdown",
      "metadata": {
        "id": "V9nOaWcx5kBX"
      },
      "source": [
        "# **3 BLOCKS OF MAXPOOL2D,CONV2D**"
      ]
    },
    {
      "cell_type": "code",
      "metadata": {
        "colab": {
          "base_uri": "https://localhost:8080/"
        },
        "id": "9G3zzH_29-k8",
        "outputId": "63bddf15-76ef-4764-815a-bcb91b6d8055"
      },
      "source": [
        "def base_model():\n",
        "    model = Sequential()\n",
        "    model.add(ZeroPadding2D(1))\n",
        "    model.add(Conv2D(32, (3, 3), activation='relu', input_shape=(32, 32, 3)))\n",
        "    model.add(Activation('relu'))\n",
        "    model.add(BatchNormalization())\n",
        "    model.add(MaxPooling2D(pool_size=(2, 2)))\n",
        "    #model.add(Dropout(0.25))\n",
        "    model.add(Conv2D(64, (3, 3)))\n",
        "    model.add(Activation('relu'))\n",
        "    model.add(BatchNormalization())\n",
        "    model.add(MaxPooling2D(pool_size=(2, 2)))\n",
        "    #model.add(Dropout(0.25))\n",
        "    model.add(Conv2D(256, (3, 3)))\n",
        "    model.add(Activation('relu'))\n",
        "    model.add(BatchNormalization())\n",
        "    model.add(MaxPooling2D(pool_size=(2, 2)))\n",
        "    model.add(Flatten())\n",
        "    model.add(Dense(256))\n",
        "    #model.add(Dropout(0.50))\n",
        "    model.add(Dense(64))\n",
        "    model.add(Dense(10, activation='softmax'))\n",
        "    sgd = SGD(lr=0.01, decay=1e-6, momentum=0.9, nesterov=True)\n",
        "    model.compile(loss='categorical_crossentropy', metrics=['accuracy'], optimizer=sgd)\n",
        "    return model\n",
        "cnn_n = base_model()\n",
        "cnn = cnn_n.fit(X_train, Y_train, batch_size=32, epochs=10, verbose=2, validation_split=0.2)\n",
        "cnn_n.summary()"
      ],
      "execution_count": null,
      "outputs": [
        {
          "output_type": "stream",
          "text": [
            "Epoch 1/20\n",
            "1250/1250 - 94s - loss: 1.5905 - accuracy: 0.4460 - val_loss: 1.3551 - val_accuracy: 0.5132\n",
            "Epoch 2/20\n",
            "1250/1250 - 95s - loss: 1.1718 - accuracy: 0.5876 - val_loss: 1.1438 - val_accuracy: 0.6150\n",
            "Epoch 3/20\n",
            "1250/1250 - 95s - loss: 0.9933 - accuracy: 0.6559 - val_loss: 1.0256 - val_accuracy: 0.6491\n",
            "Epoch 4/20\n",
            "1250/1250 - 94s - loss: 0.8627 - accuracy: 0.7014 - val_loss: 1.0884 - val_accuracy: 0.6313\n",
            "Epoch 5/20\n",
            "1250/1250 - 94s - loss: 0.7583 - accuracy: 0.7384 - val_loss: 1.0649 - val_accuracy: 0.6666\n",
            "Epoch 6/20\n",
            "1250/1250 - 95s - loss: 0.6790 - accuracy: 0.7638 - val_loss: 1.0594 - val_accuracy: 0.6614\n",
            "Epoch 7/20\n",
            "1250/1250 - 95s - loss: 0.6042 - accuracy: 0.7902 - val_loss: 1.0124 - val_accuracy: 0.6758\n",
            "Epoch 8/20\n",
            "1250/1250 - 95s - loss: 0.5342 - accuracy: 0.8127 - val_loss: 1.0685 - val_accuracy: 0.6818\n",
            "Epoch 9/20\n",
            "1250/1250 - 95s - loss: 0.4770 - accuracy: 0.8317 - val_loss: 1.1081 - val_accuracy: 0.6538\n",
            "Epoch 10/20\n",
            "1250/1250 - 95s - loss: 0.4196 - accuracy: 0.8508 - val_loss: 1.0060 - val_accuracy: 0.7138\n",
            "Epoch 11/20\n",
            "1250/1250 - 94s - loss: 0.3767 - accuracy: 0.8673 - val_loss: 1.0705 - val_accuracy: 0.7041\n",
            "Epoch 12/20\n",
            "1250/1250 - 94s - loss: 0.3305 - accuracy: 0.8812 - val_loss: 1.0722 - val_accuracy: 0.7168\n",
            "Epoch 13/20\n",
            "1250/1250 - 94s - loss: 0.3009 - accuracy: 0.8927 - val_loss: 1.1952 - val_accuracy: 0.6866\n",
            "Epoch 14/20\n",
            "1250/1250 - 94s - loss: 0.2681 - accuracy: 0.9039 - val_loss: 1.2556 - val_accuracy: 0.7060\n",
            "Epoch 15/20\n",
            "1250/1250 - 94s - loss: 0.2409 - accuracy: 0.9135 - val_loss: 1.3699 - val_accuracy: 0.6894\n",
            "Epoch 16/20\n",
            "1250/1250 - 96s - loss: 0.2219 - accuracy: 0.9222 - val_loss: 1.3594 - val_accuracy: 0.7021\n",
            "Epoch 17/20\n",
            "1250/1250 - 95s - loss: 0.1926 - accuracy: 0.9314 - val_loss: 1.3777 - val_accuracy: 0.7034\n",
            "Epoch 18/20\n",
            "1250/1250 - 95s - loss: 0.1845 - accuracy: 0.9336 - val_loss: 1.6579 - val_accuracy: 0.6773\n",
            "Epoch 19/20\n",
            "1250/1250 - 94s - loss: 0.1727 - accuracy: 0.9383 - val_loss: 1.5344 - val_accuracy: 0.7062\n",
            "Epoch 20/20\n",
            "1250/1250 - 94s - loss: 0.1573 - accuracy: 0.9441 - val_loss: 1.6409 - val_accuracy: 0.6922\n",
            "Model: \"sequential_10\"\n",
            "_________________________________________________________________\n",
            "Layer (type)                 Output Shape              Param #   \n",
            "=================================================================\n",
            "zero_padding2d_4 (ZeroPaddin (None, 34, 34, 3)         0         \n",
            "_________________________________________________________________\n",
            "conv2d_23 (Conv2D)           (None, 32, 32, 32)        896       \n",
            "_________________________________________________________________\n",
            "activation_23 (Activation)   (None, 32, 32, 32)        0         \n",
            "_________________________________________________________________\n",
            "batch_normalization_23 (Batc (None, 32, 32, 32)        128       \n",
            "_________________________________________________________________\n",
            "max_pooling2d_23 (MaxPooling (None, 16, 16, 32)        0         \n",
            "_________________________________________________________________\n",
            "conv2d_24 (Conv2D)           (None, 14, 14, 64)        18496     \n",
            "_________________________________________________________________\n",
            "activation_24 (Activation)   (None, 14, 14, 64)        0         \n",
            "_________________________________________________________________\n",
            "batch_normalization_24 (Batc (None, 14, 14, 64)        256       \n",
            "_________________________________________________________________\n",
            "max_pooling2d_24 (MaxPooling (None, 7, 7, 64)          0         \n",
            "_________________________________________________________________\n",
            "conv2d_25 (Conv2D)           (None, 5, 5, 256)         147712    \n",
            "_________________________________________________________________\n",
            "activation_25 (Activation)   (None, 5, 5, 256)         0         \n",
            "_________________________________________________________________\n",
            "batch_normalization_25 (Batc (None, 5, 5, 256)         1024      \n",
            "_________________________________________________________________\n",
            "max_pooling2d_25 (MaxPooling (None, 2, 2, 256)         0         \n",
            "_________________________________________________________________\n",
            "flatten_10 (Flatten)         (None, 1024)              0         \n",
            "_________________________________________________________________\n",
            "dense_22 (Dense)             (None, 256)               262400    \n",
            "_________________________________________________________________\n",
            "dense_23 (Dense)             (None, 64)                16448     \n",
            "_________________________________________________________________\n",
            "dense_24 (Dense)             (None, 10)                650       \n",
            "=================================================================\n",
            "Total params: 448,010\n",
            "Trainable params: 447,306\n",
            "Non-trainable params: 704\n",
            "_________________________________________________________________\n"
          ],
          "name": "stdout"
        }
      ]
    },
    {
      "cell_type": "code",
      "metadata": {
        "colab": {
          "base_uri": "https://localhost:8080/",
          "height": 295
        },
        "id": "naRwNItdzTzO",
        "outputId": "b0477bbc-7ee7-4370-803c-2877b2e8a46a"
      },
      "source": [
        "def plotLosses(history):  \n",
        "    plt.plot(history.history['accuracy'])\n",
        "    plt.plot(history.history['val_accuracy'])\n",
        "    plt.title('model accuracy')\n",
        "    plt.ylabel('accuracy')\n",
        "    plt.xlabel('epoch')\n",
        "    plt.legend(['train', 'validation'], loc='upper left')\n",
        "    plt.show()\n",
        "plotLosses(cnn)    "
      ],
      "execution_count": null,
      "outputs": [
        {
          "output_type": "display_data",
          "data": {
            "image/png": "[encoded data removed]",
            "text/plain": [
              "<Figure size 432x288 with 1 Axes>"
            ]
          },
          "metadata": {
            "tags": [],
            "needs_background": "light"
          }
        }
      ]
    },
    {
      "cell_type": "code",
      "metadata": {
        "id": "HY8xfiln_0OC"
      },
      "source": [
        "score = cnn_n.evaluate(X_test, Y_test, batch_size=128, verbose=0)"
      ],
      "execution_count": null,
      "outputs": []
    },
    {
      "cell_type": "code",
      "metadata": {
        "colab": {
          "base_uri": "https://localhost:8080/"
        },
        "id": "XVikY-a8_2kN",
        "outputId": "cb6e5873-3e26-4273-e55a-8b60d2b91f83"
      },
      "source": [
        "print(cnn_n.metrics_names)\n",
        "print(score)"
      ],
      "execution_count": null,
      "outputs": [
        {
          "output_type": "stream",
          "text": [
            "['loss', 'accuracy']\n",
            "[1.6383074522018433, 0.6876000165939331]\n"
          ],
          "name": "stdout"
        }
      ]
    },
    {
      "cell_type": "markdown",
      "metadata": {
        "id": "f0ddQ06TBUb_"
      },
      "source": [
        "# **3 LAYERS HAS MAXIMUM ACCURACY HENCE WE SAVE THAT**"
      ]
    },
    {
      "cell_type": "code",
      "metadata": {
        "colab": {
          "base_uri": "https://localhost:8080/"
        },
        "id": "d5GJ27j-GCAj",
        "outputId": "2f068401-d9b9-4c76-d3d0-56f5a84eca78"
      },
      "source": [
        "cnn_n.save(\"mymodel\")"
      ],
      "execution_count": null,
      "outputs": [
        {
          "output_type": "stream",
          "text": [
            "INFO:tensorflow:Assets written to: mymodel/assets\n"
          ],
          "name": "stdout"
        }
      ]
    },
    {
      "cell_type": "markdown",
      "metadata": {
        "id": "lDvZqOB3RKTX"
      },
      "source": [
        "# **ACCURACIES**"
      ]
    },
    {
      "cell_type": "markdown",
      "metadata": {
        "id": "tbnwyv-mROZ1"
      },
      "source": [
        "**THESE ARE THE FOLLOWING ACCURACIES OF THE MODELS**\n",
        "- **SINGLE LAYER - 0.613**\n",
        "- **DOUBLE DENSE LAYER - 0.63**\n",
        "- **2 LAYERS OF CONV2D,NORMALIZATION,MAXPOOL - 0.68**\n",
        "- **3 LAYERS OF CONV2D,NORM,MAXPOOL - 0.73**\n"
      ]
    },
    {
      "cell_type": "code",
      "metadata": {
        "id": "Sxmy4KwzJlJm"
      },
      "source": [
        "import pandas as pd\n",
        "data = {'Model Name' :['Single Layer','Double Dense Layer','2 layers of Conv2D,Maxpool2d','3 layers of Conv2D,Maxpool2d'],\n",
        "        'Accuracy' : [0.613,0.63,0.68,0.73],\n",
        "        'Time Taken in seconds': [580,820,1260,1880]}\n",
        "df = pd.DataFrame(data, index =['1',\n",
        "                                '2',\n",
        "                                '3',\n",
        "                                '4'])"
      ],
      "execution_count": 2,
      "outputs": []
    },
    {
      "cell_type": "code",
      "metadata": {
        "colab": {
          "base_uri": "https://localhost:8080/",
          "height": 166
        },
        "id": "GgwuVVBjK-TT",
        "outputId": "70131eed-0f98-4a6c-86f9-81cfb2402f28"
      },
      "source": [
        "df"
      ],
      "execution_count": 3,
      "outputs": [
        {
          "output_type": "execute_result",
          "data": {
            "text/html": [
              "<div>\n",
              "<style scoped>\n",
              "    .dataframe tbody tr th:only-of-type {\n",
              "        vertical-align: middle;\n",
              "    }\n",
              "\n",
              "    .dataframe tbody tr th {\n",
              "        vertical-align: top;\n",
              "    }\n",
              "\n",
              "    .dataframe thead th {\n",
              "        text-align: right;\n",
              "    }\n",
              "</style>\n",
              "<table border=\"1\" class=\"dataframe\">\n",
              "  <thead>\n",
              "    <tr style=\"text-align: right;\">\n",
              "      <th></th>\n",
              "      <th>Model Name</th>\n",
              "      <th>Accuracy</th>\n",
              "      <th>Time Taken in seconds</th>\n",
              "    </tr>\n",
              "  </thead>\n",
              "  <tbody>\n",
              "    <tr>\n",
              "      <th>1</th>\n",
              "      <td>Single Layer</td>\n",
              "      <td>0.613</td>\n",
              "      <td>580</td>\n",
              "    </tr>\n",
              "    <tr>\n",
              "      <th>2</th>\n",
              "      <td>Double Dense Layer</td>\n",
              "      <td>0.630</td>\n",
              "      <td>820</td>\n",
              "    </tr>\n",
              "    <tr>\n",
              "      <th>3</th>\n",
              "      <td>2 layers of Conv2D,Maxpool2d</td>\n",
              "      <td>0.680</td>\n",
              "      <td>1260</td>\n",
              "    </tr>\n",
              "    <tr>\n",
              "      <th>4</th>\n",
              "      <td>3 layers of Conv2D,Maxpool2d</td>\n",
              "      <td>0.730</td>\n",
              "      <td>1880</td>\n",
              "    </tr>\n",
              "  </tbody>\n",
              "</table>\n",
              "</div>"
            ],
            "text/plain": [
              "                     Model Name  Accuracy  Time Taken in seconds\n",
              "1                  Single Layer     0.613                    580\n",
              "2            Double Dense Layer     0.630                    820\n",
              "3  2 layers of Conv2D,Maxpool2d     0.680                   1260\n",
              "4  3 layers of Conv2D,Maxpool2d     0.730                   1880"
            ]
          },
          "metadata": {
            "tags": []
          },
          "execution_count": 3
        }
      ]
    }
  ]
}