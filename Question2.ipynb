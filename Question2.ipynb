{
  "nbformat": 4,
  "nbformat_minor": 0,
  "metadata": {
    "colab": {
      "name": "Question2.ipynb",
      "provenance": [],
      "collapsed_sections": [],
      "toc_visible": true
    },
    "kernelspec": {
      "display_name": "Python 3",
      "name": "python3"
    }
  },
  "cells": [
    {
      "cell_type": "code",
      "metadata": {
        "id": "vejbkU64Npxs"
      },
      "source": [
        "import tensorflow as tf\n",
        "import numpy as np\n",
        "import pandas as pd\n",
        "import matplotlib.pyplot as plt\n",
        "import os\n",
        "import time\n",
        "import matplotlib.pyplot as plt\n",
        "from tensorflow import keras\n",
        "import numpy as np\n",
        "from keras.models import Sequential\n",
        "from keras.layers import Dense\n",
        "from keras.layers import Dropout\n",
        "from keras.layers import Flatten\n",
        "from keras.constraints import maxnorm\n",
        "from keras.optimizers import SGD\n",
        "from keras.optimizers import Adam\n",
        "from keras.optimizers import RMSprop\n",
        "from keras.layers import Activation\n",
        "from keras.layers.convolutional import Conv2D\n",
        "from keras.layers.convolutional import ZeroPadding2D\n",
        "from keras.layers.convolutional import MaxPooling2D\n",
        "from keras.layers.normalization import BatchNormalization\n",
        "from keras.utils import np_utils\n",
        "import pickle\n",
        "\n",
        "# Import Tensorflow with multiprocessing\n",
        "import tensorflow as tf\n",
        "import multiprocessing as mp\n",
        "from keras import regularizers\n",
        "\n",
        "# Loading the CIFAR-10 datasets\n",
        "from keras.datasets import cifar10\n",
        "from keras.datasets import mnist\n",
        "\n"
      ],
      "execution_count": 2,
      "outputs": []
    },
    {
      "cell_type": "code",
      "metadata": {
        "id": "DFyZC-WwPTvw",
        "colab": {
          "base_uri": "https://localhost:8080/"
        },
        "outputId": "48ba7106-be43-439c-8f47-95cc595a5a27"
      },
      "source": [
        "from keras.datasets import mnist\n",
        "import numpy as np\n",
        "(x_train, _), (x_test, _) = mnist.load_data()\n",
        "x_train = x_train.astype('float32') / 255.\n",
        "x_test = x_test.astype('float32') / 255.\n",
        "x_train = x_train.reshape((len(x_train), np.prod(x_train.shape[1:])))\n",
        "x_test = x_test.reshape((len(x_test), np.prod(x_test.shape[1:])))\n",
        "print(x_train.shape)\n",
        "print(x_test.shape)\n",
        "X_train = x_train\n",
        "X_test = x_test"
      ],
      "execution_count": 3,
      "outputs": [
        {
          "output_type": "stream",
          "text": [
            "Downloading data from https://storage.googleapis.com/tensorflow/tf-keras-datasets/mnist.npz\n",
            "11493376/11490434 [==============================] - 0s 0us/step\n",
            "(60000, 784)\n",
            "(10000, 784)\n"
          ],
          "name": "stdout"
        }
      ]
    },
    {
      "cell_type": "code",
      "metadata": {
        "colab": {
          "base_uri": "https://localhost:8080/"
        },
        "id": "noi7NDFikwII",
        "outputId": "913bd19e-888b-4ea3-e322-908a285505b3"
      },
      "source": [
        "#X_train = X_train.reshape(X_train.shape[0],X_train.shape[1]*X_train.shape[2])\n",
        "#X_test = X_test.reshape(X_test.shape[0],X_test.shape[1]*X_test.shape[2])\n",
        "print(X_train.shape)\n",
        "#print(Y_train.shape)"
      ],
      "execution_count": 5,
      "outputs": [
        {
          "output_type": "stream",
          "text": [
            "(60000, 784)\n"
          ],
          "name": "stdout"
        }
      ]
    },
    {
      "cell_type": "markdown",
      "metadata": {
        "id": "7T6cCv4l1UAp"
      },
      "source": [
        "# **RUNNING ON TRAIN DATA USING ADAM**"
      ]
    },
    {
      "cell_type": "code",
      "metadata": {
        "colab": {
          "base_uri": "https://localhost:8080/"
        },
        "id": "NYhQSkElVi9c",
        "outputId": "ca28654f-2dcb-4740-bbbe-e901c286ea42"
      },
      "source": [
        "def model():\n",
        "  input_img = tf.keras.layers.Input(shape=(784,))\n",
        "  encoded = tf.keras.layers.Dense(128, activation='relu',activity_regularizer=regularizers.l1(10e-5))(input_img)\n",
        "  encoded = tf.keras.layers.Dense(64, activation='relu',activity_regularizer=regularizers.l1(10e-5))(encoded)\n",
        "  encoded = tf.keras.layers.Dense(32, activation='relu',activity_regularizer=regularizers.l1(10e-5))(encoded)\n",
        "  decoded = tf.keras.layers.Dense(64, activation='relu')(encoded)\n",
        "  decoded = tf.keras.layers.Dense(128, activation='relu')(decoded)\n",
        "  decoded = tf.keras.layers.Dense(784, activation='sigmoid')(decoded)\n",
        "  autoencoder = tf.keras.models.Model(input_img, decoded)\n",
        "  #sgd = SGD(lr = 0.01, decay=1e-6, momentum=0.9 ,nesterov=True)\n",
        "  autoencoder.compile(optimizer='adam', loss='binary_crossentropy')\n",
        "  #autoencoder.compile(loss='binary_crossentropy', metrics=['accuracy'],optimizer = sgd)\n",
        "  return autoencoder\n",
        "deeperautoencoderADAM = model()\n",
        "history = deeperautoencoderADAM.fit(X_train, X_train, epochs=100, batch_size=256, shuffle=True, validation_data=(X_test, X_test))\n",
        "  \n"
      ],
      "execution_count": null,
      "outputs": [
        {
          "output_type": "stream",
          "text": [
            "Epoch 1/100\n",
            "235/235 [==============================] - 5s 17ms/step - loss: 0.3679 - val_loss: 0.1913\n",
            "Epoch 2/100\n",
            "235/235 [==============================] - 4s 16ms/step - loss: 0.1778 - val_loss: 0.1532\n",
            "Epoch 3/100\n",
            "235/235 [==============================] - 4s 16ms/step - loss: 0.1510 - val_loss: 0.1411\n",
            "Epoch 4/100\n",
            "235/235 [==============================] - 4s 16ms/step - loss: 0.1407 - val_loss: 0.1352\n",
            "Epoch 5/100\n",
            "235/235 [==============================] - 4s 16ms/step - loss: 0.1350 - val_loss: 0.1298\n",
            "Epoch 6/100\n",
            "235/235 [==============================] - 4s 16ms/step - loss: 0.1293 - val_loss: 0.1240\n",
            "Epoch 7/100\n",
            "235/235 [==============================] - 4s 16ms/step - loss: 0.1243 - val_loss: 0.1203\n",
            "Epoch 8/100\n",
            "235/235 [==============================] - 4s 16ms/step - loss: 0.1205 - val_loss: 0.1175\n",
            "Epoch 9/100\n",
            "235/235 [==============================] - 4s 16ms/step - loss: 0.1182 - val_loss: 0.1149\n",
            "Epoch 10/100\n",
            "235/235 [==============================] - 4s 16ms/step - loss: 0.1156 - val_loss: 0.1130\n",
            "Epoch 11/100\n",
            "235/235 [==============================] - 4s 16ms/step - loss: 0.1133 - val_loss: 0.1114\n",
            "Epoch 12/100\n",
            "235/235 [==============================] - 4s 16ms/step - loss: 0.1121 - val_loss: 0.1102\n",
            "Epoch 13/100\n",
            "235/235 [==============================] - 4s 16ms/step - loss: 0.1107 - val_loss: 0.1090\n",
            "Epoch 14/100\n",
            "235/235 [==============================] - 4s 16ms/step - loss: 0.1096 - val_loss: 0.1079\n",
            "Epoch 15/100\n",
            "235/235 [==============================] - 4s 16ms/step - loss: 0.1083 - val_loss: 0.1067\n",
            "Epoch 16/100\n",
            "235/235 [==============================] - 4s 16ms/step - loss: 0.1070 - val_loss: 0.1057\n",
            "Epoch 17/100\n",
            "235/235 [==============================] - 4s 16ms/step - loss: 0.1062 - val_loss: 0.1048\n",
            "Epoch 18/100\n",
            "235/235 [==============================] - 4s 16ms/step - loss: 0.1053 - val_loss: 0.1041\n",
            "Epoch 19/100\n",
            "235/235 [==============================] - 4s 16ms/step - loss: 0.1044 - val_loss: 0.1032\n",
            "Epoch 20/100\n",
            "235/235 [==============================] - 4s 16ms/step - loss: 0.1033 - val_loss: 0.1022\n",
            "Epoch 21/100\n",
            "235/235 [==============================] - 4s 16ms/step - loss: 0.1024 - val_loss: 0.1012\n",
            "Epoch 22/100\n",
            "235/235 [==============================] - 4s 16ms/step - loss: 0.1015 - val_loss: 0.1007\n",
            "Epoch 23/100\n",
            "235/235 [==============================] - 4s 16ms/step - loss: 0.1010 - val_loss: 0.0998\n",
            "Epoch 24/100\n",
            "235/235 [==============================] - 4s 16ms/step - loss: 0.1003 - val_loss: 0.0995\n",
            "Epoch 25/100\n",
            "235/235 [==============================] - 4s 16ms/step - loss: 0.0998 - val_loss: 0.0988\n",
            "Epoch 26/100\n",
            "235/235 [==============================] - 4s 16ms/step - loss: 0.0990 - val_loss: 0.0982\n",
            "Epoch 27/100\n",
            "235/235 [==============================] - 4s 16ms/step - loss: 0.0987 - val_loss: 0.0977\n",
            "Epoch 28/100\n",
            "235/235 [==============================] - 4s 16ms/step - loss: 0.0985 - val_loss: 0.0975\n",
            "Epoch 29/100\n",
            "235/235 [==============================] - 4s 16ms/step - loss: 0.0978 - val_loss: 0.0972\n",
            "Epoch 30/100\n",
            "235/235 [==============================] - 4s 16ms/step - loss: 0.0974 - val_loss: 0.0967\n",
            "Epoch 31/100\n",
            "235/235 [==============================] - 4s 16ms/step - loss: 0.0970 - val_loss: 0.0963\n",
            "Epoch 32/100\n",
            "235/235 [==============================] - 4s 16ms/step - loss: 0.0969 - val_loss: 0.0963\n",
            "Epoch 33/100\n",
            "235/235 [==============================] - 4s 16ms/step - loss: 0.0966 - val_loss: 0.0959\n",
            "Epoch 34/100\n",
            "235/235 [==============================] - 4s 16ms/step - loss: 0.0965 - val_loss: 0.0959\n",
            "Epoch 35/100\n",
            "235/235 [==============================] - 4s 16ms/step - loss: 0.0962 - val_loss: 0.0955\n",
            "Epoch 36/100\n",
            "235/235 [==============================] - 4s 16ms/step - loss: 0.0959 - val_loss: 0.0954\n",
            "Epoch 37/100\n",
            "235/235 [==============================] - 4s 16ms/step - loss: 0.0957 - val_loss: 0.0951\n",
            "Epoch 38/100\n",
            "235/235 [==============================] - 4s 16ms/step - loss: 0.0954 - val_loss: 0.0949\n",
            "Epoch 39/100\n",
            "235/235 [==============================] - 4s 16ms/step - loss: 0.0951 - val_loss: 0.0948\n",
            "Epoch 40/100\n",
            "235/235 [==============================] - 4s 16ms/step - loss: 0.0950 - val_loss: 0.0945\n",
            "Epoch 41/100\n",
            "235/235 [==============================] - 4s 16ms/step - loss: 0.0947 - val_loss: 0.0942\n",
            "Epoch 42/100\n",
            "235/235 [==============================] - 4s 16ms/step - loss: 0.0946 - val_loss: 0.0939\n",
            "Epoch 43/100\n",
            "235/235 [==============================] - 4s 16ms/step - loss: 0.0945 - val_loss: 0.0939\n",
            "Epoch 44/100\n",
            "235/235 [==============================] - 4s 16ms/step - loss: 0.0941 - val_loss: 0.0939\n",
            "Epoch 45/100\n",
            "235/235 [==============================] - 4s 16ms/step - loss: 0.0940 - val_loss: 0.0937\n",
            "Epoch 46/100\n",
            "235/235 [==============================] - 4s 16ms/step - loss: 0.0938 - val_loss: 0.0932\n",
            "Epoch 47/100\n",
            "235/235 [==============================] - 4s 16ms/step - loss: 0.0937 - val_loss: 0.0933\n",
            "Epoch 48/100\n",
            "235/235 [==============================] - 4s 16ms/step - loss: 0.0933 - val_loss: 0.0931\n",
            "Epoch 49/100\n",
            "235/235 [==============================] - 4s 16ms/step - loss: 0.0932 - val_loss: 0.0930\n",
            "Epoch 50/100\n",
            "235/235 [==============================] - 4s 16ms/step - loss: 0.0932 - val_loss: 0.0927\n",
            "Epoch 51/100\n",
            "235/235 [==============================] - 4s 16ms/step - loss: 0.0932 - val_loss: 0.0928\n",
            "Epoch 52/100\n",
            "235/235 [==============================] - 4s 16ms/step - loss: 0.0929 - val_loss: 0.0924\n",
            "Epoch 53/100\n",
            "235/235 [==============================] - 4s 16ms/step - loss: 0.0926 - val_loss: 0.0924\n",
            "Epoch 54/100\n",
            "235/235 [==============================] - 4s 16ms/step - loss: 0.0926 - val_loss: 0.0920\n",
            "Epoch 55/100\n",
            "235/235 [==============================] - 4s 16ms/step - loss: 0.0923 - val_loss: 0.0920\n",
            "Epoch 56/100\n",
            "235/235 [==============================] - 4s 16ms/step - loss: 0.0923 - val_loss: 0.0921\n",
            "Epoch 57/100\n",
            "235/235 [==============================] - 4s 16ms/step - loss: 0.0922 - val_loss: 0.0920\n",
            "Epoch 58/100\n",
            "235/235 [==============================] - 4s 16ms/step - loss: 0.0921 - val_loss: 0.0917\n",
            "Epoch 59/100\n",
            "235/235 [==============================] - 4s 16ms/step - loss: 0.0917 - val_loss: 0.0916\n",
            "Epoch 60/100\n",
            "235/235 [==============================] - 4s 16ms/step - loss: 0.0917 - val_loss: 0.0913\n",
            "Epoch 61/100\n",
            "235/235 [==============================] - 4s 16ms/step - loss: 0.0917 - val_loss: 0.0910\n",
            "Epoch 62/100\n",
            "235/235 [==============================] - 4s 16ms/step - loss: 0.0916 - val_loss: 0.0910\n",
            "Epoch 63/100\n",
            "235/235 [==============================] - 4s 16ms/step - loss: 0.0914 - val_loss: 0.0910\n",
            "Epoch 64/100\n",
            "235/235 [==============================] - 4s 16ms/step - loss: 0.0912 - val_loss: 0.0908\n",
            "Epoch 65/100\n",
            "235/235 [==============================] - 4s 16ms/step - loss: 0.0908 - val_loss: 0.0904\n",
            "Epoch 66/100\n",
            "235/235 [==============================] - 4s 16ms/step - loss: 0.0908 - val_loss: 0.0905\n",
            "Epoch 67/100\n",
            "235/235 [==============================] - 4s 16ms/step - loss: 0.0907 - val_loss: 0.0904\n",
            "Epoch 68/100\n",
            "235/235 [==============================] - 4s 16ms/step - loss: 0.0905 - val_loss: 0.0903\n",
            "Epoch 69/100\n",
            "235/235 [==============================] - 4s 16ms/step - loss: 0.0905 - val_loss: 0.0903\n",
            "Epoch 70/100\n",
            "235/235 [==============================] - 4s 16ms/step - loss: 0.0904 - val_loss: 0.0903\n",
            "Epoch 71/100\n",
            "235/235 [==============================] - 4s 16ms/step - loss: 0.0902 - val_loss: 0.0900\n",
            "Epoch 72/100\n",
            "235/235 [==============================] - 4s 17ms/step - loss: 0.0899 - val_loss: 0.0899\n",
            "Epoch 73/100\n",
            "235/235 [==============================] - 4s 16ms/step - loss: 0.0900 - val_loss: 0.0897\n",
            "Epoch 74/100\n",
            "235/235 [==============================] - 4s 16ms/step - loss: 0.0897 - val_loss: 0.0897\n",
            "Epoch 75/100\n",
            "235/235 [==============================] - 4s 16ms/step - loss: 0.0900 - val_loss: 0.0896\n",
            "Epoch 76/100\n",
            "235/235 [==============================] - 4s 16ms/step - loss: 0.0897 - val_loss: 0.0896\n",
            "Epoch 77/100\n",
            "235/235 [==============================] - 4s 16ms/step - loss: 0.0898 - val_loss: 0.0895\n",
            "Epoch 78/100\n",
            "235/235 [==============================] - 4s 16ms/step - loss: 0.0896 - val_loss: 0.0893\n",
            "Epoch 79/100\n",
            "235/235 [==============================] - 4s 16ms/step - loss: 0.0896 - val_loss: 0.0895\n",
            "Epoch 80/100\n",
            "235/235 [==============================] - 4s 16ms/step - loss: 0.0897 - val_loss: 0.0892\n",
            "Epoch 81/100\n",
            "235/235 [==============================] - 4s 16ms/step - loss: 0.0892 - val_loss: 0.0892\n",
            "Epoch 82/100\n",
            "235/235 [==============================] - 4s 16ms/step - loss: 0.0894 - val_loss: 0.0893\n",
            "Epoch 83/100\n",
            "235/235 [==============================] - 4s 16ms/step - loss: 0.0892 - val_loss: 0.0890\n",
            "Epoch 84/100\n",
            "235/235 [==============================] - 4s 16ms/step - loss: 0.0889 - val_loss: 0.0889\n",
            "Epoch 85/100\n",
            "235/235 [==============================] - 4s 16ms/step - loss: 0.0890 - val_loss: 0.0889\n",
            "Epoch 86/100\n",
            "235/235 [==============================] - 4s 16ms/step - loss: 0.0890 - val_loss: 0.0889\n",
            "Epoch 87/100\n",
            "235/235 [==============================] - 4s 17ms/step - loss: 0.0889 - val_loss: 0.0888\n",
            "Epoch 88/100\n",
            "235/235 [==============================] - 4s 16ms/step - loss: 0.0888 - val_loss: 0.0889\n",
            "Epoch 89/100\n",
            "235/235 [==============================] - 4s 16ms/step - loss: 0.0889 - val_loss: 0.0888\n",
            "Epoch 90/100\n",
            "235/235 [==============================] - 4s 17ms/step - loss: 0.0885 - val_loss: 0.0886\n",
            "Epoch 91/100\n",
            "235/235 [==============================] - 4s 16ms/step - loss: 0.0888 - val_loss: 0.0882\n",
            "Epoch 92/100\n",
            "235/235 [==============================] - 4s 16ms/step - loss: 0.0884 - val_loss: 0.0884\n",
            "Epoch 93/100\n",
            "235/235 [==============================] - 4s 16ms/step - loss: 0.0887 - val_loss: 0.0884\n",
            "Epoch 94/100\n",
            "235/235 [==============================] - 4s 17ms/step - loss: 0.0886 - val_loss: 0.0883\n",
            "Epoch 95/100\n",
            "235/235 [==============================] - 4s 17ms/step - loss: 0.0883 - val_loss: 0.0886\n",
            "Epoch 96/100\n",
            "235/235 [==============================] - 4s 16ms/step - loss: 0.0884 - val_loss: 0.0885\n",
            "Epoch 97/100\n",
            "235/235 [==============================] - 4s 16ms/step - loss: 0.0883 - val_loss: 0.0881\n",
            "Epoch 98/100\n",
            "235/235 [==============================] - 4s 16ms/step - loss: 0.0883 - val_loss: 0.0882\n",
            "Epoch 99/100\n",
            "235/235 [==============================] - 4s 16ms/step - loss: 0.0882 - val_loss: 0.0882\n",
            "Epoch 100/100\n",
            "235/235 [==============================] - 4s 16ms/step - loss: 0.0881 - val_loss: 0.0880\n"
          ],
          "name": "stdout"
        }
      ]
    },
    {
      "cell_type": "code",
      "metadata": {
        "colab": {
          "base_uri": "https://localhost:8080/",
          "height": 299
        },
        "id": "GFKGG2xDfKWd",
        "outputId": "5bc772ff-5972-4542-fd70-b536f838ccee"
      },
      "source": [
        "import matplotlib\n",
        "import matplotlib.pyplot as plt\n",
        "%matplotlib inline\n",
        "# construct a plot that plots and displays the training history\n",
        "N = np.arange(0, 100)\n",
        "plt.style.use('ggplot')\n",
        "plt.figure()\n",
        "plt.plot(N, history.history['loss'], label='train_loss')\n",
        "plt.plot(N, history.history['val_loss'], label='val_loss')\n",
        "plt.title('Training Loss and Accuracy')\n",
        "plt.xlabel('Epoch #')\n",
        "plt.ylabel('Loss/Accuracy')\n",
        "plt.legend(loc='lower left')\n",
        "# plt.savefig(plot)\n",
        "plt.show(block=True)"
      ],
      "execution_count": null,
      "outputs": [
        {
          "output_type": "display_data",
          "data": {
            "image/png": "[encoded data removed]",
            "text/plain": [
              "<Figure size 432x288 with 1 Axes>"
            ]
          },
          "metadata": {
            "tags": []
          }
        }
      ]
    },
    {
      "cell_type": "code",
      "metadata": {
        "colab": {
          "base_uri": "https://localhost:8080/",
          "height": 244
        },
        "id": "ju_v4CKzizNF",
        "outputId": "38b6e738-7cf2-4112-dcf7-e21d423d3202"
      },
      "source": [
        "decoded_imgs = deeperautoencoderADAM.predict(X_train)\n",
        "\n",
        "n = 10\n",
        "plt.figure(figsize=(20, 4))\n",
        "for i in range(1, n + 1):\n",
        "    # Display original\n",
        "    ax = plt.subplot(2, n, i)\n",
        "    plt.imshow(x_test[i].reshape(28, 28))\n",
        "    plt.gray()\n",
        "    ax.get_xaxis().set_visible(False)\n",
        "    ax.get_yaxis().set_visible(False)\n",
        "\n",
        "    # Display reconstruction\n",
        "    ax = plt.subplot(2, n, i + n)\n",
        "    plt.imshow(decoded_imgs[i].reshape(28, 28))\n",
        "    plt.gray()\n",
        "    ax.get_xaxis().set_visible(False)\n",
        "    ax.get_yaxis().set_visible(False)\n",
        "plt.show()"
      ],
      "execution_count": null,
      "outputs": [
        {
          "output_type": "display_data",
          "data": {
            "image/png": "[encoded data removed]",
            "text/plain": [
              "<Figure size 1440x288 with 20 Axes>"
            ]
          },
          "metadata": {
            "tags": []
          }
        }
      ]
    },
    {
      "cell_type": "markdown",
      "metadata": {
        "id": "5Mwo3_iV1JKK"
      },
      "source": [
        "# **RUNNING ON TEST DATA USING ADAM**"
      ]
    },
    {
      "cell_type": "code",
      "metadata": {
        "colab": {
          "base_uri": "https://localhost:8080/"
        },
        "id": "qsLHeQat13vv",
        "outputId": "4a08ba11-d0d7-4f21-e53c-45f86ec33047"
      },
      "source": [
        "\n",
        "decoded_imgs = deeperautoencoder.predict(X_test)\n",
        "bce = tf.keras.losses.BinaryCrossentropy()\n",
        "bce(X_test, decoded_imgs).numpy()\n",
        "\n"
      ],
      "execution_count": null,
      "outputs": [
        {
          "output_type": "execute_result",
          "data": {
            "text/plain": [
              "0.08625174"
            ]
          },
          "metadata": {
            "tags": []
          },
          "execution_count": 90
        }
      ]
    },
    {
      "cell_type": "markdown",
      "metadata": {
        "id": "Vv4sfoI_2VoU"
      },
      "source": [
        "# **TRAIN DATA USING SGD**"
      ]
    },
    {
      "cell_type": "code",
      "metadata": {
        "colab": {
          "base_uri": "https://localhost:8080/"
        },
        "id": "B3N9sSu42geH",
        "outputId": "fb89c3ab-03fb-403e-88ba-6b4cd6f3203e"
      },
      "source": [
        "def model():\n",
        "  input_img = tf.keras.layers.Input(shape=(784,))\n",
        "  encoded = tf.keras.layers.Dense(128, activation='relu',activity_regularizer=regularizers.l1(10e-5))(input_img)\n",
        "  encoded = tf.keras.layers.Dense(64, activation='relu',activity_regularizer=regularizers.l1(10e-5))(encoded)\n",
        "  encoded = tf.keras.layers.Dense(32, activation='relu',activity_regularizer=regularizers.l1(10e-5))(encoded)\n",
        "  decoded = tf.keras.layers.Dense(64, activation='relu')(encoded)\n",
        "  decoded = tf.keras.layers.Dense(128, activation='relu')(decoded)\n",
        "  decoded = tf.keras.layers.Dense(784, activation='sigmoid')(decoded)\n",
        "  autoencoder = tf.keras.models.Model(input_img, decoded)\n",
        "  sgd = SGD(lr = 0.01, decay=1e-6, momentum=0.9 ,nesterov=True)\n",
        "  #autoencoder.compile(optimizer='adam', loss='binary_crossentropy')\n",
        "  autoencoder.compile(loss='binary_crossentropy', metrics=['accuracy'],optimizer = sgd)\n",
        "  return autoencoder\n",
        "deeperautoencoder = model()\n",
        "history = deeperautoencoder.fit(X_train, X_train, epochs=100, batch_size=256, shuffle=True, validation_data=(X_test, X_test))\n",
        "  \n"
      ],
      "execution_count": null,
      "outputs": [
        {
          "output_type": "stream",
          "text": [
            "Epoch 1/100\n",
            "235/235 [==============================] - 5s 17ms/step - loss: 0.6950 - accuracy: 0.0013 - val_loss: 0.6893 - val_accuracy: 0.0024\n",
            "Epoch 2/100\n",
            "235/235 [==============================] - 4s 16ms/step - loss: 0.6862 - accuracy: 0.0025 - val_loss: 0.6591 - val_accuracy: 0.0014\n",
            "Epoch 3/100\n",
            "235/235 [==============================] - 4s 16ms/step - loss: 0.5406 - accuracy: 0.0037 - val_loss: 0.2893 - val_accuracy: 0.0157\n",
            "Epoch 4/100\n",
            "235/235 [==============================] - 4s 16ms/step - loss: 0.2866 - accuracy: 0.0145 - val_loss: 0.2799 - val_accuracy: 0.0149\n",
            "Epoch 5/100\n",
            "235/235 [==============================] - 4s 16ms/step - loss: 0.2788 - accuracy: 0.0150 - val_loss: 0.2751 - val_accuracy: 0.0170\n",
            "Epoch 6/100\n",
            "235/235 [==============================] - 4s 16ms/step - loss: 0.2738 - accuracy: 0.0151 - val_loss: 0.2712 - val_accuracy: 0.0160\n",
            "Epoch 7/100\n",
            "235/235 [==============================] - 4s 16ms/step - loss: 0.2706 - accuracy: 0.0145 - val_loss: 0.2677 - val_accuracy: 0.0163\n",
            "Epoch 8/100\n",
            "235/235 [==============================] - 4s 17ms/step - loss: 0.2672 - accuracy: 0.0152 - val_loss: 0.2648 - val_accuracy: 0.0164\n",
            "Epoch 9/100\n",
            "235/235 [==============================] - 4s 16ms/step - loss: 0.2642 - accuracy: 0.0159 - val_loss: 0.2625 - val_accuracy: 0.0165\n",
            "Epoch 10/100\n",
            "235/235 [==============================] - 4s 17ms/step - loss: 0.2620 - accuracy: 0.0163 - val_loss: 0.2605 - val_accuracy: 0.0153\n",
            "Epoch 11/100\n",
            "235/235 [==============================] - 4s 16ms/step - loss: 0.2606 - accuracy: 0.0153 - val_loss: 0.2591 - val_accuracy: 0.0152\n",
            "Epoch 12/100\n",
            "235/235 [==============================] - 4s 17ms/step - loss: 0.2591 - accuracy: 0.0150 - val_loss: 0.2581 - val_accuracy: 0.0163\n",
            "Epoch 13/100\n",
            "235/235 [==============================] - 4s 16ms/step - loss: 0.2580 - accuracy: 0.0160 - val_loss: 0.2573 - val_accuracy: 0.0158\n",
            "Epoch 14/100\n",
            "235/235 [==============================] - 4s 16ms/step - loss: 0.2576 - accuracy: 0.0145 - val_loss: 0.2567 - val_accuracy: 0.0142\n",
            "Epoch 15/100\n",
            "235/235 [==============================] - 4s 16ms/step - loss: 0.2570 - accuracy: 0.0132 - val_loss: 0.2562 - val_accuracy: 0.0171\n",
            "Epoch 16/100\n",
            "235/235 [==============================] - 4s 17ms/step - loss: 0.2562 - accuracy: 0.0155 - val_loss: 0.2558 - val_accuracy: 0.0145\n",
            "Epoch 17/100\n",
            "235/235 [==============================] - 4s 16ms/step - loss: 0.2563 - accuracy: 0.0137 - val_loss: 0.2554 - val_accuracy: 0.0142\n",
            "Epoch 18/100\n",
            "235/235 [==============================] - 4s 17ms/step - loss: 0.2553 - accuracy: 0.0135 - val_loss: 0.2551 - val_accuracy: 0.0154\n",
            "Epoch 19/100\n",
            "235/235 [==============================] - 4s 17ms/step - loss: 0.2553 - accuracy: 0.0144 - val_loss: 0.2548 - val_accuracy: 0.0140\n",
            "Epoch 20/100\n",
            "235/235 [==============================] - 4s 16ms/step - loss: 0.2548 - accuracy: 0.0130 - val_loss: 0.2545 - val_accuracy: 0.0150\n",
            "Epoch 21/100\n",
            "235/235 [==============================] - 4s 17ms/step - loss: 0.2546 - accuracy: 0.0136 - val_loss: 0.2543 - val_accuracy: 0.0138\n",
            "Epoch 22/100\n",
            "235/235 [==============================] - 4s 16ms/step - loss: 0.2542 - accuracy: 0.0138 - val_loss: 0.2541 - val_accuracy: 0.0138\n",
            "Epoch 23/100\n",
            "235/235 [==============================] - 4s 17ms/step - loss: 0.2543 - accuracy: 0.0135 - val_loss: 0.2539 - val_accuracy: 0.0159\n",
            "Epoch 24/100\n",
            "235/235 [==============================] - 4s 17ms/step - loss: 0.2539 - accuracy: 0.0143 - val_loss: 0.2538 - val_accuracy: 0.0142\n",
            "Epoch 25/100\n",
            "235/235 [==============================] - 4s 16ms/step - loss: 0.2542 - accuracy: 0.0135 - val_loss: 0.2536 - val_accuracy: 0.0140\n",
            "Epoch 26/100\n",
            "235/235 [==============================] - 4s 17ms/step - loss: 0.2537 - accuracy: 0.0136 - val_loss: 0.2534 - val_accuracy: 0.0139\n",
            "Epoch 27/100\n",
            "235/235 [==============================] - 4s 17ms/step - loss: 0.2534 - accuracy: 0.0137 - val_loss: 0.2533 - val_accuracy: 0.0140\n",
            "Epoch 28/100\n",
            "235/235 [==============================] - 4s 17ms/step - loss: 0.2536 - accuracy: 0.0138 - val_loss: 0.2532 - val_accuracy: 0.0139\n",
            "Epoch 29/100\n",
            "235/235 [==============================] - 4s 17ms/step - loss: 0.2532 - accuracy: 0.0137 - val_loss: 0.2530 - val_accuracy: 0.0144\n",
            "Epoch 30/100\n",
            "235/235 [==============================] - 4s 17ms/step - loss: 0.2530 - accuracy: 0.0132 - val_loss: 0.2529 - val_accuracy: 0.0142\n",
            "Epoch 31/100\n",
            "235/235 [==============================] - 4s 17ms/step - loss: 0.2536 - accuracy: 0.0140 - val_loss: 0.2528 - val_accuracy: 0.0140\n",
            "Epoch 32/100\n",
            "235/235 [==============================] - 4s 17ms/step - loss: 0.2528 - accuracy: 0.0143 - val_loss: 0.2526 - val_accuracy: 0.0151\n",
            "Epoch 33/100\n",
            "235/235 [==============================] - 4s 17ms/step - loss: 0.2526 - accuracy: 0.0143 - val_loss: 0.2525 - val_accuracy: 0.0142\n",
            "Epoch 34/100\n",
            "235/235 [==============================] - 4s 17ms/step - loss: 0.2527 - accuracy: 0.0140 - val_loss: 0.2524 - val_accuracy: 0.0140\n",
            "Epoch 35/100\n",
            "235/235 [==============================] - 4s 17ms/step - loss: 0.2523 - accuracy: 0.0140 - val_loss: 0.2523 - val_accuracy: 0.0143\n",
            "Epoch 36/100\n",
            "235/235 [==============================] - 4s 17ms/step - loss: 0.2529 - accuracy: 0.0138 - val_loss: 0.2522 - val_accuracy: 0.0141\n",
            "Epoch 37/100\n",
            "235/235 [==============================] - 4s 17ms/step - loss: 0.2525 - accuracy: 0.0135 - val_loss: 0.2521 - val_accuracy: 0.0151\n",
            "Epoch 38/100\n",
            "235/235 [==============================] - 4s 17ms/step - loss: 0.2520 - accuracy: 0.0137 - val_loss: 0.2520 - val_accuracy: 0.0140\n",
            "Epoch 39/100\n",
            "235/235 [==============================] - 4s 17ms/step - loss: 0.2522 - accuracy: 0.0138 - val_loss: 0.2518 - val_accuracy: 0.0140\n",
            "Epoch 40/100\n",
            "235/235 [==============================] - 4s 17ms/step - loss: 0.2520 - accuracy: 0.0131 - val_loss: 0.2517 - val_accuracy: 0.0135\n",
            "Epoch 41/100\n",
            "235/235 [==============================] - 4s 17ms/step - loss: 0.2518 - accuracy: 0.0138 - val_loss: 0.2516 - val_accuracy: 0.0138\n",
            "Epoch 42/100\n",
            "235/235 [==============================] - 4s 17ms/step - loss: 0.2516 - accuracy: 0.0138 - val_loss: 0.2515 - val_accuracy: 0.0139\n",
            "Epoch 43/100\n",
            "235/235 [==============================] - 4s 17ms/step - loss: 0.2515 - accuracy: 0.0146 - val_loss: 0.2513 - val_accuracy: 0.0142\n",
            "Epoch 44/100\n",
            "235/235 [==============================] - 4s 17ms/step - loss: 0.2516 - accuracy: 0.0131 - val_loss: 0.2512 - val_accuracy: 0.0146\n",
            "Epoch 45/100\n",
            "235/235 [==============================] - 4s 17ms/step - loss: 0.2509 - accuracy: 0.0133 - val_loss: 0.2510 - val_accuracy: 0.0150\n",
            "Epoch 46/100\n",
            "235/235 [==============================] - 4s 17ms/step - loss: 0.2513 - accuracy: 0.0139 - val_loss: 0.2508 - val_accuracy: 0.0144\n",
            "Epoch 47/100\n",
            "235/235 [==============================] - 4s 17ms/step - loss: 0.2510 - accuracy: 0.0136 - val_loss: 0.2507 - val_accuracy: 0.0146\n",
            "Epoch 48/100\n",
            "235/235 [==============================] - 4s 17ms/step - loss: 0.2508 - accuracy: 0.0135 - val_loss: 0.2504 - val_accuracy: 0.0161\n",
            "Epoch 49/100\n",
            "235/235 [==============================] - 4s 16ms/step - loss: 0.2505 - accuracy: 0.0143 - val_loss: 0.2502 - val_accuracy: 0.0153\n",
            "Epoch 50/100\n",
            "235/235 [==============================] - 4s 17ms/step - loss: 0.2505 - accuracy: 0.0139 - val_loss: 0.2499 - val_accuracy: 0.0141\n",
            "Epoch 51/100\n",
            "235/235 [==============================] - 4s 17ms/step - loss: 0.2497 - accuracy: 0.0147 - val_loss: 0.2496 - val_accuracy: 0.0152\n",
            "Epoch 52/100\n",
            "235/235 [==============================] - 4s 17ms/step - loss: 0.2498 - accuracy: 0.0134 - val_loss: 0.2492 - val_accuracy: 0.0136\n",
            "Epoch 53/100\n",
            "235/235 [==============================] - 4s 17ms/step - loss: 0.2492 - accuracy: 0.0146 - val_loss: 0.2487 - val_accuracy: 0.0171\n",
            "Epoch 54/100\n",
            "235/235 [==============================] - 4s 17ms/step - loss: 0.2489 - accuracy: 0.0134 - val_loss: 0.2482 - val_accuracy: 0.0155\n",
            "Epoch 55/100\n",
            "235/235 [==============================] - 4s 17ms/step - loss: 0.2486 - accuracy: 0.0125 - val_loss: 0.2476 - val_accuracy: 0.0157\n",
            "Epoch 56/100\n",
            "235/235 [==============================] - 4s 17ms/step - loss: 0.2479 - accuracy: 0.0111 - val_loss: 0.2468 - val_accuracy: 0.0134\n",
            "Epoch 57/100\n",
            "235/235 [==============================] - 4s 17ms/step - loss: 0.2471 - accuracy: 0.0089 - val_loss: 0.2459 - val_accuracy: 0.0088\n",
            "Epoch 58/100\n",
            "235/235 [==============================] - 4s 17ms/step - loss: 0.2465 - accuracy: 0.0084 - val_loss: 0.2450 - val_accuracy: 0.0092\n",
            "Epoch 59/100\n",
            "235/235 [==============================] - 4s 17ms/step - loss: 0.2452 - accuracy: 0.0085 - val_loss: 0.2441 - val_accuracy: 0.0101\n",
            "Epoch 60/100\n",
            "235/235 [==============================] - 4s 17ms/step - loss: 0.2450 - accuracy: 0.0082 - val_loss: 0.2432 - val_accuracy: 0.0086\n",
            "Epoch 61/100\n",
            "235/235 [==============================] - 4s 17ms/step - loss: 0.2437 - accuracy: 0.0085 - val_loss: 0.2425 - val_accuracy: 0.0070\n",
            "Epoch 62/100\n",
            "235/235 [==============================] - 4s 17ms/step - loss: 0.2432 - accuracy: 0.0079 - val_loss: 0.2417 - val_accuracy: 0.0089\n",
            "Epoch 63/100\n",
            "235/235 [==============================] - 4s 17ms/step - loss: 0.2423 - accuracy: 0.0076 - val_loss: 0.2411 - val_accuracy: 0.0081\n",
            "Epoch 64/100\n",
            "235/235 [==============================] - 4s 17ms/step - loss: 0.2414 - accuracy: 0.0086 - val_loss: 0.2405 - val_accuracy: 0.0105\n",
            "Epoch 65/100\n",
            "235/235 [==============================] - 4s 17ms/step - loss: 0.2412 - accuracy: 0.0088 - val_loss: 0.2400 - val_accuracy: 0.0090\n",
            "Epoch 66/100\n",
            "235/235 [==============================] - 4s 17ms/step - loss: 0.2406 - accuracy: 0.0094 - val_loss: 0.2394 - val_accuracy: 0.0111\n",
            "Epoch 67/100\n",
            "235/235 [==============================] - 4s 17ms/step - loss: 0.2402 - accuracy: 0.0111 - val_loss: 0.2389 - val_accuracy: 0.0112\n",
            "Epoch 68/100\n",
            "235/235 [==============================] - 4s 17ms/step - loss: 0.2392 - accuracy: 0.0107 - val_loss: 0.2384 - val_accuracy: 0.0087\n",
            "Epoch 69/100\n",
            "235/235 [==============================] - 4s 17ms/step - loss: 0.2388 - accuracy: 0.0096 - val_loss: 0.2379 - val_accuracy: 0.0088\n",
            "Epoch 70/100\n",
            "235/235 [==============================] - 4s 17ms/step - loss: 0.2382 - accuracy: 0.0103 - val_loss: 0.2373 - val_accuracy: 0.0109\n",
            "Epoch 71/100\n",
            "235/235 [==============================] - 4s 17ms/step - loss: 0.2378 - accuracy: 0.0107 - val_loss: 0.2368 - val_accuracy: 0.0094\n",
            "Epoch 72/100\n",
            "235/235 [==============================] - 4s 17ms/step - loss: 0.2368 - accuracy: 0.0095 - val_loss: 0.2363 - val_accuracy: 0.0100\n",
            "Epoch 73/100\n",
            "235/235 [==============================] - 4s 17ms/step - loss: 0.2363 - accuracy: 0.0091 - val_loss: 0.2357 - val_accuracy: 0.0097\n",
            "Epoch 74/100\n",
            "235/235 [==============================] - 4s 17ms/step - loss: 0.2364 - accuracy: 0.0087 - val_loss: 0.2351 - val_accuracy: 0.0098\n",
            "Epoch 75/100\n",
            "235/235 [==============================] - 4s 17ms/step - loss: 0.2356 - accuracy: 0.0089 - val_loss: 0.2344 - val_accuracy: 0.0105\n",
            "Epoch 76/100\n",
            "235/235 [==============================] - 4s 17ms/step - loss: 0.2351 - accuracy: 0.0095 - val_loss: 0.2337 - val_accuracy: 0.0107\n",
            "Epoch 77/100\n",
            "235/235 [==============================] - 4s 17ms/step - loss: 0.2345 - accuracy: 0.0086 - val_loss: 0.2330 - val_accuracy: 0.0108\n",
            "Epoch 78/100\n",
            "235/235 [==============================] - 4s 17ms/step - loss: 0.2338 - accuracy: 0.0091 - val_loss: 0.2323 - val_accuracy: 0.0105\n",
            "Epoch 79/100\n",
            "235/235 [==============================] - 4s 17ms/step - loss: 0.2331 - accuracy: 0.0093 - val_loss: 0.2315 - val_accuracy: 0.0102\n",
            "Epoch 80/100\n",
            "235/235 [==============================] - 4s 17ms/step - loss: 0.2321 - accuracy: 0.0087 - val_loss: 0.2308 - val_accuracy: 0.0105\n",
            "Epoch 81/100\n",
            "235/235 [==============================] - 4s 17ms/step - loss: 0.2317 - accuracy: 0.0084 - val_loss: 0.2300 - val_accuracy: 0.0109\n",
            "Epoch 82/100\n",
            "235/235 [==============================] - 4s 17ms/step - loss: 0.2309 - accuracy: 0.0089 - val_loss: 0.2293 - val_accuracy: 0.0100\n",
            "Epoch 83/100\n",
            "235/235 [==============================] - 4s 17ms/step - loss: 0.2300 - accuracy: 0.0086 - val_loss: 0.2287 - val_accuracy: 0.0104\n",
            "Epoch 84/100\n",
            "235/235 [==============================] - 4s 17ms/step - loss: 0.2298 - accuracy: 0.0090 - val_loss: 0.2281 - val_accuracy: 0.0099\n",
            "Epoch 85/100\n",
            "235/235 [==============================] - 4s 17ms/step - loss: 0.2292 - accuracy: 0.0097 - val_loss: 0.2275 - val_accuracy: 0.0142\n",
            "Epoch 86/100\n",
            "235/235 [==============================] - 4s 17ms/step - loss: 0.2287 - accuracy: 0.0107 - val_loss: 0.2270 - val_accuracy: 0.0125\n",
            "Epoch 87/100\n",
            "235/235 [==============================] - 4s 17ms/step - loss: 0.2277 - accuracy: 0.0129 - val_loss: 0.2265 - val_accuracy: 0.0125\n",
            "Epoch 88/100\n",
            "235/235 [==============================] - 4s 17ms/step - loss: 0.2276 - accuracy: 0.0146 - val_loss: 0.2260 - val_accuracy: 0.0147\n",
            "Epoch 89/100\n",
            "235/235 [==============================] - 4s 17ms/step - loss: 0.2274 - accuracy: 0.0147 - val_loss: 0.2257 - val_accuracy: 0.0155\n",
            "Epoch 90/100\n",
            "235/235 [==============================] - 4s 17ms/step - loss: 0.2267 - accuracy: 0.0147 - val_loss: 0.2253 - val_accuracy: 0.0149\n",
            "Epoch 91/100\n",
            "235/235 [==============================] - 4s 17ms/step - loss: 0.2263 - accuracy: 0.0154 - val_loss: 0.2249 - val_accuracy: 0.0145\n",
            "Epoch 92/100\n",
            "235/235 [==============================] - 4s 17ms/step - loss: 0.2260 - accuracy: 0.0153 - val_loss: 0.2247 - val_accuracy: 0.0154\n",
            "Epoch 93/100\n",
            "235/235 [==============================] - 4s 17ms/step - loss: 0.2256 - accuracy: 0.0163 - val_loss: 0.2243 - val_accuracy: 0.0148\n",
            "Epoch 94/100\n",
            "235/235 [==============================] - 4s 17ms/step - loss: 0.2256 - accuracy: 0.0164 - val_loss: 0.2241 - val_accuracy: 0.0143\n",
            "Epoch 95/100\n",
            "235/235 [==============================] - 4s 17ms/step - loss: 0.2253 - accuracy: 0.0151 - val_loss: 0.2238 - val_accuracy: 0.0158\n",
            "Epoch 96/100\n",
            "235/235 [==============================] - 4s 17ms/step - loss: 0.2252 - accuracy: 0.0161 - val_loss: 0.2236 - val_accuracy: 0.0138\n",
            "Epoch 97/100\n",
            "235/235 [==============================] - 4s 17ms/step - loss: 0.2245 - accuracy: 0.0152 - val_loss: 0.2234 - val_accuracy: 0.0151\n",
            "Epoch 98/100\n",
            "235/235 [==============================] - 4s 17ms/step - loss: 0.2245 - accuracy: 0.0163 - val_loss: 0.2232 - val_accuracy: 0.0142\n",
            "Epoch 99/100\n",
            "235/235 [==============================] - 4s 17ms/step - loss: 0.2242 - accuracy: 0.0160 - val_loss: 0.2230 - val_accuracy: 0.0151\n",
            "Epoch 100/100\n",
            "235/235 [==============================] - 4s 17ms/step - loss: 0.2239 - accuracy: 0.0160 - val_loss: 0.2228 - val_accuracy: 0.0137\n"
          ],
          "name": "stdout"
        }
      ]
    },
    {
      "cell_type": "code",
      "metadata": {
        "colab": {
          "base_uri": "https://localhost:8080/",
          "height": 299
        },
        "id": "B-bes27u2oVS",
        "outputId": "757023c8-0cea-44f0-ece8-668b172187a8"
      },
      "source": [
        "import matplotlib\n",
        "import matplotlib.pyplot as plt\n",
        "%matplotlib inline\n",
        "# construct a plot that plots and displays the training history\n",
        "N = np.arange(0, 100)\n",
        "plt.style.use('ggplot')\n",
        "plt.figure()\n",
        "plt.plot(N, history.history['loss'], label='train_loss')\n",
        "plt.plot(N, history.history['val_loss'], label='val_loss')\n",
        "plt.title('Training Loss and Accuracy')\n",
        "plt.xlabel('Epoch #')\n",
        "plt.ylabel('Loss/Accuracy')\n",
        "plt.legend(loc='lower left')\n",
        "# plt.savefig(plot)\n",
        "plt.show(block=True)"
      ],
      "execution_count": null,
      "outputs": [
        {
          "output_type": "display_data",
          "data": {
            "image/png": "[encoded data removed]",
            "text/plain": [
              "<Figure size 432x288 with 1 Axes>"
            ]
          },
          "metadata": {
            "tags": []
          }
        }
      ]
    },
    {
      "cell_type": "code",
      "metadata": {
        "colab": {
          "base_uri": "https://localhost:8080/",
          "height": 244
        },
        "id": "gxYs2iSX2tS0",
        "outputId": "02687d1b-b886-4fd2-8a01-04658ecc8141"
      },
      "source": [
        "decoded_imgs = deeperautoencoder.predict(X_train)\n",
        "\n",
        "n = 10\n",
        "plt.figure(figsize=(20, 4))\n",
        "for i in range(1, n + 1):\n",
        "    # Display original\n",
        "    ax = plt.subplot(2, n, i)\n",
        "    plt.imshow(x_test[i].reshape(28, 28))\n",
        "    plt.gray()\n",
        "    ax.get_xaxis().set_visible(False)\n",
        "    ax.get_yaxis().set_visible(False)\n",
        "\n",
        "    # Display reconstruction\n",
        "    ax = plt.subplot(2, n, i + n)\n",
        "    plt.imshow(decoded_imgs[i].reshape(28, 28))\n",
        "    plt.gray()\n",
        "    ax.get_xaxis().set_visible(False)\n",
        "    ax.get_yaxis().set_visible(False)\n",
        "plt.show()"
      ],
      "execution_count": null,
      "outputs": [
        {
          "output_type": "display_data",
          "data": {
            "image/png": "[encoded data removed]",
            "text/plain": [
              "<Figure size 1440x288 with 20 Axes>"
            ]
          },
          "metadata": {
            "tags": []
          }
        }
      ]
    },
    {
      "cell_type": "markdown",
      "metadata": {
        "id": "higxD7BQ5VAF"
      },
      "source": [
        "#  **RUNNING ON TEST DATA USING SGD**"
      ]
    },
    {
      "cell_type": "code",
      "metadata": {
        "colab": {
          "base_uri": "https://localhost:8080/"
        },
        "id": "AFQRvA3A5yuT",
        "outputId": "5c9e1065-0b96-4d0a-f533-b37a734ef0f0"
      },
      "source": [
        "\n",
        "decoded_imgs = deeperautoencoder.predict(X_test)\n",
        "bce = tf.keras.losses.BinaryCrossentropy()\n",
        "bce(X_test, decoded_imgs).numpy()\n",
        "\n"
      ],
      "execution_count": null,
      "outputs": [
        {
          "output_type": "execute_result",
          "data": {
            "text/plain": [
              "0.21958013"
            ]
          },
          "metadata": {
            "tags": []
          },
          "execution_count": 105
        }
      ]
    },
    {
      "cell_type": "markdown",
      "metadata": {
        "id": "j1QgiVCg6LGP"
      },
      "source": [
        "# **RUNNING TRAIN ON SGD WITHOUT MOMENTUM**"
      ]
    },
    {
      "cell_type": "code",
      "metadata": {
        "colab": {
          "base_uri": "https://localhost:8080/"
        },
        "id": "71bgvenc6a2d",
        "outputId": "651a6fcd-dee8-4042-bcee-ac0d7db48709"
      },
      "source": [
        "def model():\n",
        "  input_img = tf.keras.layers.Input(shape=(784,))\n",
        "  encoded = tf.keras.layers.Dense(128, activation='relu',activity_regularizer=regularizers.l1(10e-5))(input_img)\n",
        "  encoded = tf.keras.layers.Dense(64, activation='relu',activity_regularizer=regularizers.l1(10e-5))(encoded)\n",
        "  encoded = tf.keras.layers.Dense(32, activation='relu',activity_regularizer=regularizers.l1(10e-5))(encoded)\n",
        "  decoded = tf.keras.layers.Dense(64, activation='relu')(encoded)\n",
        "  decoded = tf.keras.layers.Dense(128, activation='relu')(decoded)\n",
        "  decoded = tf.keras.layers.Dense(784, activation='sigmoid')(decoded)\n",
        "  autoencoder = tf.keras.models.Model(input_img, decoded)\n",
        "  sgd = SGD(lr = 0.01, decay=1e-6 ,nesterov=True)\n",
        "  #autoencoder.compile(optimizer='adam', loss='binary_crossentropy')\n",
        "  autoencoder.compile(loss='binary_crossentropy', metrics=['accuracy'],optimizer = sgd)\n",
        "  return autoencoder\n",
        "deeperautoencoder = model()\n",
        "history = deeperautoencoder.fit(X_train, X_train, epochs=100, batch_size=256, shuffle=True, validation_data=(X_test, X_test))\n",
        "  \n"
      ],
      "execution_count": null,
      "outputs": [
        {
          "output_type": "stream",
          "text": [
            "Epoch 1/100\n",
            "235/235 [==============================] - 5s 17ms/step - loss: 0.6963 - accuracy: 0.0010 - val_loss: 0.6957 - val_accuracy: 8.0000e-04\n",
            "Epoch 2/100\n",
            "235/235 [==============================] - 4s 16ms/step - loss: 0.6955 - accuracy: 0.0010 - val_loss: 0.6949 - val_accuracy: 9.0000e-04\n",
            "Epoch 3/100\n",
            "235/235 [==============================] - 4s 17ms/step - loss: 0.6947 - accuracy: 0.0012 - val_loss: 0.6941 - val_accuracy: 9.0000e-04\n",
            "Epoch 4/100\n",
            "235/235 [==============================] - 4s 16ms/step - loss: 0.6939 - accuracy: 0.0014 - val_loss: 0.6934 - val_accuracy: 9.0000e-04\n",
            "Epoch 5/100\n",
            "235/235 [==============================] - 4s 17ms/step - loss: 0.6932 - accuracy: 0.0015 - val_loss: 0.6926 - val_accuracy: 9.0000e-04\n",
            "Epoch 6/100\n",
            "235/235 [==============================] - 4s 17ms/step - loss: 0.6924 - accuracy: 0.0016 - val_loss: 0.6919 - val_accuracy: 8.0000e-04\n",
            "Epoch 7/100\n",
            "235/235 [==============================] - 4s 16ms/step - loss: 0.6917 - accuracy: 0.0017 - val_loss: 0.6911 - val_accuracy: 0.0010\n",
            "Epoch 8/100\n",
            "235/235 [==============================] - 4s 17ms/step - loss: 0.6909 - accuracy: 0.0016 - val_loss: 0.6904 - val_accuracy: 9.0000e-04\n",
            "Epoch 9/100\n",
            "235/235 [==============================] - 4s 16ms/step - loss: 0.6902 - accuracy: 0.0016 - val_loss: 0.6896 - val_accuracy: 0.0011\n",
            "Epoch 10/100\n",
            "235/235 [==============================] - 4s 17ms/step - loss: 0.6894 - accuracy: 0.0014 - val_loss: 0.6888 - val_accuracy: 0.0011\n",
            "Epoch 11/100\n",
            "235/235 [==============================] - 4s 16ms/step - loss: 0.6886 - accuracy: 0.0014 - val_loss: 0.6880 - val_accuracy: 0.0011\n",
            "Epoch 12/100\n",
            "235/235 [==============================] - 4s 16ms/step - loss: 0.6878 - accuracy: 0.0012 - val_loss: 0.6871 - val_accuracy: 0.0012\n",
            "Epoch 13/100\n",
            "235/235 [==============================] - 4s 17ms/step - loss: 0.6869 - accuracy: 0.0011 - val_loss: 0.6861 - val_accuracy: 0.0011\n",
            "Epoch 14/100\n",
            "235/235 [==============================] - 4s 16ms/step - loss: 0.6859 - accuracy: 6.6848e-04 - val_loss: 0.6851 - val_accuracy: 0.0011\n",
            "Epoch 15/100\n",
            "235/235 [==============================] - 4s 16ms/step - loss: 0.6848 - accuracy: 8.2903e-04 - val_loss: 0.6839 - val_accuracy: 0.0011\n",
            "Epoch 16/100\n",
            "235/235 [==============================] - 4s 17ms/step - loss: 0.6836 - accuracy: 9.2157e-04 - val_loss: 0.6825 - val_accuracy: 9.0000e-04\n",
            "Epoch 17/100\n",
            "235/235 [==============================] - 4s 17ms/step - loss: 0.6821 - accuracy: 7.8192e-04 - val_loss: 0.6808 - val_accuracy: 7.0000e-04\n",
            "Epoch 18/100\n",
            "235/235 [==============================] - 4s 17ms/step - loss: 0.6803 - accuracy: 5.9055e-04 - val_loss: 0.6786 - val_accuracy: 7.0000e-04\n",
            "Epoch 19/100\n",
            "235/235 [==============================] - 4s 17ms/step - loss: 0.6779 - accuracy: 6.2247e-04 - val_loss: 0.6756 - val_accuracy: 4.0000e-04\n",
            "Epoch 20/100\n",
            "235/235 [==============================] - 4s 17ms/step - loss: 0.6746 - accuracy: 4.4497e-04 - val_loss: 0.6710 - val_accuracy: 3.0000e-04\n",
            "Epoch 21/100\n",
            "235/235 [==============================] - 4s 17ms/step - loss: 0.6696 - accuracy: 3.2505e-04 - val_loss: 0.6635 - val_accuracy: 0.0000e+00\n",
            "Epoch 22/100\n",
            "235/235 [==============================] - 4s 16ms/step - loss: 0.6607 - accuracy: 1.8655e-04 - val_loss: 0.6490 - val_accuracy: 0.0000e+00\n",
            "Epoch 23/100\n",
            "235/235 [==============================] - 4s 16ms/step - loss: 0.6432 - accuracy: 1.5011e-04 - val_loss: 0.6170 - val_accuracy: 0.0000e+00\n",
            "Epoch 24/100\n",
            "235/235 [==============================] - 4s 16ms/step - loss: 0.6033 - accuracy: 1.4252e-04 - val_loss: 0.5452 - val_accuracy: 0.0000e+00\n",
            "Epoch 25/100\n",
            "235/235 [==============================] - 4s 16ms/step - loss: 0.5197 - accuracy: 1.1530e-04 - val_loss: 0.4325 - val_accuracy: 0.0046\n",
            "Epoch 26/100\n",
            "235/235 [==============================] - 4s 16ms/step - loss: 0.4076 - accuracy: 0.0096 - val_loss: 0.3455 - val_accuracy: 0.0091\n",
            "Epoch 27/100\n",
            "235/235 [==============================] - 4s 16ms/step - loss: 0.3353 - accuracy: 0.0103 - val_loss: 0.3116 - val_accuracy: 0.0091\n",
            "Epoch 28/100\n",
            "235/235 [==============================] - 4s 16ms/step - loss: 0.3089 - accuracy: 0.0096 - val_loss: 0.2997 - val_accuracy: 0.0076\n",
            "Epoch 29/100\n",
            "235/235 [==============================] - 4s 16ms/step - loss: 0.2985 - accuracy: 0.0080 - val_loss: 0.2942 - val_accuracy: 0.0086\n",
            "Epoch 30/100\n",
            "235/235 [==============================] - 4s 16ms/step - loss: 0.2937 - accuracy: 0.0102 - val_loss: 0.2910 - val_accuracy: 0.0117\n",
            "Epoch 31/100\n",
            "235/235 [==============================] - 4s 16ms/step - loss: 0.2910 - accuracy: 0.0107 - val_loss: 0.2888 - val_accuracy: 0.0123\n",
            "Epoch 32/100\n",
            "235/235 [==============================] - 4s 17ms/step - loss: 0.2892 - accuracy: 0.0115 - val_loss: 0.2871 - val_accuracy: 0.0142\n",
            "Epoch 33/100\n",
            "235/235 [==============================] - 4s 17ms/step - loss: 0.2877 - accuracy: 0.0119 - val_loss: 0.2858 - val_accuracy: 0.0131\n",
            "Epoch 34/100\n",
            "235/235 [==============================] - 4s 16ms/step - loss: 0.2864 - accuracy: 0.0127 - val_loss: 0.2847 - val_accuracy: 0.0132\n",
            "Epoch 35/100\n",
            "235/235 [==============================] - 4s 17ms/step - loss: 0.2847 - accuracy: 0.0121 - val_loss: 0.2837 - val_accuracy: 0.0134\n",
            "Epoch 36/100\n",
            "235/235 [==============================] - 4s 17ms/step - loss: 0.2839 - accuracy: 0.0131 - val_loss: 0.2828 - val_accuracy: 0.0132\n",
            "Epoch 37/100\n",
            "235/235 [==============================] - 4s 17ms/step - loss: 0.2832 - accuracy: 0.0120 - val_loss: 0.2820 - val_accuracy: 0.0132\n",
            "Epoch 38/100\n",
            "235/235 [==============================] - 4s 17ms/step - loss: 0.2824 - accuracy: 0.0121 - val_loss: 0.2812 - val_accuracy: 0.0142\n",
            "Epoch 39/100\n",
            "235/235 [==============================] - 4s 16ms/step - loss: 0.2814 - accuracy: 0.0128 - val_loss: 0.2806 - val_accuracy: 0.0138\n",
            "Epoch 40/100\n",
            "235/235 [==============================] - 4s 16ms/step - loss: 0.2808 - accuracy: 0.0133 - val_loss: 0.2799 - val_accuracy: 0.0132\n",
            "Epoch 41/100\n",
            "235/235 [==============================] - 4s 16ms/step - loss: 0.2803 - accuracy: 0.0127 - val_loss: 0.2793 - val_accuracy: 0.0130\n",
            "Epoch 42/100\n",
            "235/235 [==============================] - 4s 17ms/step - loss: 0.2796 - accuracy: 0.0122 - val_loss: 0.2787 - val_accuracy: 0.0129\n",
            "Epoch 43/100\n",
            "235/235 [==============================] - 4s 17ms/step - loss: 0.2787 - accuracy: 0.0126 - val_loss: 0.2782 - val_accuracy: 0.0142\n",
            "Epoch 44/100\n",
            "235/235 [==============================] - 4s 17ms/step - loss: 0.2787 - accuracy: 0.0136 - val_loss: 0.2777 - val_accuracy: 0.0134\n",
            "Epoch 45/100\n",
            "235/235 [==============================] - 4s 17ms/step - loss: 0.2777 - accuracy: 0.0132 - val_loss: 0.2771 - val_accuracy: 0.0147\n",
            "Epoch 46/100\n",
            "235/235 [==============================] - 4s 17ms/step - loss: 0.2774 - accuracy: 0.0127 - val_loss: 0.2766 - val_accuracy: 0.0139\n",
            "Epoch 47/100\n",
            "235/235 [==============================] - 4s 17ms/step - loss: 0.2765 - accuracy: 0.0137 - val_loss: 0.2762 - val_accuracy: 0.0142\n",
            "Epoch 48/100\n",
            "235/235 [==============================] - 4s 17ms/step - loss: 0.2762 - accuracy: 0.0124 - val_loss: 0.2757 - val_accuracy: 0.0151\n",
            "Epoch 49/100\n",
            "235/235 [==============================] - 4s 17ms/step - loss: 0.2762 - accuracy: 0.0138 - val_loss: 0.2753 - val_accuracy: 0.0145\n",
            "Epoch 50/100\n",
            "235/235 [==============================] - 4s 17ms/step - loss: 0.2755 - accuracy: 0.0143 - val_loss: 0.2749 - val_accuracy: 0.0141\n",
            "Epoch 51/100\n",
            "235/235 [==============================] - 4s 17ms/step - loss: 0.2746 - accuracy: 0.0139 - val_loss: 0.2745 - val_accuracy: 0.0143\n",
            "Epoch 52/100\n",
            "235/235 [==============================] - 4s 17ms/step - loss: 0.2746 - accuracy: 0.0130 - val_loss: 0.2741 - val_accuracy: 0.0151\n",
            "Epoch 53/100\n",
            "235/235 [==============================] - 4s 17ms/step - loss: 0.2745 - accuracy: 0.0138 - val_loss: 0.2737 - val_accuracy: 0.0146\n",
            "Epoch 54/100\n",
            "235/235 [==============================] - 4s 17ms/step - loss: 0.2738 - accuracy: 0.0134 - val_loss: 0.2733 - val_accuracy: 0.0155\n",
            "Epoch 55/100\n",
            "235/235 [==============================] - 4s 17ms/step - loss: 0.2740 - accuracy: 0.0143 - val_loss: 0.2729 - val_accuracy: 0.0161\n",
            "Epoch 56/100\n",
            "235/235 [==============================] - 4s 17ms/step - loss: 0.2729 - accuracy: 0.0145 - val_loss: 0.2725 - val_accuracy: 0.0152\n",
            "Epoch 57/100\n",
            "235/235 [==============================] - 4s 17ms/step - loss: 0.2724 - accuracy: 0.0146 - val_loss: 0.2721 - val_accuracy: 0.0150\n",
            "Epoch 58/100\n",
            "235/235 [==============================] - 4s 17ms/step - loss: 0.2722 - accuracy: 0.0149 - val_loss: 0.2718 - val_accuracy: 0.0153\n",
            "Epoch 59/100\n",
            "235/235 [==============================] - 4s 17ms/step - loss: 0.2717 - accuracy: 0.0144 - val_loss: 0.2714 - val_accuracy: 0.0137\n",
            "Epoch 60/100\n",
            "235/235 [==============================] - 4s 17ms/step - loss: 0.2714 - accuracy: 0.0140 - val_loss: 0.2710 - val_accuracy: 0.0160\n",
            "Epoch 61/100\n",
            "235/235 [==============================] - 4s 17ms/step - loss: 0.2712 - accuracy: 0.0144 - val_loss: 0.2707 - val_accuracy: 0.0153\n",
            "Epoch 62/100\n",
            "235/235 [==============================] - 4s 17ms/step - loss: 0.2709 - accuracy: 0.0140 - val_loss: 0.2703 - val_accuracy: 0.0150\n",
            "Epoch 63/100\n",
            "235/235 [==============================] - 4s 17ms/step - loss: 0.2704 - accuracy: 0.0142 - val_loss: 0.2700 - val_accuracy: 0.0151\n",
            "Epoch 64/100\n",
            "235/235 [==============================] - 4s 17ms/step - loss: 0.2696 - accuracy: 0.0144 - val_loss: 0.2697 - val_accuracy: 0.0149\n",
            "Epoch 65/100\n",
            "235/235 [==============================] - 4s 17ms/step - loss: 0.2697 - accuracy: 0.0150 - val_loss: 0.2693 - val_accuracy: 0.0151\n",
            "Epoch 66/100\n",
            "235/235 [==============================] - 4s 17ms/step - loss: 0.2690 - accuracy: 0.0147 - val_loss: 0.2690 - val_accuracy: 0.0152\n",
            "Epoch 67/100\n",
            "235/235 [==============================] - 4s 17ms/step - loss: 0.2689 - accuracy: 0.0131 - val_loss: 0.2687 - val_accuracy: 0.0153\n",
            "Epoch 68/100\n",
            "235/235 [==============================] - 4s 17ms/step - loss: 0.2688 - accuracy: 0.0144 - val_loss: 0.2684 - val_accuracy: 0.0152\n",
            "Epoch 69/100\n",
            "235/235 [==============================] - 4s 17ms/step - loss: 0.2684 - accuracy: 0.0144 - val_loss: 0.2681 - val_accuracy: 0.0146\n",
            "Epoch 70/100\n",
            "235/235 [==============================] - 4s 16ms/step - loss: 0.2684 - accuracy: 0.0145 - val_loss: 0.2678 - val_accuracy: 0.0149\n",
            "Epoch 71/100\n",
            "235/235 [==============================] - 4s 17ms/step - loss: 0.2675 - accuracy: 0.0142 - val_loss: 0.2675 - val_accuracy: 0.0147\n",
            "Epoch 72/100\n",
            "235/235 [==============================] - 4s 17ms/step - loss: 0.2674 - accuracy: 0.0136 - val_loss: 0.2672 - val_accuracy: 0.0149\n",
            "Epoch 73/100\n",
            "235/235 [==============================] - 4s 17ms/step - loss: 0.2673 - accuracy: 0.0139 - val_loss: 0.2669 - val_accuracy: 0.0147\n",
            "Epoch 74/100\n",
            "235/235 [==============================] - 4s 17ms/step - loss: 0.2668 - accuracy: 0.0141 - val_loss: 0.2666 - val_accuracy: 0.0150\n",
            "Epoch 75/100\n",
            "235/235 [==============================] - 4s 17ms/step - loss: 0.2666 - accuracy: 0.0143 - val_loss: 0.2664 - val_accuracy: 0.0151\n",
            "Epoch 76/100\n",
            "235/235 [==============================] - 4s 17ms/step - loss: 0.2665 - accuracy: 0.0153 - val_loss: 0.2661 - val_accuracy: 0.0150\n",
            "Epoch 77/100\n",
            "235/235 [==============================] - 4s 17ms/step - loss: 0.2661 - accuracy: 0.0141 - val_loss: 0.2658 - val_accuracy: 0.0153\n",
            "Epoch 78/100\n",
            "235/235 [==============================] - 4s 17ms/step - loss: 0.2661 - accuracy: 0.0130 - val_loss: 0.2655 - val_accuracy: 0.0149\n",
            "Epoch 79/100\n",
            "235/235 [==============================] - 4s 17ms/step - loss: 0.2655 - accuracy: 0.0144 - val_loss: 0.2653 - val_accuracy: 0.0155\n",
            "Epoch 80/100\n",
            "235/235 [==============================] - 4s 17ms/step - loss: 0.2657 - accuracy: 0.0145 - val_loss: 0.2650 - val_accuracy: 0.0154\n",
            "Epoch 81/100\n",
            "235/235 [==============================] - 4s 17ms/step - loss: 0.2651 - accuracy: 0.0149 - val_loss: 0.2648 - val_accuracy: 0.0151\n",
            "Epoch 82/100\n",
            "235/235 [==============================] - 4s 17ms/step - loss: 0.2648 - accuracy: 0.0144 - val_loss: 0.2645 - val_accuracy: 0.0156\n",
            "Epoch 83/100\n",
            "235/235 [==============================] - 4s 17ms/step - loss: 0.2645 - accuracy: 0.0146 - val_loss: 0.2643 - val_accuracy: 0.0152\n",
            "Epoch 84/100\n",
            "235/235 [==============================] - 4s 17ms/step - loss: 0.2646 - accuracy: 0.0142 - val_loss: 0.2640 - val_accuracy: 0.0152\n",
            "Epoch 85/100\n",
            "235/235 [==============================] - 4s 17ms/step - loss: 0.2643 - accuracy: 0.0142 - val_loss: 0.2638 - val_accuracy: 0.0154\n",
            "Epoch 86/100\n",
            "235/235 [==============================] - 4s 17ms/step - loss: 0.2640 - accuracy: 0.0154 - val_loss: 0.2636 - val_accuracy: 0.0153\n",
            "Epoch 87/100\n",
            "235/235 [==============================] - 4s 17ms/step - loss: 0.2634 - accuracy: 0.0145 - val_loss: 0.2633 - val_accuracy: 0.0154\n",
            "Epoch 88/100\n",
            "235/235 [==============================] - 4s 17ms/step - loss: 0.2636 - accuracy: 0.0141 - val_loss: 0.2631 - val_accuracy: 0.0160\n",
            "Epoch 89/100\n",
            "235/235 [==============================] - 4s 17ms/step - loss: 0.2633 - accuracy: 0.0155 - val_loss: 0.2629 - val_accuracy: 0.0154\n",
            "Epoch 90/100\n",
            "235/235 [==============================] - 4s 17ms/step - loss: 0.2634 - accuracy: 0.0131 - val_loss: 0.2627 - val_accuracy: 0.0156\n",
            "Epoch 91/100\n",
            "235/235 [==============================] - 4s 17ms/step - loss: 0.2625 - accuracy: 0.0140 - val_loss: 0.2625 - val_accuracy: 0.0158\n",
            "Epoch 92/100\n",
            "235/235 [==============================] - 4s 17ms/step - loss: 0.2632 - accuracy: 0.0146 - val_loss: 0.2623 - val_accuracy: 0.0156\n",
            "Epoch 93/100\n",
            "235/235 [==============================] - 4s 17ms/step - loss: 0.2624 - accuracy: 0.0147 - val_loss: 0.2621 - val_accuracy: 0.0157\n",
            "Epoch 94/100\n",
            "235/235 [==============================] - 4s 17ms/step - loss: 0.2624 - accuracy: 0.0149 - val_loss: 0.2619 - val_accuracy: 0.0156\n",
            "Epoch 95/100\n",
            "235/235 [==============================] - 4s 17ms/step - loss: 0.2620 - accuracy: 0.0149 - val_loss: 0.2617 - val_accuracy: 0.0156\n",
            "Epoch 96/100\n",
            "235/235 [==============================] - 4s 17ms/step - loss: 0.2621 - accuracy: 0.0145 - val_loss: 0.2615 - val_accuracy: 0.0159\n",
            "Epoch 97/100\n",
            "235/235 [==============================] - 4s 17ms/step - loss: 0.2612 - accuracy: 0.0145 - val_loss: 0.2613 - val_accuracy: 0.0160\n",
            "Epoch 98/100\n",
            "235/235 [==============================] - 4s 17ms/step - loss: 0.2614 - accuracy: 0.0146 - val_loss: 0.2612 - val_accuracy: 0.0160\n",
            "Epoch 99/100\n",
            "235/235 [==============================] - 4s 17ms/step - loss: 0.2614 - accuracy: 0.0139 - val_loss: 0.2610 - val_accuracy: 0.0160\n",
            "Epoch 100/100\n",
            "235/235 [==============================] - 4s 17ms/step - loss: 0.2615 - accuracy: 0.0132 - val_loss: 0.2608 - val_accuracy: 0.0161\n"
          ],
          "name": "stdout"
        }
      ]
    },
    {
      "cell_type": "code",
      "metadata": {
        "colab": {
          "base_uri": "https://localhost:8080/",
          "height": 299
        },
        "id": "T5VqXvOU6x_e",
        "outputId": "9fda0e14-c7ef-4747-c15e-4d57e23e21d0"
      },
      "source": [
        "import matplotlib\n",
        "import matplotlib.pyplot as plt\n",
        "%matplotlib inline\n",
        "# construct a plot that plots and displays the training history\n",
        "N = np.arange(0, 100)\n",
        "plt.style.use('ggplot')\n",
        "plt.figure()\n",
        "plt.plot(N, history.history['loss'], label='train_loss')\n",
        "plt.plot(N, history.history['val_loss'], label='val_loss')\n",
        "plt.title('Training Loss and Accuracy')\n",
        "plt.xlabel('Epoch #')\n",
        "plt.ylabel('Loss/Accuracy')\n",
        "plt.legend(loc='lower left')\n",
        "# plt.savefig(plot)\n",
        "plt.show(block=True)"
      ],
      "execution_count": null,
      "outputs": [
        {
          "output_type": "display_data",
          "data": {
            "image/png": "[encoded data removed]",
            "text/plain": [
              "<Figure size 432x288 with 1 Axes>"
            ]
          },
          "metadata": {
            "tags": []
          }
        }
      ]
    },
    {
      "cell_type": "code",
      "metadata": {
        "colab": {
          "base_uri": "https://localhost:8080/",
          "height": 244
        },
        "id": "RiO98lfZ617q",
        "outputId": "e293d70c-c2e1-4e34-9e47-922f92adfb91"
      },
      "source": [
        "decoded_imgs = deeperautoencoder.predict(X_train)\n",
        "\n",
        "n = 10\n",
        "plt.figure(figsize=(20, 4))\n",
        "for i in range(1, n + 1):\n",
        "    # Display original\n",
        "    ax = plt.subplot(2, n, i)\n",
        "    plt.imshow(x_test[i].reshape(28, 28))\n",
        "    plt.gray()\n",
        "    ax.get_xaxis().set_visible(False)\n",
        "    ax.get_yaxis().set_visible(False)\n",
        "\n",
        "    # Display reconstruction\n",
        "    ax = plt.subplot(2, n, i + n)\n",
        "    plt.imshow(decoded_imgs[i].reshape(28, 28))\n",
        "    plt.gray()\n",
        "    ax.get_xaxis().set_visible(False)\n",
        "    ax.get_yaxis().set_visible(False)\n",
        "plt.show()"
      ],
      "execution_count": null,
      "outputs": [
        {
          "output_type": "display_data",
          "data": {
            "image/png": "[encoded data removed]",
            "text/plain": [
              "<Figure size 1440x288 with 20 Axes>"
            ]
          },
          "metadata": {
            "tags": []
          }
        }
      ]
    },
    {
      "cell_type": "markdown",
      "metadata": {
        "id": "sY_Lb-fL676e"
      },
      "source": [
        "# **RUNNING ON TEST DATA WITH SGD NO MOMENTUM**"
      ]
    },
    {
      "cell_type": "code",
      "metadata": {
        "colab": {
          "base_uri": "https://localhost:8080/"
        },
        "id": "pstzCLqV7h8_",
        "outputId": "14741f87-665c-4329-a662-96bbf6216b68"
      },
      "source": [
        "\n",
        "decoded_imgs = deeperautoencoder.predict(X_test)\n",
        "bce = tf.keras.losses.BinaryCrossentropy()\n",
        "bce(X_test, decoded_imgs).numpy()\n",
        "\n"
      ],
      "execution_count": null,
      "outputs": [
        {
          "output_type": "execute_result",
          "data": {
            "text/plain": [
              "0.25581226"
            ]
          },
          "metadata": {
            "tags": []
          },
          "execution_count": 96
        }
      ]
    },
    {
      "cell_type": "markdown",
      "metadata": {
        "id": "-fCn3wKjJB_Q"
      },
      "source": [
        "# **RUNNING TRAIN DATA ON RMSprop**"
      ]
    },
    {
      "cell_type": "code",
      "metadata": {
        "colab": {
          "base_uri": "https://localhost:8080/"
        },
        "id": "HCqaTpKnJPlK",
        "outputId": "00c16c0e-5c18-41f0-e6a2-afd2d769fa4c"
      },
      "source": [
        "def model():\n",
        "  input_img = tf.keras.layers.Input(shape=(784,))\n",
        "  encoded = tf.keras.layers.Dense(128, activation='relu',activity_regularizer=regularizers.l1(10e-5))(input_img)\n",
        "  encoded = tf.keras.layers.Dense(64, activation='relu',activity_regularizer=regularizers.l1(10e-5))(encoded)\n",
        "  encoded = tf.keras.layers.Dense(32, activation='relu',activity_regularizer=regularizers.l1(10e-5))(encoded)\n",
        "  decoded = tf.keras.layers.Dense(64, activation='relu')(encoded)\n",
        "  decoded = tf.keras.layers.Dense(128, activation='relu')(decoded)\n",
        "  decoded = tf.keras.layers.Dense(784, activation='sigmoid')(decoded)\n",
        "  autoencoder = tf.keras.models.Model(input_img, decoded)\n",
        "  #sgd = SGD(lr = 0.01, decay=1e-6 ,nesterov=True)\n",
        "  #autoencoder.compile(optimizer='adam', loss='binary_crossentropy')\n",
        "  autoencoder.compile(loss='binary_crossentropy', metrics=['accuracy'],optimizer = 'RMSprop')\n",
        "  return autoencoder\n",
        "deeperautoencoder = model()\n",
        "history = deeperautoencoder.fit(X_train, X_train, epochs=100, batch_size=256, shuffle=True, validation_data=(X_test, X_test))\n",
        "  \n"
      ],
      "execution_count": 7,
      "outputs": [
        {
          "output_type": "stream",
          "text": [
            "Epoch 1/100\n",
            "235/235 [==============================] - 5s 16ms/step - loss: 0.3056 - accuracy: 0.0123 - val_loss: 0.1969 - val_accuracy: 0.0097\n",
            "Epoch 2/100\n",
            "235/235 [==============================] - 4s 15ms/step - loss: 0.1913 - accuracy: 0.0079 - val_loss: 0.1779 - val_accuracy: 0.0060\n",
            "Epoch 3/100\n",
            "235/235 [==============================] - 4s 16ms/step - loss: 0.1731 - accuracy: 0.0116 - val_loss: 0.1623 - val_accuracy: 0.0126\n",
            "Epoch 4/100\n",
            "235/235 [==============================] - 4s 15ms/step - loss: 0.1619 - accuracy: 0.0129 - val_loss: 0.1531 - val_accuracy: 0.0099\n",
            "Epoch 5/100\n",
            "235/235 [==============================] - 4s 15ms/step - loss: 0.1532 - accuracy: 0.0108 - val_loss: 0.1484 - val_accuracy: 0.0092\n",
            "Epoch 6/100\n",
            "235/235 [==============================] - 4s 15ms/step - loss: 0.1474 - accuracy: 0.0099 - val_loss: 0.1414 - val_accuracy: 0.0090\n",
            "Epoch 7/100\n",
            "235/235 [==============================] - 4s 15ms/step - loss: 0.1421 - accuracy: 0.0105 - val_loss: 0.1381 - val_accuracy: 0.0094\n",
            "Epoch 8/100\n",
            "235/235 [==============================] - 4s 15ms/step - loss: 0.1387 - accuracy: 0.0109 - val_loss: 0.1348 - val_accuracy: 0.0103\n",
            "Epoch 9/100\n",
            "235/235 [==============================] - 4s 15ms/step - loss: 0.1357 - accuracy: 0.0106 - val_loss: 0.1326 - val_accuracy: 0.0124\n",
            "Epoch 10/100\n",
            "235/235 [==============================] - 4s 15ms/step - loss: 0.1335 - accuracy: 0.0116 - val_loss: 0.1306 - val_accuracy: 0.0100\n",
            "Epoch 11/100\n",
            "235/235 [==============================] - 4s 15ms/step - loss: 0.1318 - accuracy: 0.0101 - val_loss: 0.1304 - val_accuracy: 0.0088\n",
            "Epoch 12/100\n",
            "235/235 [==============================] - 4s 16ms/step - loss: 0.1299 - accuracy: 0.0114 - val_loss: 0.1274 - val_accuracy: 0.0086\n",
            "Epoch 13/100\n",
            "235/235 [==============================] - 4s 15ms/step - loss: 0.1281 - accuracy: 0.0101 - val_loss: 0.1263 - val_accuracy: 0.0108\n",
            "Epoch 14/100\n",
            "235/235 [==============================] - 4s 15ms/step - loss: 0.1269 - accuracy: 0.0109 - val_loss: 0.1249 - val_accuracy: 0.0131\n",
            "Epoch 15/100\n",
            "235/235 [==============================] - 4s 15ms/step - loss: 0.1256 - accuracy: 0.0096 - val_loss: 0.1240 - val_accuracy: 0.0109\n",
            "Epoch 16/100\n",
            "235/235 [==============================] - 4s 15ms/step - loss: 0.1242 - accuracy: 0.0097 - val_loss: 0.1247 - val_accuracy: 0.0090\n",
            "Epoch 17/100\n",
            "235/235 [==============================] - 4s 16ms/step - loss: 0.1231 - accuracy: 0.0094 - val_loss: 0.1226 - val_accuracy: 0.0104\n",
            "Epoch 18/100\n",
            "235/235 [==============================] - 4s 15ms/step - loss: 0.1221 - accuracy: 0.0099 - val_loss: 0.1212 - val_accuracy: 0.0093\n",
            "Epoch 19/100\n",
            "235/235 [==============================] - 4s 16ms/step - loss: 0.1215 - accuracy: 0.0101 - val_loss: 0.1199 - val_accuracy: 0.0103\n",
            "Epoch 20/100\n",
            "235/235 [==============================] - 4s 16ms/step - loss: 0.1199 - accuracy: 0.0114 - val_loss: 0.1183 - val_accuracy: 0.0092\n",
            "Epoch 21/100\n",
            "235/235 [==============================] - 4s 16ms/step - loss: 0.1198 - accuracy: 0.0090 - val_loss: 0.1208 - val_accuracy: 0.0090\n",
            "Epoch 22/100\n",
            "235/235 [==============================] - 4s 15ms/step - loss: 0.1189 - accuracy: 0.0107 - val_loss: 0.1188 - val_accuracy: 0.0106\n",
            "Epoch 23/100\n",
            "235/235 [==============================] - 4s 16ms/step - loss: 0.1180 - accuracy: 0.0100 - val_loss: 0.1183 - val_accuracy: 0.0112\n",
            "Epoch 24/100\n",
            "235/235 [==============================] - 4s 16ms/step - loss: 0.1171 - accuracy: 0.0110 - val_loss: 0.1150 - val_accuracy: 0.0117\n",
            "Epoch 25/100\n",
            "235/235 [==============================] - 4s 15ms/step - loss: 0.1168 - accuracy: 0.0101 - val_loss: 0.1164 - val_accuracy: 0.0121\n",
            "Epoch 26/100\n",
            "235/235 [==============================] - 4s 15ms/step - loss: 0.1164 - accuracy: 0.0110 - val_loss: 0.1172 - val_accuracy: 0.0143\n",
            "Epoch 27/100\n",
            "235/235 [==============================] - 4s 16ms/step - loss: 0.1158 - accuracy: 0.0109 - val_loss: 0.1167 - val_accuracy: 0.0147\n",
            "Epoch 28/100\n",
            "235/235 [==============================] - 4s 15ms/step - loss: 0.1148 - accuracy: 0.0110 - val_loss: 0.1143 - val_accuracy: 0.0093\n",
            "Epoch 29/100\n",
            "235/235 [==============================] - 4s 15ms/step - loss: 0.1141 - accuracy: 0.0104 - val_loss: 0.1121 - val_accuracy: 0.0126\n",
            "Epoch 30/100\n",
            "235/235 [==============================] - 4s 15ms/step - loss: 0.1140 - accuracy: 0.0112 - val_loss: 0.1131 - val_accuracy: 0.0113\n",
            "Epoch 31/100\n",
            "235/235 [==============================] - 4s 15ms/step - loss: 0.1134 - accuracy: 0.0106 - val_loss: 0.1139 - val_accuracy: 0.0119\n",
            "Epoch 32/100\n",
            "235/235 [==============================] - 4s 15ms/step - loss: 0.1127 - accuracy: 0.0122 - val_loss: 0.1111 - val_accuracy: 0.0109\n",
            "Epoch 33/100\n",
            "235/235 [==============================] - 4s 15ms/step - loss: 0.1121 - accuracy: 0.0115 - val_loss: 0.1118 - val_accuracy: 0.0147\n",
            "Epoch 34/100\n",
            "235/235 [==============================] - 4s 15ms/step - loss: 0.1116 - accuracy: 0.0105 - val_loss: 0.1129 - val_accuracy: 0.0128\n",
            "Epoch 35/100\n",
            "235/235 [==============================] - 4s 15ms/step - loss: 0.1111 - accuracy: 0.0119 - val_loss: 0.1128 - val_accuracy: 0.0112\n",
            "Epoch 36/100\n",
            "235/235 [==============================] - 4s 16ms/step - loss: 0.1109 - accuracy: 0.0124 - val_loss: 0.1105 - val_accuracy: 0.0091\n",
            "Epoch 37/100\n",
            "235/235 [==============================] - 4s 16ms/step - loss: 0.1103 - accuracy: 0.0104 - val_loss: 0.1103 - val_accuracy: 0.0131\n",
            "Epoch 38/100\n",
            "235/235 [==============================] - 4s 15ms/step - loss: 0.1101 - accuracy: 0.0113 - val_loss: 0.1101 - val_accuracy: 0.0086\n",
            "Epoch 39/100\n",
            "235/235 [==============================] - 4s 15ms/step - loss: 0.1099 - accuracy: 0.0112 - val_loss: 0.1097 - val_accuracy: 0.0105\n",
            "Epoch 40/100\n",
            "235/235 [==============================] - 4s 15ms/step - loss: 0.1095 - accuracy: 0.0117 - val_loss: 0.1096 - val_accuracy: 0.0109\n",
            "Epoch 41/100\n",
            "235/235 [==============================] - 4s 16ms/step - loss: 0.1090 - accuracy: 0.0119 - val_loss: 0.1091 - val_accuracy: 0.0146\n",
            "Epoch 42/100\n",
            "235/235 [==============================] - 4s 15ms/step - loss: 0.1089 - accuracy: 0.0119 - val_loss: 0.1081 - val_accuracy: 0.0150\n",
            "Epoch 43/100\n",
            "235/235 [==============================] - 4s 16ms/step - loss: 0.1081 - accuracy: 0.0128 - val_loss: 0.1073 - val_accuracy: 0.0130\n",
            "Epoch 44/100\n",
            "235/235 [==============================] - 4s 16ms/step - loss: 0.1081 - accuracy: 0.0122 - val_loss: 0.1064 - val_accuracy: 0.0121\n",
            "Epoch 45/100\n",
            "235/235 [==============================] - 4s 15ms/step - loss: 0.1078 - accuracy: 0.0123 - val_loss: 0.1071 - val_accuracy: 0.0132\n",
            "Epoch 46/100\n",
            "235/235 [==============================] - 4s 16ms/step - loss: 0.1075 - accuracy: 0.0130 - val_loss: 0.1094 - val_accuracy: 0.0141\n",
            "Epoch 47/100\n",
            "235/235 [==============================] - 4s 16ms/step - loss: 0.1069 - accuracy: 0.0118 - val_loss: 0.1054 - val_accuracy: 0.0156\n",
            "Epoch 48/100\n",
            "235/235 [==============================] - 4s 16ms/step - loss: 0.1068 - accuracy: 0.0123 - val_loss: 0.1058 - val_accuracy: 0.0131\n",
            "Epoch 49/100\n",
            "235/235 [==============================] - 4s 16ms/step - loss: 0.1068 - accuracy: 0.0126 - val_loss: 0.1064 - val_accuracy: 0.0142\n",
            "Epoch 50/100\n",
            "235/235 [==============================] - 4s 16ms/step - loss: 0.1062 - accuracy: 0.0115 - val_loss: 0.1054 - val_accuracy: 0.0108\n",
            "Epoch 51/100\n",
            "235/235 [==============================] - 4s 15ms/step - loss: 0.1060 - accuracy: 0.0113 - val_loss: 0.1040 - val_accuracy: 0.0123\n",
            "Epoch 52/100\n",
            "235/235 [==============================] - 4s 16ms/step - loss: 0.1058 - accuracy: 0.0112 - val_loss: 0.1054 - val_accuracy: 0.0136\n",
            "Epoch 53/100\n",
            "235/235 [==============================] - 4s 16ms/step - loss: 0.1057 - accuracy: 0.0121 - val_loss: 0.1055 - val_accuracy: 0.0152\n",
            "Epoch 54/100\n",
            "235/235 [==============================] - 4s 16ms/step - loss: 0.1055 - accuracy: 0.0120 - val_loss: 0.1076 - val_accuracy: 0.0126\n",
            "Epoch 55/100\n",
            "235/235 [==============================] - 4s 15ms/step - loss: 0.1050 - accuracy: 0.0113 - val_loss: 0.1035 - val_accuracy: 0.0169\n",
            "Epoch 56/100\n",
            "235/235 [==============================] - 4s 16ms/step - loss: 0.1049 - accuracy: 0.0127 - val_loss: 0.1027 - val_accuracy: 0.0129\n",
            "Epoch 57/100\n",
            "235/235 [==============================] - 4s 16ms/step - loss: 0.1048 - accuracy: 0.0121 - val_loss: 0.1062 - val_accuracy: 0.0124\n",
            "Epoch 58/100\n",
            "235/235 [==============================] - 4s 16ms/step - loss: 0.1042 - accuracy: 0.0116 - val_loss: 0.1040 - val_accuracy: 0.0187\n",
            "Epoch 59/100\n",
            "235/235 [==============================] - 4s 15ms/step - loss: 0.1043 - accuracy: 0.0124 - val_loss: 0.1044 - val_accuracy: 0.0141\n",
            "Epoch 60/100\n",
            "235/235 [==============================] - 4s 15ms/step - loss: 0.1043 - accuracy: 0.0124 - val_loss: 0.1056 - val_accuracy: 0.0140\n",
            "Epoch 61/100\n",
            "235/235 [==============================] - 4s 15ms/step - loss: 0.1041 - accuracy: 0.0126 - val_loss: 0.1070 - val_accuracy: 0.0147\n",
            "Epoch 62/100\n",
            "235/235 [==============================] - 4s 16ms/step - loss: 0.1040 - accuracy: 0.0121 - val_loss: 0.1047 - val_accuracy: 0.0143\n",
            "Epoch 63/100\n",
            "235/235 [==============================] - 4s 16ms/step - loss: 0.1034 - accuracy: 0.0123 - val_loss: 0.1041 - val_accuracy: 0.0127\n",
            "Epoch 64/100\n",
            "235/235 [==============================] - 4s 16ms/step - loss: 0.1034 - accuracy: 0.0120 - val_loss: 0.1017 - val_accuracy: 0.0143\n",
            "Epoch 65/100\n",
            "235/235 [==============================] - 4s 16ms/step - loss: 0.1031 - accuracy: 0.0131 - val_loss: 0.1046 - val_accuracy: 0.0132\n",
            "Epoch 66/100\n",
            "235/235 [==============================] - 4s 16ms/step - loss: 0.1032 - accuracy: 0.0120 - val_loss: 0.1023 - val_accuracy: 0.0143\n",
            "Epoch 67/100\n",
            "235/235 [==============================] - 4s 15ms/step - loss: 0.1031 - accuracy: 0.0123 - val_loss: 0.1041 - val_accuracy: 0.0127\n",
            "Epoch 68/100\n",
            "235/235 [==============================] - 4s 16ms/step - loss: 0.1028 - accuracy: 0.0124 - val_loss: 0.1033 - val_accuracy: 0.0150\n",
            "Epoch 69/100\n",
            "235/235 [==============================] - 4s 16ms/step - loss: 0.1029 - accuracy: 0.0128 - val_loss: 0.1019 - val_accuracy: 0.0125\n",
            "Epoch 70/100\n",
            "235/235 [==============================] - 4s 15ms/step - loss: 0.1026 - accuracy: 0.0118 - val_loss: 0.1063 - val_accuracy: 0.0144\n",
            "Epoch 71/100\n",
            "235/235 [==============================] - 4s 15ms/step - loss: 0.1023 - accuracy: 0.0133 - val_loss: 0.1019 - val_accuracy: 0.0135\n",
            "Epoch 72/100\n",
            "235/235 [==============================] - 4s 16ms/step - loss: 0.1024 - accuracy: 0.0126 - val_loss: 0.1021 - val_accuracy: 0.0150\n",
            "Epoch 73/100\n",
            "235/235 [==============================] - 4s 16ms/step - loss: 0.1021 - accuracy: 0.0120 - val_loss: 0.1051 - val_accuracy: 0.0116\n",
            "Epoch 74/100\n",
            "235/235 [==============================] - 4s 16ms/step - loss: 0.1021 - accuracy: 0.0132 - val_loss: 0.1020 - val_accuracy: 0.0120\n",
            "Epoch 75/100\n",
            "235/235 [==============================] - 4s 16ms/step - loss: 0.1021 - accuracy: 0.0132 - val_loss: 0.1021 - val_accuracy: 0.0115\n",
            "Epoch 76/100\n",
            "235/235 [==============================] - 4s 16ms/step - loss: 0.1019 - accuracy: 0.0125 - val_loss: 0.1019 - val_accuracy: 0.0136\n",
            "Epoch 77/100\n",
            "235/235 [==============================] - 4s 16ms/step - loss: 0.1016 - accuracy: 0.0126 - val_loss: 0.1003 - val_accuracy: 0.0119\n",
            "Epoch 78/100\n",
            "235/235 [==============================] - 4s 15ms/step - loss: 0.1016 - accuracy: 0.0134 - val_loss: 0.1023 - val_accuracy: 0.0145\n",
            "Epoch 79/100\n",
            "235/235 [==============================] - 4s 16ms/step - loss: 0.1014 - accuracy: 0.0128 - val_loss: 0.1028 - val_accuracy: 0.0149\n",
            "Epoch 80/100\n",
            "235/235 [==============================] - 4s 16ms/step - loss: 0.1014 - accuracy: 0.0125 - val_loss: 0.1018 - val_accuracy: 0.0100\n",
            "Epoch 81/100\n",
            "235/235 [==============================] - 4s 15ms/step - loss: 0.1013 - accuracy: 0.0122 - val_loss: 0.1006 - val_accuracy: 0.0111\n",
            "Epoch 82/100\n",
            "235/235 [==============================] - 4s 15ms/step - loss: 0.1014 - accuracy: 0.0132 - val_loss: 0.1018 - val_accuracy: 0.0128\n",
            "Epoch 83/100\n",
            "235/235 [==============================] - 4s 16ms/step - loss: 0.1008 - accuracy: 0.0143 - val_loss: 0.1019 - val_accuracy: 0.0119\n",
            "Epoch 84/100\n",
            "235/235 [==============================] - 4s 16ms/step - loss: 0.1011 - accuracy: 0.0129 - val_loss: 0.1025 - val_accuracy: 0.0144\n",
            "Epoch 85/100\n",
            "235/235 [==============================] - 4s 16ms/step - loss: 0.1009 - accuracy: 0.0127 - val_loss: 0.0982 - val_accuracy: 0.0120\n",
            "Epoch 86/100\n",
            "235/235 [==============================] - 4s 16ms/step - loss: 0.1007 - accuracy: 0.0133 - val_loss: 0.1030 - val_accuracy: 0.0112\n",
            "Epoch 87/100\n",
            "235/235 [==============================] - 4s 15ms/step - loss: 0.1007 - accuracy: 0.0135 - val_loss: 0.1000 - val_accuracy: 0.0131\n",
            "Epoch 88/100\n",
            "235/235 [==============================] - 4s 16ms/step - loss: 0.1006 - accuracy: 0.0137 - val_loss: 0.1041 - val_accuracy: 0.0174\n",
            "Epoch 89/100\n",
            "235/235 [==============================] - 4s 15ms/step - loss: 0.1004 - accuracy: 0.0132 - val_loss: 0.1004 - val_accuracy: 0.0145\n",
            "Epoch 90/100\n",
            "235/235 [==============================] - 4s 16ms/step - loss: 0.1001 - accuracy: 0.0141 - val_loss: 0.1012 - val_accuracy: 0.0124\n",
            "Epoch 91/100\n",
            "235/235 [==============================] - 4s 15ms/step - loss: 0.1001 - accuracy: 0.0126 - val_loss: 0.0997 - val_accuracy: 0.0132\n",
            "Epoch 92/100\n",
            "235/235 [==============================] - 4s 16ms/step - loss: 0.0998 - accuracy: 0.0130 - val_loss: 0.1013 - val_accuracy: 0.0144\n",
            "Epoch 93/100\n",
            "235/235 [==============================] - 4s 16ms/step - loss: 0.1000 - accuracy: 0.0136 - val_loss: 0.0984 - val_accuracy: 0.0142\n",
            "Epoch 94/100\n",
            "235/235 [==============================] - 4s 16ms/step - loss: 0.0997 - accuracy: 0.0126 - val_loss: 0.0993 - val_accuracy: 0.0124\n",
            "Epoch 95/100\n",
            "235/235 [==============================] - 4s 16ms/step - loss: 0.1001 - accuracy: 0.0137 - val_loss: 0.1013 - val_accuracy: 0.0156\n",
            "Epoch 96/100\n",
            "235/235 [==============================] - 4s 16ms/step - loss: 0.0999 - accuracy: 0.0141 - val_loss: 0.0981 - val_accuracy: 0.0129\n",
            "Epoch 97/100\n",
            "235/235 [==============================] - 4s 16ms/step - loss: 0.0997 - accuracy: 0.0137 - val_loss: 0.1016 - val_accuracy: 0.0179\n",
            "Epoch 98/100\n",
            "235/235 [==============================] - 4s 16ms/step - loss: 0.0996 - accuracy: 0.0136 - val_loss: 0.1022 - val_accuracy: 0.0141\n",
            "Epoch 99/100\n",
            "235/235 [==============================] - 4s 16ms/step - loss: 0.0994 - accuracy: 0.0143 - val_loss: 0.0987 - val_accuracy: 0.0127\n",
            "Epoch 100/100\n",
            "235/235 [==============================] - 4s 15ms/step - loss: 0.0992 - accuracy: 0.0140 - val_loss: 0.0981 - val_accuracy: 0.0136\n"
          ],
          "name": "stdout"
        }
      ]
    },
    {
      "cell_type": "code",
      "metadata": {
        "colab": {
          "base_uri": "https://localhost:8080/",
          "height": 299
        },
        "id": "AWG6RWz8JVF9",
        "outputId": "ca06bf34-39ec-4165-bea3-88eb1a419786"
      },
      "source": [
        "import matplotlib\n",
        "import matplotlib.pyplot as plt\n",
        "%matplotlib inline\n",
        "# construct a plot that plots and displays the training history\n",
        "N = np.arange(0, 100)\n",
        "plt.style.use('ggplot')\n",
        "plt.figure()\n",
        "plt.plot(N, history.history['loss'], label='train_loss')\n",
        "plt.plot(N, history.history['val_loss'], label='val_loss')\n",
        "plt.title('Training Loss and Accuracy')\n",
        "plt.xlabel('Epoch #')\n",
        "plt.ylabel('Loss/Accuracy')\n",
        "plt.legend(loc='lower left')\n",
        "# plt.savefig(plot)\n",
        "plt.show(block=True)"
      ],
      "execution_count": 8,
      "outputs": [
        {
          "output_type": "display_data",
          "data": {
            "image/png": "[encoded data removed]",
            "text/plain": [
              "<Figure size 432x288 with 1 Axes>"
            ]
          },
          "metadata": {
            "tags": []
          }
        }
      ]
    },
    {
      "cell_type": "code",
      "metadata": {
        "colab": {
          "base_uri": "https://localhost:8080/",
          "height": 244
        },
        "id": "ZuCCfa1GJYDi",
        "outputId": "9ce66f58-af7b-4b35-bfe3-a12b4c4c645f"
      },
      "source": [
        "decoded_imgs = deeperautoencoder.predict(X_train)\n",
        "\n",
        "n = 10\n",
        "plt.figure(figsize=(20, 4))\n",
        "for i in range(1, n + 1):\n",
        "    # Display original\n",
        "    ax = plt.subplot(2, n, i)\n",
        "    plt.imshow(x_test[i].reshape(28, 28))\n",
        "    plt.gray()\n",
        "    ax.get_xaxis().set_visible(False)\n",
        "    ax.get_yaxis().set_visible(False)\n",
        "\n",
        "    # Display reconstruction\n",
        "    ax = plt.subplot(2, n, i + n)\n",
        "    plt.imshow(decoded_imgs[i].reshape(28, 28))\n",
        "    plt.gray()\n",
        "    ax.get_xaxis().set_visible(False)\n",
        "    ax.get_yaxis().set_visible(False)\n",
        "plt.show()"
      ],
      "execution_count": 9,
      "outputs": [
        {
          "output_type": "display_data",
          "data": {
            "image/png": "[encoded data removed]",
            "text/plain": [
              "<Figure size 1440x288 with 20 Axes>"
            ]
          },
          "metadata": {
            "tags": []
          }
        }
      ]
    },
    {
      "cell_type": "markdown",
      "metadata": {
        "id": "tDBEbyKSJbSo"
      },
      "source": [
        "# **TEST DATA ON RMSPROP**"
      ]
    },
    {
      "cell_type": "code",
      "metadata": {
        "colab": {
          "base_uri": "https://localhost:8080/"
        },
        "id": "NzRGdpQnJgRw",
        "outputId": "b8170e6e-0ed4-449c-a77a-794df0305090"
      },
      "source": [
        "\n",
        "decoded_imgs = deeperautoencoder.predict(X_test)\n",
        "bce = tf.keras.losses.BinaryCrossentropy()\n",
        "bce(X_test, decoded_imgs).numpy()\n",
        "\n"
      ],
      "execution_count": 10,
      "outputs": [
        {
          "output_type": "execute_result",
          "data": {
            "text/plain": [
              "0.09437825"
            ]
          },
          "metadata": {
            "tags": []
          },
          "execution_count": 10
        }
      ]
    },
    {
      "cell_type": "markdown",
      "metadata": {
        "id": "pxIhRtrAANCq"
      },
      "source": [
        "# **SAVING ADAM MODEL AS IT HAS THE MINIMUM LOSS IN THE WHOLE TEST DATASET**"
      ]
    },
    {
      "cell_type": "code",
      "metadata": {
        "id": "VSx55DgCAZHf"
      },
      "source": [
        "with open('autoencoderADAM.pickle','wb')as f:\n",
        "  pickle.dump(model,f)"
      ],
      "execution_count": null,
      "outputs": []
    },
    {
      "cell_type": "markdown",
      "metadata": {
        "id": "hmYzf2aKXZi-"
      },
      "source": [
        "\n",
        "\n",
        "# **TEST RECONSTRUCTION**"
      ]
    },
    {
      "cell_type": "markdown",
      "metadata": {
        "id": "0hUJ9j3ZMuxu"
      },
      "source": [
        "**REMOVING ONE LAYER**"
      ]
    },
    {
      "cell_type": "code",
      "metadata": {
        "id": "IsWezce8Xjjv",
        "colab": {
          "base_uri": "https://localhost:8080/"
        },
        "outputId": "df06b06b-a7fe-4cfa-8551-4708eaf9d5d6"
      },
      "source": [
        "def model():\n",
        "  input_img = tf.keras.layers.Input(shape=(784,))\n",
        "  encoded = tf.keras.layers.Dense(64, activation='relu',activity_regularizer=regularizers.l1(10e-5))(input_img)\n",
        "  encoded = tf.keras.layers.Dense(32, activation='relu',activity_regularizer=regularizers.l1(10e-5))(encoded)\n",
        "  decoded = tf.keras.layers.Dense(64, activation='relu')(encoded)\n",
        "  decoded = tf.keras.layers.Dense(784, activation='sigmoid')(decoded)\n",
        "  autoencoder = tf.keras.models.Model(input_img, decoded)\n",
        "  #sgd = SGD(lr = 0.01, decay=1e-6, momentum=0.9 ,nesterov=True)\n",
        "  autoencoder.compile(optimizer='adam', loss='binary_crossentropy')\n",
        "  #autoencoder.compile(loss='binary_crossentropy', metrics=['accuracy'],optimizer = sgd)\n",
        "  return autoencoder\n",
        "deeperautoencoder = model()\n",
        "history = deeperautoencoder.fit(X_train, X_train, epochs=100, batch_size=256, shuffle=True, validation_data=(X_test, X_test))\n",
        "  \n"
      ],
      "execution_count": 18,
      "outputs": [
        {
          "output_type": "stream",
          "text": [
            "Epoch 1/100\n",
            "235/235 [==============================] - 3s 11ms/step - loss: 0.3733 - val_loss: 0.1862\n",
            "Epoch 2/100\n",
            "235/235 [==============================] - 3s 11ms/step - loss: 0.1763 - val_loss: 0.1529\n",
            "Epoch 3/100\n",
            "235/235 [==============================] - 2s 11ms/step - loss: 0.1502 - val_loss: 0.1384\n",
            "Epoch 4/100\n",
            "235/235 [==============================] - 2s 10ms/step - loss: 0.1373 - val_loss: 0.1304\n",
            "Epoch 5/100\n",
            "235/235 [==============================] - 2s 10ms/step - loss: 0.1307 - val_loss: 0.1263\n",
            "Epoch 6/100\n",
            "235/235 [==============================] - 2s 10ms/step - loss: 0.1264 - val_loss: 0.1222\n",
            "Epoch 7/100\n",
            "235/235 [==============================] - 2s 10ms/step - loss: 0.1227 - val_loss: 0.1195\n",
            "Epoch 8/100\n",
            "235/235 [==============================] - 2s 10ms/step - loss: 0.1204 - val_loss: 0.1171\n",
            "Epoch 9/100\n",
            "235/235 [==============================] - 2s 10ms/step - loss: 0.1179 - val_loss: 0.1155\n",
            "Epoch 10/100\n",
            "235/235 [==============================] - 2s 9ms/step - loss: 0.1162 - val_loss: 0.1133\n",
            "Epoch 11/100\n",
            "235/235 [==============================] - 2s 10ms/step - loss: 0.1145 - val_loss: 0.1115\n",
            "Epoch 12/100\n",
            "235/235 [==============================] - 2s 10ms/step - loss: 0.1124 - val_loss: 0.1100\n",
            "Epoch 13/100\n",
            "235/235 [==============================] - 2s 10ms/step - loss: 0.1109 - val_loss: 0.1086\n",
            "Epoch 14/100\n",
            "235/235 [==============================] - 2s 10ms/step - loss: 0.1096 - val_loss: 0.1074\n",
            "Epoch 15/100\n",
            "235/235 [==============================] - 2s 10ms/step - loss: 0.1084 - val_loss: 0.1066\n",
            "Epoch 16/100\n",
            "235/235 [==============================] - 2s 10ms/step - loss: 0.1074 - val_loss: 0.1056\n",
            "Epoch 17/100\n",
            "235/235 [==============================] - 3s 11ms/step - loss: 0.1065 - val_loss: 0.1048\n",
            "Epoch 18/100\n",
            "235/235 [==============================] - 2s 10ms/step - loss: 0.1055 - val_loss: 0.1041\n",
            "Epoch 19/100\n",
            "235/235 [==============================] - 2s 10ms/step - loss: 0.1051 - val_loss: 0.1034\n",
            "Epoch 20/100\n",
            "235/235 [==============================] - 2s 10ms/step - loss: 0.1044 - val_loss: 0.1028\n",
            "Epoch 21/100\n",
            "235/235 [==============================] - 2s 11ms/step - loss: 0.1036 - val_loss: 0.1022\n",
            "Epoch 22/100\n",
            "235/235 [==============================] - 2s 10ms/step - loss: 0.1031 - val_loss: 0.1016\n",
            "Epoch 23/100\n",
            "235/235 [==============================] - 2s 10ms/step - loss: 0.1024 - val_loss: 0.1014\n",
            "Epoch 24/100\n",
            "235/235 [==============================] - 2s 11ms/step - loss: 0.1019 - val_loss: 0.1005\n",
            "Epoch 25/100\n",
            "235/235 [==============================] - 2s 11ms/step - loss: 0.1014 - val_loss: 0.1001\n",
            "Epoch 26/100\n",
            "235/235 [==============================] - 2s 10ms/step - loss: 0.1010 - val_loss: 0.1001\n",
            "Epoch 27/100\n",
            "235/235 [==============================] - 2s 11ms/step - loss: 0.1008 - val_loss: 0.0994\n",
            "Epoch 28/100\n",
            "235/235 [==============================] - 2s 10ms/step - loss: 0.1004 - val_loss: 0.0991\n",
            "Epoch 29/100\n",
            "235/235 [==============================] - 2s 11ms/step - loss: 0.1001 - val_loss: 0.0990\n",
            "Epoch 30/100\n",
            "235/235 [==============================] - 2s 11ms/step - loss: 0.0997 - val_loss: 0.0986\n",
            "Epoch 31/100\n",
            "235/235 [==============================] - 3s 11ms/step - loss: 0.0996 - val_loss: 0.0983\n",
            "Epoch 32/100\n",
            "235/235 [==============================] - 2s 10ms/step - loss: 0.0992 - val_loss: 0.0981\n",
            "Epoch 33/100\n",
            "235/235 [==============================] - 2s 10ms/step - loss: 0.0990 - val_loss: 0.0980\n",
            "Epoch 34/100\n",
            "235/235 [==============================] - 3s 11ms/step - loss: 0.0986 - val_loss: 0.0978\n",
            "Epoch 35/100\n",
            "235/235 [==============================] - 3s 11ms/step - loss: 0.0985 - val_loss: 0.0974\n",
            "Epoch 36/100\n",
            "235/235 [==============================] - 2s 10ms/step - loss: 0.0983 - val_loss: 0.0972\n",
            "Epoch 37/100\n",
            "235/235 [==============================] - 2s 11ms/step - loss: 0.0981 - val_loss: 0.0970\n",
            "Epoch 38/100\n",
            "235/235 [==============================] - 3s 11ms/step - loss: 0.0978 - val_loss: 0.0968\n",
            "Epoch 39/100\n",
            "235/235 [==============================] - 3s 11ms/step - loss: 0.0974 - val_loss: 0.0968\n",
            "Epoch 40/100\n",
            "235/235 [==============================] - 2s 10ms/step - loss: 0.0975 - val_loss: 0.0966\n",
            "Epoch 41/100\n",
            "235/235 [==============================] - 2s 10ms/step - loss: 0.0975 - val_loss: 0.0965\n",
            "Epoch 42/100\n",
            "235/235 [==============================] - 3s 11ms/step - loss: 0.0972 - val_loss: 0.0965\n",
            "Epoch 43/100\n",
            "235/235 [==============================] - 2s 11ms/step - loss: 0.0970 - val_loss: 0.0961\n",
            "Epoch 44/100\n",
            "235/235 [==============================] - 3s 11ms/step - loss: 0.0968 - val_loss: 0.0961\n",
            "Epoch 45/100\n",
            "235/235 [==============================] - 3s 11ms/step - loss: 0.0967 - val_loss: 0.0957\n",
            "Epoch 46/100\n",
            "235/235 [==============================] - 2s 11ms/step - loss: 0.0969 - val_loss: 0.0957\n",
            "Epoch 47/100\n",
            "235/235 [==============================] - 3s 11ms/step - loss: 0.0963 - val_loss: 0.0958\n",
            "Epoch 48/100\n",
            "235/235 [==============================] - 2s 10ms/step - loss: 0.0965 - val_loss: 0.0954\n",
            "Epoch 49/100\n",
            "235/235 [==============================] - 2s 11ms/step - loss: 0.0962 - val_loss: 0.0952\n",
            "Epoch 50/100\n",
            "235/235 [==============================] - 2s 10ms/step - loss: 0.0963 - val_loss: 0.0951\n",
            "Epoch 51/100\n",
            "235/235 [==============================] - 2s 10ms/step - loss: 0.0960 - val_loss: 0.0949\n",
            "Epoch 52/100\n",
            "235/235 [==============================] - 2s 10ms/step - loss: 0.0957 - val_loss: 0.0950\n",
            "Epoch 53/100\n",
            "235/235 [==============================] - 3s 11ms/step - loss: 0.0959 - val_loss: 0.0948\n",
            "Epoch 54/100\n",
            "235/235 [==============================] - 2s 11ms/step - loss: 0.0957 - val_loss: 0.0948\n",
            "Epoch 55/100\n",
            "235/235 [==============================] - 3s 11ms/step - loss: 0.0955 - val_loss: 0.0947\n",
            "Epoch 56/100\n",
            "235/235 [==============================] - 3s 11ms/step - loss: 0.0955 - val_loss: 0.0946\n",
            "Epoch 57/100\n",
            "235/235 [==============================] - 2s 10ms/step - loss: 0.0954 - val_loss: 0.0945\n",
            "Epoch 58/100\n",
            "235/235 [==============================] - 2s 10ms/step - loss: 0.0952 - val_loss: 0.0945\n",
            "Epoch 59/100\n",
            "235/235 [==============================] - 2s 10ms/step - loss: 0.0954 - val_loss: 0.0941\n",
            "Epoch 60/100\n",
            "235/235 [==============================] - 2s 11ms/step - loss: 0.0952 - val_loss: 0.0941\n",
            "Epoch 61/100\n",
            "235/235 [==============================] - 2s 10ms/step - loss: 0.0949 - val_loss: 0.0940\n",
            "Epoch 62/100\n",
            "235/235 [==============================] - 2s 11ms/step - loss: 0.0949 - val_loss: 0.0940\n",
            "Epoch 63/100\n",
            "235/235 [==============================] - 3s 11ms/step - loss: 0.0946 - val_loss: 0.0940\n",
            "Epoch 64/100\n",
            "235/235 [==============================] - 2s 10ms/step - loss: 0.0946 - val_loss: 0.0938\n",
            "Epoch 65/100\n",
            "235/235 [==============================] - 2s 10ms/step - loss: 0.0945 - val_loss: 0.0939\n",
            "Epoch 66/100\n",
            "235/235 [==============================] - 3s 11ms/step - loss: 0.0944 - val_loss: 0.0938\n",
            "Epoch 67/100\n",
            "235/235 [==============================] - 2s 10ms/step - loss: 0.0944 - val_loss: 0.0936\n",
            "Epoch 68/100\n",
            "235/235 [==============================] - 3s 11ms/step - loss: 0.0943 - val_loss: 0.0934\n",
            "Epoch 69/100\n",
            "235/235 [==============================] - 3s 11ms/step - loss: 0.0944 - val_loss: 0.0935\n",
            "Epoch 70/100\n",
            "235/235 [==============================] - 2s 10ms/step - loss: 0.0941 - val_loss: 0.0934\n",
            "Epoch 71/100\n",
            "235/235 [==============================] - 3s 11ms/step - loss: 0.0942 - val_loss: 0.0935\n",
            "Epoch 72/100\n",
            "235/235 [==============================] - 3s 11ms/step - loss: 0.0940 - val_loss: 0.0936\n",
            "Epoch 73/100\n",
            "235/235 [==============================] - 2s 11ms/step - loss: 0.0940 - val_loss: 0.0933\n",
            "Epoch 74/100\n",
            "235/235 [==============================] - 3s 11ms/step - loss: 0.0941 - val_loss: 0.0932\n",
            "Epoch 75/100\n",
            "235/235 [==============================] - 3s 11ms/step - loss: 0.0941 - val_loss: 0.0932\n",
            "Epoch 76/100\n",
            "235/235 [==============================] - 2s 11ms/step - loss: 0.0939 - val_loss: 0.0932\n",
            "Epoch 77/100\n",
            "235/235 [==============================] - 3s 11ms/step - loss: 0.0938 - val_loss: 0.0930\n",
            "Epoch 78/100\n",
            "235/235 [==============================] - 3s 11ms/step - loss: 0.0935 - val_loss: 0.0929\n",
            "Epoch 79/100\n",
            "235/235 [==============================] - 3s 11ms/step - loss: 0.0937 - val_loss: 0.0928\n",
            "Epoch 80/100\n",
            "235/235 [==============================] - 3s 11ms/step - loss: 0.0935 - val_loss: 0.0928\n",
            "Epoch 81/100\n",
            "235/235 [==============================] - 3s 11ms/step - loss: 0.0935 - val_loss: 0.0931\n",
            "Epoch 82/100\n",
            "235/235 [==============================] - 2s 11ms/step - loss: 0.0936 - val_loss: 0.0929\n",
            "Epoch 83/100\n",
            "235/235 [==============================] - 2s 11ms/step - loss: 0.0935 - val_loss: 0.0928\n",
            "Epoch 84/100\n",
            "235/235 [==============================] - 2s 10ms/step - loss: 0.0933 - val_loss: 0.0927\n",
            "Epoch 85/100\n",
            "235/235 [==============================] - 3s 11ms/step - loss: 0.0935 - val_loss: 0.0926\n",
            "Epoch 86/100\n",
            "235/235 [==============================] - 3s 11ms/step - loss: 0.0935 - val_loss: 0.0926\n",
            "Epoch 87/100\n",
            "235/235 [==============================] - 3s 11ms/step - loss: 0.0933 - val_loss: 0.0926\n",
            "Epoch 88/100\n",
            "235/235 [==============================] - 3s 11ms/step - loss: 0.0933 - val_loss: 0.0928\n",
            "Epoch 89/100\n",
            "235/235 [==============================] - 3s 11ms/step - loss: 0.0932 - val_loss: 0.0924\n",
            "Epoch 90/100\n",
            "235/235 [==============================] - 3s 11ms/step - loss: 0.0933 - val_loss: 0.0924\n",
            "Epoch 91/100\n",
            "235/235 [==============================] - 3s 11ms/step - loss: 0.0932 - val_loss: 0.0922\n",
            "Epoch 92/100\n",
            "235/235 [==============================] - 3s 11ms/step - loss: 0.0932 - val_loss: 0.0923\n",
            "Epoch 93/100\n",
            "235/235 [==============================] - 3s 11ms/step - loss: 0.0930 - val_loss: 0.0925\n",
            "Epoch 94/100\n",
            "235/235 [==============================] - 3s 11ms/step - loss: 0.0930 - val_loss: 0.0922\n",
            "Epoch 95/100\n",
            "235/235 [==============================] - 2s 11ms/step - loss: 0.0930 - val_loss: 0.0921\n",
            "Epoch 96/100\n",
            "235/235 [==============================] - 2s 10ms/step - loss: 0.0930 - val_loss: 0.0924\n",
            "Epoch 97/100\n",
            "235/235 [==============================] - 3s 12ms/step - loss: 0.0928 - val_loss: 0.0920\n",
            "Epoch 98/100\n",
            "235/235 [==============================] - 3s 11ms/step - loss: 0.0928 - val_loss: 0.0922\n",
            "Epoch 99/100\n",
            "235/235 [==============================] - 3s 11ms/step - loss: 0.0926 - val_loss: 0.0920\n",
            "Epoch 100/100\n",
            "235/235 [==============================] - 2s 11ms/step - loss: 0.0928 - val_loss: 0.0921\n"
          ],
          "name": "stdout"
        }
      ]
    },
    {
      "cell_type": "code",
      "metadata": {
        "colab": {
          "base_uri": "https://localhost:8080/",
          "height": 299
        },
        "id": "ma0lbjxeNBGX",
        "outputId": "85991bd3-8d5d-44b1-c05a-c3a5267ddfad"
      },
      "source": [
        "import matplotlib\n",
        "import matplotlib.pyplot as plt\n",
        "%matplotlib inline\n",
        "# construct a plot that plots and displays the training history\n",
        "N = np.arange(0, 100)\n",
        "plt.style.use('ggplot')\n",
        "plt.figure()\n",
        "plt.plot(N, history.history['loss'], label='train_loss')\n",
        "plt.plot(N, history.history['val_loss'], label='val_loss')\n",
        "plt.title('Training Loss and Accuracy')\n",
        "plt.xlabel('Epoch #')\n",
        "plt.ylabel('Loss/Accuracy')\n",
        "plt.legend(loc='lower left')\n",
        "# plt.savefig(plot)\n",
        "plt.show(block=True)"
      ],
      "execution_count": 19,
      "outputs": [
        {
          "output_type": "display_data",
          "data": {
            "image/png": "[encoded data removed]",
            "text/plain": [
              "<Figure size 432x288 with 1 Axes>"
            ]
          },
          "metadata": {
            "tags": []
          }
        }
      ]
    },
    {
      "cell_type": "code",
      "metadata": {
        "colab": {
          "base_uri": "https://localhost:8080/"
        },
        "id": "m0iC4ad7OQPI",
        "outputId": "5e1dcbb8-4fec-4cd8-db98-cddecfc9312a"
      },
      "source": [
        "\n",
        "decoded_imgs = deeperautoencoder.predict(X_test)\n",
        "bce = tf.keras.losses.BinaryCrossentropy()\n",
        "bce(X_test, decoded_imgs).numpy()\n",
        "\n"
      ],
      "execution_count": 20,
      "outputs": [
        {
          "output_type": "execute_result",
          "data": {
            "text/plain": [
              "0.08895714"
            ]
          },
          "metadata": {
            "tags": []
          },
          "execution_count": 20
        }
      ]
    },
    {
      "cell_type": "markdown",
      "metadata": {
        "id": "RyKxs1klNRgb"
      },
      "source": [
        "**REMOVING 2 LAYER**"
      ]
    },
    {
      "cell_type": "code",
      "metadata": {
        "colab": {
          "base_uri": "https://localhost:8080/"
        },
        "id": "046DsZPCNVS-",
        "outputId": "f38bd2cd-646e-41c4-d7d0-2fb4c6d19c1f"
      },
      "source": [
        "def model():\n",
        "  input_img = tf.keras.layers.Input(shape=(784,))\n",
        "  encoded = tf.keras.layers.Dense(32, activation='relu',activity_regularizer=regularizers.l1(10e-5))(input_img)\n",
        "  decoded = tf.keras.layers.Dense(32, activation='relu')(encoded)\n",
        "  decoded = tf.keras.layers.Dense(784, activation='sigmoid')(decoded)\n",
        "  autoencoder = tf.keras.models.Model(input_img, decoded)\n",
        "  #sgd = SGD(lr = 0.01, decay=1e-6, momentum=0.9 ,nesterov=True)\n",
        "  autoencoder.compile(optimizer='adam', loss='binary_crossentropy')\n",
        "  #autoencoder.compile(loss='binary_crossentropy', metrics=['accuracy'],optimizer = sgd)\n",
        "  return autoencoder\n",
        "deeperautoencoder = model()\n",
        "history = deeperautoencoder.fit(X_train, X_train, epochs=100, batch_size=256, shuffle=True, validation_data=(X_test, X_test))\n",
        "  \n"
      ],
      "execution_count": 21,
      "outputs": [
        {
          "output_type": "stream",
          "text": [
            "Epoch 1/100\n",
            "235/235 [==============================] - 3s 10ms/step - loss: 0.3898 - val_loss: 0.1979\n",
            "Epoch 2/100\n",
            "235/235 [==============================] - 2s 9ms/step - loss: 0.1886 - val_loss: 0.1626\n",
            "Epoch 3/100\n",
            "235/235 [==============================] - 2s 9ms/step - loss: 0.1601 - val_loss: 0.1472\n",
            "Epoch 4/100\n",
            "235/235 [==============================] - 2s 9ms/step - loss: 0.1460 - val_loss: 0.1368\n",
            "Epoch 5/100\n",
            "235/235 [==============================] - 2s 8ms/step - loss: 0.1363 - val_loss: 0.1297\n",
            "Epoch 6/100\n",
            "235/235 [==============================] - 2s 9ms/step - loss: 0.1300 - val_loss: 0.1255\n",
            "Epoch 7/100\n",
            "235/235 [==============================] - 2s 9ms/step - loss: 0.1261 - val_loss: 0.1218\n",
            "Epoch 8/100\n",
            "235/235 [==============================] - 2s 9ms/step - loss: 0.1226 - val_loss: 0.1190\n",
            "Epoch 9/100\n",
            "235/235 [==============================] - 2s 9ms/step - loss: 0.1202 - val_loss: 0.1165\n",
            "Epoch 10/100\n",
            "235/235 [==============================] - 2s 9ms/step - loss: 0.1175 - val_loss: 0.1148\n",
            "Epoch 11/100\n",
            "235/235 [==============================] - 2s 9ms/step - loss: 0.1162 - val_loss: 0.1140\n",
            "Epoch 12/100\n",
            "235/235 [==============================] - 2s 9ms/step - loss: 0.1151 - val_loss: 0.1129\n",
            "Epoch 13/100\n",
            "235/235 [==============================] - 2s 9ms/step - loss: 0.1143 - val_loss: 0.1122\n",
            "Epoch 14/100\n",
            "235/235 [==============================] - 2s 9ms/step - loss: 0.1135 - val_loss: 0.1114\n",
            "Epoch 15/100\n",
            "235/235 [==============================] - 2s 9ms/step - loss: 0.1127 - val_loss: 0.1108\n",
            "Epoch 16/100\n",
            "235/235 [==============================] - 2s 9ms/step - loss: 0.1120 - val_loss: 0.1101\n",
            "Epoch 17/100\n",
            "235/235 [==============================] - 2s 9ms/step - loss: 0.1112 - val_loss: 0.1094\n",
            "Epoch 18/100\n",
            "235/235 [==============================] - 2s 9ms/step - loss: 0.1107 - val_loss: 0.1088\n",
            "Epoch 19/100\n",
            "235/235 [==============================] - 2s 9ms/step - loss: 0.1102 - val_loss: 0.1085\n",
            "Epoch 20/100\n",
            "235/235 [==============================] - 2s 9ms/step - loss: 0.1097 - val_loss: 0.1082\n",
            "Epoch 21/100\n",
            "235/235 [==============================] - 2s 9ms/step - loss: 0.1096 - val_loss: 0.1079\n",
            "Epoch 22/100\n",
            "235/235 [==============================] - 2s 9ms/step - loss: 0.1093 - val_loss: 0.1078\n",
            "Epoch 23/100\n",
            "235/235 [==============================] - 2s 9ms/step - loss: 0.1087 - val_loss: 0.1075\n",
            "Epoch 24/100\n",
            "235/235 [==============================] - 2s 9ms/step - loss: 0.1090 - val_loss: 0.1073\n",
            "Epoch 25/100\n",
            "235/235 [==============================] - 2s 9ms/step - loss: 0.1084 - val_loss: 0.1072\n",
            "Epoch 26/100\n",
            "235/235 [==============================] - 2s 9ms/step - loss: 0.1084 - val_loss: 0.1069\n",
            "Epoch 27/100\n",
            "235/235 [==============================] - 2s 9ms/step - loss: 0.1082 - val_loss: 0.1068\n",
            "Epoch 28/100\n",
            "235/235 [==============================] - 2s 9ms/step - loss: 0.1084 - val_loss: 0.1070\n",
            "Epoch 29/100\n",
            "235/235 [==============================] - 2s 9ms/step - loss: 0.1080 - val_loss: 0.1066\n",
            "Epoch 30/100\n",
            "235/235 [==============================] - 2s 9ms/step - loss: 0.1076 - val_loss: 0.1066\n",
            "Epoch 31/100\n",
            "235/235 [==============================] - 2s 9ms/step - loss: 0.1074 - val_loss: 0.1064\n",
            "Epoch 32/100\n",
            "235/235 [==============================] - 2s 9ms/step - loss: 0.1078 - val_loss: 0.1064\n",
            "Epoch 33/100\n",
            "235/235 [==============================] - 2s 9ms/step - loss: 0.1077 - val_loss: 0.1062\n",
            "Epoch 34/100\n",
            "235/235 [==============================] - 2s 9ms/step - loss: 0.1074 - val_loss: 0.1061\n",
            "Epoch 35/100\n",
            "235/235 [==============================] - 2s 9ms/step - loss: 0.1073 - val_loss: 0.1060\n",
            "Epoch 36/100\n",
            "235/235 [==============================] - 2s 9ms/step - loss: 0.1076 - val_loss: 0.1060\n",
            "Epoch 37/100\n",
            "235/235 [==============================] - 2s 9ms/step - loss: 0.1071 - val_loss: 0.1060\n",
            "Epoch 38/100\n",
            "235/235 [==============================] - 2s 9ms/step - loss: 0.1071 - val_loss: 0.1058\n",
            "Epoch 39/100\n",
            "235/235 [==============================] - 2s 9ms/step - loss: 0.1072 - val_loss: 0.1059\n",
            "Epoch 40/100\n",
            "235/235 [==============================] - 2s 9ms/step - loss: 0.1069 - val_loss: 0.1057\n",
            "Epoch 41/100\n",
            "235/235 [==============================] - 2s 9ms/step - loss: 0.1069 - val_loss: 0.1056\n",
            "Epoch 42/100\n",
            "235/235 [==============================] - 2s 9ms/step - loss: 0.1071 - val_loss: 0.1056\n",
            "Epoch 43/100\n",
            "235/235 [==============================] - 2s 9ms/step - loss: 0.1069 - val_loss: 0.1056\n",
            "Epoch 44/100\n",
            "235/235 [==============================] - 2s 9ms/step - loss: 0.1066 - val_loss: 0.1054\n",
            "Epoch 45/100\n",
            "235/235 [==============================] - 2s 9ms/step - loss: 0.1068 - val_loss: 0.1053\n",
            "Epoch 46/100\n",
            "235/235 [==============================] - 2s 9ms/step - loss: 0.1067 - val_loss: 0.1053\n",
            "Epoch 47/100\n",
            "235/235 [==============================] - 2s 9ms/step - loss: 0.1065 - val_loss: 0.1053\n",
            "Epoch 48/100\n",
            "235/235 [==============================] - 2s 9ms/step - loss: 0.1063 - val_loss: 0.1051\n",
            "Epoch 49/100\n",
            "235/235 [==============================] - 2s 9ms/step - loss: 0.1064 - val_loss: 0.1051\n",
            "Epoch 50/100\n",
            "235/235 [==============================] - 2s 9ms/step - loss: 0.1064 - val_loss: 0.1050\n",
            "Epoch 51/100\n",
            "235/235 [==============================] - 2s 9ms/step - loss: 0.1060 - val_loss: 0.1051\n",
            "Epoch 52/100\n",
            "235/235 [==============================] - 2s 9ms/step - loss: 0.1061 - val_loss: 0.1049\n",
            "Epoch 53/100\n",
            "235/235 [==============================] - 2s 9ms/step - loss: 0.1060 - val_loss: 0.1050\n",
            "Epoch 54/100\n",
            "235/235 [==============================] - 2s 9ms/step - loss: 0.1060 - val_loss: 0.1049\n",
            "Epoch 55/100\n",
            "235/235 [==============================] - 2s 9ms/step - loss: 0.1059 - val_loss: 0.1048\n",
            "Epoch 56/100\n",
            "235/235 [==============================] - 2s 9ms/step - loss: 0.1059 - val_loss: 0.1048\n",
            "Epoch 57/100\n",
            "235/235 [==============================] - 2s 9ms/step - loss: 0.1060 - val_loss: 0.1047\n",
            "Epoch 58/100\n",
            "235/235 [==============================] - 2s 9ms/step - loss: 0.1059 - val_loss: 0.1045\n",
            "Epoch 59/100\n",
            "235/235 [==============================] - 2s 9ms/step - loss: 0.1059 - val_loss: 0.1046\n",
            "Epoch 60/100\n",
            "235/235 [==============================] - 2s 9ms/step - loss: 0.1057 - val_loss: 0.1045\n",
            "Epoch 61/100\n",
            "235/235 [==============================] - 2s 9ms/step - loss: 0.1058 - val_loss: 0.1044\n",
            "Epoch 62/100\n",
            "235/235 [==============================] - 2s 9ms/step - loss: 0.1057 - val_loss: 0.1043\n",
            "Epoch 63/100\n",
            "235/235 [==============================] - 2s 9ms/step - loss: 0.1055 - val_loss: 0.1042\n",
            "Epoch 64/100\n",
            "235/235 [==============================] - 2s 9ms/step - loss: 0.1055 - val_loss: 0.1042\n",
            "Epoch 65/100\n",
            "235/235 [==============================] - 2s 9ms/step - loss: 0.1053 - val_loss: 0.1041\n",
            "Epoch 66/100\n",
            "235/235 [==============================] - 2s 9ms/step - loss: 0.1051 - val_loss: 0.1039\n",
            "Epoch 67/100\n",
            "235/235 [==============================] - 2s 9ms/step - loss: 0.1051 - val_loss: 0.1041\n",
            "Epoch 68/100\n",
            "235/235 [==============================] - 2s 9ms/step - loss: 0.1051 - val_loss: 0.1040\n",
            "Epoch 69/100\n",
            "235/235 [==============================] - 2s 9ms/step - loss: 0.1050 - val_loss: 0.1038\n",
            "Epoch 70/100\n",
            "235/235 [==============================] - 2s 9ms/step - loss: 0.1051 - val_loss: 0.1040\n",
            "Epoch 71/100\n",
            "235/235 [==============================] - 2s 9ms/step - loss: 0.1050 - val_loss: 0.1038\n",
            "Epoch 72/100\n",
            "235/235 [==============================] - 2s 9ms/step - loss: 0.1049 - val_loss: 0.1037\n",
            "Epoch 73/100\n",
            "235/235 [==============================] - 2s 9ms/step - loss: 0.1048 - val_loss: 0.1036\n",
            "Epoch 74/100\n",
            "235/235 [==============================] - 2s 9ms/step - loss: 0.1048 - val_loss: 0.1035\n",
            "Epoch 75/100\n",
            "235/235 [==============================] - 2s 9ms/step - loss: 0.1049 - val_loss: 0.1036\n",
            "Epoch 76/100\n",
            "235/235 [==============================] - 2s 9ms/step - loss: 0.1046 - val_loss: 0.1035\n",
            "Epoch 77/100\n",
            "235/235 [==============================] - 2s 9ms/step - loss: 0.1045 - val_loss: 0.1033\n",
            "Epoch 78/100\n",
            "235/235 [==============================] - 2s 9ms/step - loss: 0.1047 - val_loss: 0.1034\n",
            "Epoch 79/100\n",
            "235/235 [==============================] - 2s 9ms/step - loss: 0.1045 - val_loss: 0.1033\n",
            "Epoch 80/100\n",
            "235/235 [==============================] - 2s 9ms/step - loss: 0.1047 - val_loss: 0.1032\n",
            "Epoch 81/100\n",
            "235/235 [==============================] - 2s 9ms/step - loss: 0.1045 - val_loss: 0.1031\n",
            "Epoch 82/100\n",
            "235/235 [==============================] - 2s 9ms/step - loss: 0.1045 - val_loss: 0.1032\n",
            "Epoch 83/100\n",
            "235/235 [==============================] - 2s 9ms/step - loss: 0.1043 - val_loss: 0.1030\n",
            "Epoch 84/100\n",
            "235/235 [==============================] - 2s 9ms/step - loss: 0.1043 - val_loss: 0.1030\n",
            "Epoch 85/100\n",
            "235/235 [==============================] - 2s 9ms/step - loss: 0.1045 - val_loss: 0.1030\n",
            "Epoch 86/100\n",
            "235/235 [==============================] - 2s 9ms/step - loss: 0.1041 - val_loss: 0.1030\n",
            "Epoch 87/100\n",
            "235/235 [==============================] - 2s 9ms/step - loss: 0.1042 - val_loss: 0.1029\n",
            "Epoch 88/100\n",
            "235/235 [==============================] - 2s 9ms/step - loss: 0.1042 - val_loss: 0.1027\n",
            "Epoch 89/100\n",
            "235/235 [==============================] - 2s 9ms/step - loss: 0.1040 - val_loss: 0.1028\n",
            "Epoch 90/100\n",
            "235/235 [==============================] - 2s 9ms/step - loss: 0.1042 - val_loss: 0.1027\n",
            "Epoch 91/100\n",
            "235/235 [==============================] - 2s 9ms/step - loss: 0.1040 - val_loss: 0.1028\n",
            "Epoch 92/100\n",
            "235/235 [==============================] - 2s 9ms/step - loss: 0.1040 - val_loss: 0.1026\n",
            "Epoch 93/100\n",
            "235/235 [==============================] - 2s 9ms/step - loss: 0.1040 - val_loss: 0.1026\n",
            "Epoch 94/100\n",
            "235/235 [==============================] - 2s 9ms/step - loss: 0.1039 - val_loss: 0.1026\n",
            "Epoch 95/100\n",
            "235/235 [==============================] - 2s 9ms/step - loss: 0.1037 - val_loss: 0.1025\n",
            "Epoch 96/100\n",
            "235/235 [==============================] - 2s 9ms/step - loss: 0.1038 - val_loss: 0.1025\n",
            "Epoch 97/100\n",
            "235/235 [==============================] - 2s 9ms/step - loss: 0.1039 - val_loss: 0.1025\n",
            "Epoch 98/100\n",
            "235/235 [==============================] - 2s 9ms/step - loss: 0.1035 - val_loss: 0.1025\n",
            "Epoch 99/100\n",
            "235/235 [==============================] - 2s 9ms/step - loss: 0.1034 - val_loss: 0.1024\n",
            "Epoch 100/100\n",
            "235/235 [==============================] - 2s 9ms/step - loss: 0.1037 - val_loss: 0.1023\n"
          ],
          "name": "stdout"
        }
      ]
    },
    {
      "cell_type": "code",
      "metadata": {
        "colab": {
          "base_uri": "https://localhost:8080/",
          "height": 299
        },
        "id": "lbTqiz_ZNfnp",
        "outputId": "7bd9c498-3972-42c8-87b7-c9665c06dee3"
      },
      "source": [
        "import matplotlib\n",
        "import matplotlib.pyplot as plt\n",
        "%matplotlib inline\n",
        "# construct a plot that plots and displays the training history\n",
        "N = np.arange(0, 100)\n",
        "plt.style.use('ggplot')\n",
        "plt.figure()\n",
        "plt.plot(N, history.history['loss'], label='train_loss')\n",
        "plt.plot(N, history.history['val_loss'], label='val_loss')\n",
        "plt.title('Training Loss and Accuracy')\n",
        "plt.xlabel('Epoch #')\n",
        "plt.ylabel('Loss/Accuracy')\n",
        "plt.legend(loc='lower left')\n",
        "# plt.savefig(plot)\n",
        "plt.show(block=True)"
      ],
      "execution_count": 22,
      "outputs": [
        {
          "output_type": "display_data",
          "data": {
            "image/png": "[encoded data removed]",
            "text/plain": [
              "<Figure size 432x288 with 1 Axes>"
            ]
          },
          "metadata": {
            "tags": []
          }
        }
      ]
    },
    {
      "cell_type": "code",
      "metadata": {
        "colab": {
          "base_uri": "https://localhost:8080/"
        },
        "id": "Yeb_Z9jmOiky",
        "outputId": "ff565f8b-3671-452d-887d-19a9b4b93f31"
      },
      "source": [
        "\n",
        "decoded_imgs = deeperautoencoder.predict(X_test)\n",
        "bce = tf.keras.losses.BinaryCrossentropy()\n",
        "bce(X_test, decoded_imgs).numpy()\n",
        "\n"
      ],
      "execution_count": 23,
      "outputs": [
        {
          "output_type": "execute_result",
          "data": {
            "text/plain": [
              "0.10036845"
            ]
          },
          "metadata": {
            "tags": []
          },
          "execution_count": 23
        }
      ]
    },
    {
      "cell_type": "markdown",
      "metadata": {
        "id": "kZceXpA7SxDL"
      },
      "source": [
        "**ERROR ON 3 LAYERS - 0.0876**\n",
        "\n",
        "**ERROR ON 2 LAYERS - 0.08976**\n",
        "\n",
        "**ERROR ON 1 LAYER - 0.100**"
      ]
    },
    {
      "cell_type": "code",
      "metadata": {
        "colab": {
          "base_uri": "https://localhost:8080/",
          "height": 299
        },
        "id": "6HVTuIpzTNeT",
        "outputId": "910e4911-5f20-44b3-9ff9-decaa5ab41f6"
      },
      "source": [
        "import matplotlib.pyplot as plt \n",
        "x = [1,2,3] \n",
        "y = [0.1,0.089,0.0876]\n",
        "plt.plot(x, y)  \n",
        "plt.xlabel('Number of Hidden Layers')  \n",
        "plt.ylabel('Error') \n",
        "plt.title('Hidden Layer and error') \n",
        "plt.show() "
      ],
      "execution_count": 24,
      "outputs": [
        {
          "output_type": "display_data",
          "data": {
            "image/png": "[encoded data removed]",
            "text/plain": [
              "<Figure size 432x288 with 1 Axes>"
            ]
          },
          "metadata": {
            "tags": []
          }
        }
      ]
    },
    {
      "cell_type": "markdown",
      "metadata": {
        "id": "rkvflceIXkR-"
      },
      "source": [
        "# **PCA and AUTOENCODER COMAPARISION**"
      ]
    },
    {
      "cell_type": "code",
      "metadata": {
        "id": "SIJgpbH9YAkE"
      },
      "source": [
        "from sklearn.decomposition import PCA\n",
        "pca = PCA(64)\n",
        "pca.fit(X_train)\n",
        "TRAIN = pca.transform(X_train)\n",
        "TEST = pca.transform(X_test)\n",
        "approximation = pca.inverse_transform(TEST)"
      ],
      "execution_count": 29,
      "outputs": []
    },
    {
      "cell_type": "code",
      "metadata": {
        "colab": {
          "base_uri": "https://localhost:8080/"
        },
        "id": "VsKpuOHsLC69",
        "outputId": "e627634a-1eb1-42ce-ef07-483c0ac0109a"
      },
      "source": [
        "bce = tf.keras.losses.BinaryCrossentropy()\n",
        "bce(X_test, approximation).numpy()\n"
      ],
      "execution_count": 30,
      "outputs": [
        {
          "output_type": "execute_result",
          "data": {
            "text/plain": [
              "0.09459785"
            ]
          },
          "metadata": {
            "tags": []
          },
          "execution_count": 30
        }
      ]
    },
    {
      "cell_type": "markdown",
      "metadata": {
        "id": "eLMgr1g_USg2"
      },
      "source": [
        "**ERROR USING PCA = 0.094**\n",
        "\n",
        "**ERROR USING  DENSE ADAM AUTOENCODER - 0.086**"
      ]
    }
  ]
}